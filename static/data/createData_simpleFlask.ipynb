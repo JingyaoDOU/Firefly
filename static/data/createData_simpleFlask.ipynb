{
 "cells": [
  {
   "cell_type": "markdown",
   "metadata": {},
   "source": [
    "# Test sending data to Firefly through Flask\n",
    "\n",
    "*Working from customReader.ipynb*\n"
   ]
  },
  {
   "cell_type": "code",
   "execution_count": 1,
   "metadata": {},
   "outputs": [],
   "source": [
    "%load_ext autoreload\n",
    "%autoreload 2\n",
    "\n",
    "from firefly_api.reader import Reader\n",
    "from firefly_api.particlegroup import ParticleGroup\n",
    "import numpy as np\n",
    "import pandas as pd\n",
    "\n",
    "import sys\n",
    "import json\n",
    "import requests\n",
    "from IPython.display import IFrame"
   ]
  },
  {
   "cell_type": "markdown",
   "metadata": {},
   "source": [
    "### Start the server"
   ]
  },
  {
   "cell_type": "code",
   "execution_count": 2,
   "metadata": {},
   "outputs": [],
   "source": [
    "%%bash --bg --proc bg_proc\n",
    "python /Users/ageller/Visualizations/Firefly/FireflyFlaskApp.py"
   ]
  },
  {
   "cell_type": "markdown",
   "metadata": {},
   "source": [
    "## Show Firefly in an IFrame"
   ]
  },
  {
   "cell_type": "code",
   "execution_count": 13,
   "metadata": {},
   "outputs": [
    {
     "data": {
      "text/html": [
       "\n",
       "        <iframe\n",
       "            width=\"1000\"\n",
       "            height=\"500\"\n",
       "            src=\"http://localhost:5000/combined\"\n",
       "            frameborder=\"0\"\n",
       "            allowfullscreen\n",
       "        ></iframe>\n",
       "        "
      ],
      "text/plain": [
       "<IPython.lib.display.IFrame at 0x123e147b8>"
      ]
     },
     "execution_count": 13,
     "metadata": {},
     "output_type": "execute_result"
    }
   ],
   "source": [
    "url = \"http://localhost:5000/combined\"\n",
    "IFrame(url, width=1000, height=500)"
   ]
  },
  {
   "cell_type": "markdown",
   "metadata": {},
   "source": [
    "### Create a new \"reader\", that will accept particles and output a properly formatted dict"
   ]
  },
  {
   "cell_type": "code",
   "execution_count": 8,
   "metadata": {},
   "outputs": [],
   "source": [
    "def simpleReader(name, coords, color, sizeMult):\n",
    "    #create the reader\n",
    "    my_reader = Reader(\n",
    "        ## the name of the sub-directory that will contain your JSON files,\n",
    "        ##  if you are not running python from /path/to/Firefly/data it should be the absolute path\n",
    "        JSONdir = '/foo/', #this is silly, but required for now\n",
    "        ## options object, if you have one you can pass it, None will generate default options, see\n",
    "        ##  below for options arguments/capabilities\n",
    "        options = None, \n",
    "        ## whether a startup.json file should be written, defaults to 'append'\n",
    "        doValidate = False\n",
    "    )\n",
    "\n",
    "    #define a particle group\n",
    "    my_parts = ParticleGroup(\n",
    "        name,\n",
    "        coords,\n",
    "        ## below here I pass a few option_kwargs to set the size and color of the points\n",
    "        sizeMult=sizeMult, \n",
    "        color = color, \n",
    "    )\n",
    "\n",
    "    ## tell the reader to keep track of this particle group\n",
    "    my_reader.addParticleGroup(my_parts)\n",
    "\n",
    "    ## Store this info in dicts with the correct format for Firefly\n",
    "    outDict = {\"parts\":{}, \"options\":None}\n",
    "    for pg in my_reader.particleGroups:\n",
    "        outDict['parts'][pg.UIname] = pg.outputToDict()\n",
    "    outDict['options'] = my_reader.options.outputToDict()\n",
    "    \n",
    "    return outDict\n"
   ]
  },
  {
   "cell_type": "markdown",
   "metadata": {},
   "source": [
    "### Create some data, and get the Firefly dict"
   ]
  },
  {
   "cell_type": "code",
   "execution_count": 9,
   "metadata": {},
   "outputs": [
    {
     "name": "stdout",
     "output_type": "stream",
     "text": [
      "(8000, 3)\n",
      "(8000, 3)\n"
     ]
    }
   ],
   "source": [
    "## Here I'll create a grid of points in the shape of a cube\n",
    "my_coords = np.linspace(-10,10,20)\n",
    "xs,ys,zs = np.meshgrid(my_coords,my_coords,my_coords)\n",
    "xs,ys,zs = xs.flatten(),ys.flatten(),zs.flatten()\n",
    "coords = np.array([xs,ys,zs]).T\n",
    "print(coords.shape)\n",
    "\n",
    "## make the particles a bit easier to see since there's so few of them\n",
    "sizeMult = 5\n",
    "\n",
    "## colors should be RGBA lists\n",
    "color = [1,1,0,1]\n",
    "\n",
    "## choose some name\n",
    "name = 'part1'\n",
    "\n",
    "outDict = simpleReader(name, coords, color, sizeMult)\n",
    "#print(outDict)\n",
    "print(outDict['parts'][name]['Coordinates'].shape)"
   ]
  },
  {
   "cell_type": "markdown",
   "metadata": {},
   "source": [
    "## Send this data to the Flask app"
   ]
  },
  {
   "cell_type": "markdown",
   "metadata": {},
   "source": [
    "*This sends the data.  (Then look back above to see it.)*"
   ]
  },
  {
   "cell_type": "code",
   "execution_count": 14,
   "metadata": {},
   "outputs": [
    {
     "data": {
      "text/plain": [
       "<Response [200]>"
      ]
     },
     "execution_count": 14,
     "metadata": {},
     "output_type": "execute_result"
    }
   ],
   "source": [
    "s = pd.Series(outDict).to_json()\n",
    "requests.post(\"http://localhost:5000/data_input\", json=s)"
   ]
  },
  {
   "cell_type": "markdown",
   "metadata": {},
   "source": [
    "*To kill the Firefly server.*"
   ]
  },
  {
   "cell_type": "code",
   "execution_count": null,
   "metadata": {},
   "outputs": [],
   "source": [
    "# uncomment the next line\n",
    "#! ps aux | grep Firefly | awk '{print $2}' | xargs kill\n"
   ]
  },
  {
   "cell_type": "code",
   "execution_count": null,
   "metadata": {},
   "outputs": [],
   "source": []
  }
 ],
 "metadata": {
  "anaconda-cloud": {},
  "kernelspec": {
   "display_name": "Python 3",
   "language": "python",
   "name": "python3"
  },
  "language_info": {
   "codemirror_mode": {
    "name": "ipython",
    "version": 3
   },
   "file_extension": ".py",
   "mimetype": "text/x-python",
   "name": "python",
   "nbconvert_exporter": "python",
   "pygments_lexer": "ipython3",
   "version": "3.6.8"
  }
 },
 "nbformat": 4,
 "nbformat_minor": 2
}

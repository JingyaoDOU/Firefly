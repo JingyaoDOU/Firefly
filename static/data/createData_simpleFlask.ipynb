{
 "cells": [
  {
   "cell_type": "markdown",
   "metadata": {},
   "source": [
    "# Test sending data to Firefly through Flask\n",
    "\n",
    "*Working from customReader.ipynb*\n"
   ]
  },
  {
   "cell_type": "code",
   "execution_count": 1,
   "metadata": {},
   "outputs": [],
   "source": [
    "%load_ext autoreload\n",
    "%autoreload 2\n",
    "\n",
    "from firefly_api.reader import Reader\n",
    "from firefly_api.particlegroup import ParticleGroup\n",
    "import numpy as np\n",
    "import pandas as pd"
   ]
  },
  {
   "cell_type": "markdown",
   "metadata": {},
   "source": [
    "### Set the defaults and create the .json files"
   ]
  },
  {
   "cell_type": "code",
   "execution_count": 4,
   "metadata": {},
   "outputs": [
    {
     "name": "stdout",
     "output_type": "stream",
     "text": [
      "(8000, 3)\n"
     ]
    }
   ],
   "source": [
    "#create tje reader\n",
    "my_reader = Reader(\n",
    "    ## the name of the sub-directory that will contain your JSON files,\n",
    "    ##  if you are not running python from /path/to/Firefly/data it should be the absolute path\n",
    "    JSONdir = '/Users/agurvich/research/repos/Firefly/data/MyReader', \n",
    "    ## options object, if you have one you can pass it, None will generate default options, see\n",
    "    ##  below for options arguments/capabilities\n",
    "    options = None, \n",
    "    ## whether a startup.json file should be written, defaults to 'append'\n",
    "    write_startup = True,\n",
    "    max_npart_per_file= 10**4, \n",
    "    prefix = 'MyData',\n",
    "    clean_JSONdir = False,\n",
    "    doValidate = False\n",
    ")\n",
    "\n",
    "\n",
    "## Here I'll create a grid of points in the shape of a cube\n",
    "my_coords = np.linspace(-10,10,20)\n",
    "xs,ys,zs = np.meshgrid(my_coords,my_coords,my_coords)\n",
    "xs,ys,zs = xs.flatten(),ys.flatten(),zs.flatten()\n",
    "coords = np.array([xs,ys,zs]).T\n",
    "print(coords.shape)\n",
    "\n",
    "#define a particle group\n",
    "my_parts = ParticleGroup(\n",
    "    'part',\n",
    "    coords,\n",
    "    ## below here I pass a few option_kwargs to set the size and color of the points\n",
    "    sizeMult=5, ## make the particles a bit easier to see since there's so few of them\n",
    "    color = [0,0,1,1], ## make them blue, I like blue. colors should be RGBA lists\n",
    "    )\n",
    "\n",
    "## tell the reader to keep track of this particle group\n",
    "my_reader.addParticleGroup(my_parts)\n",
    "\n",
    "## Store this info in dicts with the correct format for Firefly\n",
    "outDict = {\"parts\":{}, \"options\":None}\n",
    "for pg in my_reader.particleGroups:\n",
    "    outDict['parts'][pg.UIname] = pg.outputToDict(np.arange(1000))\n",
    "outDict['options'] = my_reader.options.outputToDict()\n"
   ]
  },
  {
   "cell_type": "code",
   "execution_count": 5,
   "metadata": {},
   "outputs": [
    {
     "name": "stdout",
     "output_type": "stream",
     "text": [
      "{'parts': {'part': {'Coordinates': array([[-10.        , -10.        , -10.        ],\n",
      "       [-10.        , -10.        ,  -8.94736842],\n",
      "       [-10.        , -10.        ,  -7.89473684],\n",
      "       ...,\n",
      "       [ -0.52631579,  -7.89473684,   7.89473684],\n",
      "       [ -0.52631579,  -7.89473684,   8.94736842],\n",
      "       [ -0.52631579,  -7.89473684,  10.        ]]), 'filterKeys': array([], dtype=float64), 'colormapKeys': array([], dtype=float64), 'doSPHrad': [0]}}, 'options': {'title': 'Firefly', 'loaded': True, 'UI': True, 'UIfullscreen': True, 'UIsnapshot': True, 'UIreset': True, 'UIsavePreset': True, 'UIloadNewData': True, 'UIcameraControls': True, 'UIdecimation': True, 'UIparticle': {'part': True}, 'UIdropdown': {'part': True}, 'UIcolorPicker': {'part': True}, 'center': array([0., 0., 0.]), 'camera': None, 'cameraRotation': None, 'maxVrange': 2000.0, 'startFly': False, 'friction': None, 'stereo': False, 'stereoSep': None, 'decimate': None, 'plotNmax': {'part': None}, 'showVel': {'part': False}, 'velType': {'part': None}, 'color': {'part': [0, 0, 1, 1]}, 'sizeMult': {'part': 5}, 'showParts': {'part': True}, 'filterVals': {'part': {}}, 'filterLims': {'part': {}}, 'colormapVals': {'part': {}}, 'colormapLims': {'part': {}}}}\n"
     ]
    }
   ],
   "source": [
    "print(outDict)"
   ]
  },
  {
   "cell_type": "markdown",
   "metadata": {},
   "source": [
    "## Send this data to the Flask app"
   ]
  },
  {
   "cell_type": "code",
   "execution_count": 7,
   "metadata": {},
   "outputs": [],
   "source": [
    "import sys\n",
    "import json\n",
    "import requests\n",
    "from IPython.display import IFrame"
   ]
  },
  {
   "cell_type": "markdown",
   "metadata": {},
   "source": [
    "*This sends the data.*"
   ]
  },
  {
   "cell_type": "code",
   "execution_count": 8,
   "metadata": {},
   "outputs": [
    {
     "data": {
      "text/plain": [
       "<Response [200]>"
      ]
     },
     "execution_count": 8,
     "metadata": {},
     "output_type": "execute_result"
    }
   ],
   "source": [
    "s = pd.Series(outDict).to_json()\n",
    "requests.post(\"http://localhost:5000/data_input\", json=s)"
   ]
  },
  {
   "cell_type": "markdown",
   "metadata": {},
   "source": [
    "*This shows the viewer.*"
   ]
  },
  {
   "cell_type": "code",
   "execution_count": 104,
   "metadata": {},
   "outputs": [
    {
     "data": {
      "text/html": [
       "\n",
       "        <iframe\n",
       "            width=\"700\"\n",
       "            height=\"300\"\n",
       "            src=\"http://localhost:5000/combined\"\n",
       "            frameborder=\"0\"\n",
       "            allowfullscreen\n",
       "        ></iframe>\n",
       "        "
      ],
      "text/plain": [
       "<IPython.lib.display.IFrame at 0x1220a5358>"
      ]
     },
     "execution_count": 104,
     "metadata": {},
     "output_type": "execute_result"
    }
   ],
   "source": [
    "url = \"http://localhost:5000/combined\"\n",
    "IFrame(url, width=700, height=300)"
   ]
  },
  {
   "cell_type": "code",
   "execution_count": null,
   "metadata": {},
   "outputs": [],
   "source": []
  }
 ],
 "metadata": {
  "anaconda-cloud": {},
  "kernelspec": {
   "display_name": "Python 3",
   "language": "python",
   "name": "python3"
  },
  "language_info": {
   "codemirror_mode": {
    "name": "ipython",
    "version": 3
   },
   "file_extension": ".py",
   "mimetype": "text/x-python",
   "name": "python",
   "nbconvert_exporter": "python",
   "pygments_lexer": "ipython3",
   "version": "3.6.8"
  }
 },
 "nbformat": 4,
 "nbformat_minor": 2
}

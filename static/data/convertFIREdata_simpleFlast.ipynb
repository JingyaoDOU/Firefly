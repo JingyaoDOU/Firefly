{
 "cells": [
  {
   "cell_type": "markdown",
   "metadata": {},
   "source": [
    "# Convert FIRE data\n",
    "\n",
    "This script will convert the FIRE .hdf5 files into a .json data files that can be read into Firefly. \n",
    "\n",
    "FIREreader is the class that will allow you to read in files within a directory, create the dictionary, and write out the json files\n"
   ]
  },
  {
   "cell_type": "code",
   "execution_count": 46,
   "metadata": {},
   "outputs": [
    {
     "name": "stdout",
     "output_type": "stream",
     "text": [
      "The autoreload extension is already loaded. To reload it, use:\n",
      "  %reload_ext autoreload\n"
     ]
    }
   ],
   "source": [
    "%load_ext autoreload\n",
    "%autoreload 2\n",
    "\n",
    "from firefly_api.FIREreader import FIREreader\n",
    "import numpy as np\n",
    "import pandas as pd"
   ]
  },
  {
   "cell_type": "markdown",
   "metadata": {},
   "source": [
    "### Set the defaults and create the .json files"
   ]
  },
  {
   "cell_type": "code",
   "execution_count": 137,
   "metadata": {},
   "outputs": [
    {
     "name": "stdout",
     "output_type": "stream",
     "text": [
      "Loading ptype PartType0\n",
      "/Users/ageller/Visualizations/FIREdata/snapdir_050/snapshot_050.0.hdf5\n",
      "Loading ptype PartType4\n",
      "/Users/ageller/Visualizations/FIREdata/snapdir_050/snapshot_050.0.hdf5\n"
     ]
    }
   ],
   "source": [
    "reader = FIREreader(\n",
    "    #snapdir = \"/Users/agurvich/research/snaps/Control_G4_20/snapdir_050/\",\n",
    "    snapdir = \"/Users/ageller/Visualizations/FIREdata/snapdir_050/\",\n",
    "    snapnum = 50,\n",
    "    ptypes=['PartType0','PartType4'],\n",
    "    UInames=['Gas','Stars'],\n",
    "    dec_factors=[10,100],\n",
    "    returnKeys=['Density','Velocities','Temperature'],\n",
    "    doMags=[0,0,0],\n",
    "    doLogs=[1,0,1],\n",
    "    filterFlags=[1,1,1], ## Note: previously Velocities were automatically included, now you must mark 1 to filter \n",
    "    colormapFlags=[1,1,1], \n",
    "    JSONdir='/Users/ageller/Visualizations/Firefly/static/data/',\n",
    "    doValidate=False #Added this in to FIREreader.py and reader.py\n",
    ")\n",
    "reader.loadData()\n",
    "\n",
    "reader.options['color']['Gas']=[1,0,0,1]\n",
    "reader.options['color']['Stars']=[0,0,1,1]\n",
    "reader.options['sizeMult']['Gas']=0.3\n",
    "reader.options['sizeMult']['Stars']=0.3\n",
    "\n",
    "#reader.dumpToJSON()\n",
    "\n",
    "outDict = {\"parts\":{}, \"options\":None}\n",
    "for particleGroup in reader.particleGroups:\n",
    "    if (particleGroup.UIname == \"Gas\"):\n",
    "        outDict['parts'][particleGroup.UIname] = particleGroup.outputToDict(np.arange(1000))\n",
    "outDict['options'] = reader.options.outputToDict()\n"
   ]
  },
  {
   "cell_type": "code",
   "execution_count": 126,
   "metadata": {},
   "outputs": [],
   "source": [
    "#print(outDict)"
   ]
  },
  {
   "cell_type": "markdown",
   "metadata": {},
   "source": [
    "## Send this data to the Flask app"
   ]
  },
  {
   "cell_type": "code",
   "execution_count": 102,
   "metadata": {},
   "outputs": [],
   "source": [
    "import sys\n",
    "import json\n",
    "import requests\n",
    "from IPython.display import IFrame"
   ]
  },
  {
   "cell_type": "markdown",
   "metadata": {},
   "source": [
    "*This sends the data.*"
   ]
  },
  {
   "cell_type": "code",
   "execution_count": 139,
   "metadata": {},
   "outputs": [
    {
     "data": {
      "text/plain": [
       "<Response [200]>"
      ]
     },
     "execution_count": 139,
     "metadata": {},
     "output_type": "execute_result"
    }
   ],
   "source": [
    "s = pd.Series(outDict).to_json()\n",
    "requests.post(\"http://localhost:5000/data_input\", json=s)"
   ]
  },
  {
   "cell_type": "markdown",
   "metadata": {},
   "source": [
    "*This shows the viewer.*"
   ]
  },
  {
   "cell_type": "code",
   "execution_count": 104,
   "metadata": {},
   "outputs": [
    {
     "data": {
      "text/html": [
       "\n",
       "        <iframe\n",
       "            width=\"700\"\n",
       "            height=\"300\"\n",
       "            src=\"http://localhost:5000/combined\"\n",
       "            frameborder=\"0\"\n",
       "            allowfullscreen\n",
       "        ></iframe>\n",
       "        "
      ],
      "text/plain": [
       "<IPython.lib.display.IFrame at 0x1220a5358>"
      ]
     },
     "execution_count": 104,
     "metadata": {},
     "output_type": "execute_result"
    }
   ],
   "source": [
    "url = \"http://localhost:5000/combined\"\n",
    "IFrame(url, width=700, height=300)"
   ]
  },
  {
   "cell_type": "code",
   "execution_count": null,
   "metadata": {},
   "outputs": [],
   "source": []
  }
 ],
 "metadata": {
  "anaconda-cloud": {},
  "kernelspec": {
   "display_name": "Python 3",
   "language": "python",
   "name": "python3"
  },
  "language_info": {
   "codemirror_mode": {
    "name": "ipython",
    "version": 3
   },
   "file_extension": ".py",
   "mimetype": "text/x-python",
   "name": "python",
   "nbconvert_exporter": "python",
   "pygments_lexer": "ipython3",
   "version": "3.6.8"
  }
 },
 "nbformat": 4,
 "nbformat_minor": 2
}

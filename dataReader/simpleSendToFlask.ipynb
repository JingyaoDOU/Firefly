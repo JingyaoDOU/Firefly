{
 "cells": [
  {
   "cell_type": "markdown",
   "metadata": {},
   "source": [
    "# Test sending data to Firefly through Flask\n",
    "\n",
    "*Working from customReader.ipynb*\n"
   ]
  },
  {
   "cell_type": "code",
   "execution_count": 1,
   "metadata": {},
   "outputs": [],
   "source": [
    "import numpy as np\n",
    "import h5py\n",
    "\n",
    "import sys\n",
    "import json\n",
    "import requests\n",
    "from IPython.display import IFrame"
   ]
  },
  {
   "cell_type": "code",
   "execution_count": 3,
   "metadata": {},
   "outputs": [
    {
     "name": "stdout",
     "output_type": "stream",
     "text": [
      "The autoreload extension is already loaded. To reload it, use:\n",
      "  %reload_ext autoreload\n"
     ]
    }
   ],
   "source": [
    "%load_ext autoreload\n",
    "%autoreload 2\n",
    "\n",
    "from firefly_api.reader import SimpleReader\n",
    "\n",
    "sys.path.insert(0, '/Users/ageller/VISUALIZATIONS/Firefly')\n",
    "from FireflyFlaskApp import startFireflyServer"
   ]
  },
  {
   "cell_type": "markdown",
   "metadata": {},
   "source": [
    "## Start the server"
   ]
  },
  {
   "cell_type": "code",
   "execution_count": 5,
   "metadata": {},
   "outputs": [
    {
     "name": "stderr",
     "output_type": "stream",
     "text": [
      " * Restarting with fsevents reloader\n"
     ]
    },
    {
     "ename": "SystemExit",
     "evalue": "1",
     "output_type": "error",
     "traceback": [
      "An exception has occurred, use %tb to see the full traceback.\n",
      "\u001b[0;31mSystemExit\u001b[0m\u001b[0;31m:\u001b[0m 1\n"
     ]
    }
   ],
   "source": [
    "startFireflyServer()"
   ]
  },
  {
   "cell_type": "markdown",
   "metadata": {},
   "source": [
    "## Show Firefly in an IFrame"
   ]
  },
  {
   "cell_type": "code",
   "execution_count": null,
   "metadata": {},
   "outputs": [],
   "source": [
    "url = \"http://localhost:5000\"\n",
    "IFrame(url, width=1000, height=500)"
   ]
  },
  {
   "cell_type": "markdown",
   "metadata": {},
   "source": [
    "### Create some data, and get the Firefly dict"
   ]
  },
  {
   "cell_type": "code",
   "execution_count": 2,
   "metadata": {},
   "outputs": [
    {
     "name": "stdout",
     "output_type": "stream",
     "text": [
      "output to foo.hdf5\n",
      "output to foo.csv\n"
     ]
    }
   ],
   "source": [
    "## Here I'll create a grid of points in the shape of a cube\n",
    "my_coords = np.linspace(-10,10,20)\n",
    "xs,ys,zs = np.meshgrid(my_coords,my_coords,my_coords)\n",
    "xs,ys,zs = xs.flatten(),ys.flatten(),zs.flatten()\n",
    "coords = np.array([xs,ys,zs]).T\n",
    "\n",
    "with h5py.File(\"foo.hdf5\",'w') as handle:\n",
    "    group = handle.create_group('group1')\n",
    "    group['Coordinates'] = coords\n",
    "print(\"output to foo.hdf5\")\n",
    "\n",
    "np.savetxt('foo.csv',coords)\n",
    "print(\"output to foo.csv\")"
   ]
  },
  {
   "cell_type": "markdown",
   "metadata": {},
   "source": [
    "## Send this data to the Flask app"
   ]
  },
  {
   "cell_type": "code",
   "execution_count": 8,
   "metadata": {},
   "outputs": [
    {
     "name": "stdout",
     "output_type": "stream",
     "text": [
      "Opening 1 files and 1 particle types...\n",
      "JSONdir is None, defaulting to /Volumes/highnoon2go/highnoon/VISUALIZATIONS/Firefly/static/data/Data\n",
      "outputting: \n",
      "ParticleGroup: foo\n",
      "Contains 7999 particles (7999 after decimation) and 0 tracked fields\n",
      "posting...data posted!\n"
     ]
    }
   ],
   "source": [
    "## test out the csv\n",
    "fdir = '/Users/ageller/VISUALIZATIONS/Firefly/static/data/foo_csv'\n",
    "#simple = SimpleReader(\"foo.csv\",write_jsons_to_disk=False,extension='.csv')\n",
    "simple = SimpleReader(fdir,write_jsons_to_disk=False,extension='.csv')\n",
    "simple.sendDataViaFlask()"
   ]
  },
  {
   "cell_type": "code",
   "execution_count": 7,
   "metadata": {},
   "outputs": [
    {
     "name": "stdout",
     "output_type": "stream",
     "text": [
      "Opening 1 files and 1 particle types...\n",
      "JSONdir is None, defaulting to /Volumes/highnoon2go/highnoon/VISUALIZATIONS/Firefly/static/data/Data\n",
      "outputting: \n",
      "ParticleGroup: group1\n",
      "Contains 8000 particles (8000 after decimation) and 0 tracked fields\n",
      "posting...data posted!\n"
     ]
    }
   ],
   "source": [
    "## test out the hdf5\n",
    "fdir = '/Users/ageller/VISUALIZATIONS/Firefly/static/data/foo_hdf5'\n",
    "#simple = SimpleReader(\"foo.hdf5\",write_jsons_to_disk=False,extension='.hdf5')\n",
    "simple = SimpleReader(fdir,write_jsons_to_disk=False,extension='.hdf5')\n",
    "simple.sendDataViaFlask()"
   ]
  },
  {
   "cell_type": "code",
   "execution_count": 5,
   "metadata": {},
   "outputs": [
    {
     "name": "stdout",
     "output_type": "stream",
     "text": [
      "sending to Firefly 322432\n"
     ]
    },
    {
     "data": {
      "text/plain": [
       "<Response [200]>"
      ]
     },
     "execution_count": 5,
     "metadata": {},
     "output_type": "execute_result"
    }
   ],
   "source": [
    "## alternatively, make the request yourself (literally just copying the code from sendDataViaFlask())\n",
    "port = 5000\n",
    "print('sending to Firefly', sys.getsizeof(simple.JSON))\n",
    "requests.post(f'http://localhost:{port:d}/data_input',json=simple.JSON)"
   ]
  },
  {
   "cell_type": "code",
   "execution_count": 6,
   "metadata": {},
   "outputs": [
    {
     "name": "stdout",
     "output_type": "stream",
     "text": [
      "Opening 1 files and 6 particle types...\n",
      "JSONdir is None, defaulting to /Volumes/highnoon2go/highnoon/VISUALIZATIONS/Firefly/static/data/Data\n",
      "outputting: \n",
      "ParticleGroup: PartType0\n",
      "Contains 1066668 particles (10666 after decimation) and 0 tracked fields\n",
      "outputting: \n",
      "ParticleGroup: PartType1\n",
      "Contains 5860827 particles (58608 after decimation) and 0 tracked fields\n",
      "outputting: \n",
      "ParticleGroup: PartType2\n",
      "Contains 6175377 particles (61753 after decimation) and 0 tracked fields\n",
      "outputting: \n",
      "ParticleGroup: PartType3\n",
      "Contains 7732157 particles (77321 after decimation) and 0 tracked fields\n",
      "outputting: \n",
      "ParticleGroup: PartType4\n",
      "Contains 514118 particles (5141 after decimation) and 0 tracked fields\n",
      "outputting: \n",
      "ParticleGroup: PartType5\n",
      "Contains 1 particles (1 after decimation) and 0 tracked fields\n",
      "posting...data posted!\n"
     ]
    }
   ],
   "source": [
    "#test with FIRE data\n",
    "fdir = '/Users/ageller/VISUALIZATIONS/FIREdata/snapdir_050/'\n",
    "reader = SimpleReader(fdir, write_jsons_to_disk=False, decimation_factor=100)\n",
    "reader.sendDataViaFlask()"
   ]
  },
  {
   "cell_type": "markdown",
   "metadata": {},
   "source": [
    "*To kill the Firefly server.*"
   ]
  },
  {
   "cell_type": "code",
   "execution_count": null,
   "metadata": {},
   "outputs": [],
   "source": [
    "# uncomment the next line\n",
    "! ps aux | grep Firefly | awk '{print $2}' | xargs kill\n"
   ]
  },
  {
   "cell_type": "code",
   "execution_count": null,
   "metadata": {},
   "outputs": [],
   "source": []
  }
 ],
 "metadata": {
  "anaconda-cloud": {},
  "interpreter": {
   "hash": "f534f06944b7101ee418c38585e628955b3f3d62b78942ee260617f70aa005fb"
  },
  "kernelspec": {
   "display_name": "Python 3",
   "language": "python",
   "name": "python3"
  },
  "language_info": {
   "codemirror_mode": {
    "name": "ipython",
    "version": 3
   },
   "file_extension": ".py",
   "mimetype": "text/x-python",
   "name": "python",
   "nbconvert_exporter": "python",
   "pygments_lexer": "ipython3",
   "version": "3.8.3"
  }
 },
 "nbformat": 4,
 "nbformat_minor": 2
}

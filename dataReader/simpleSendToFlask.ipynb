{
 "cells": [
  {
   "cell_type": "markdown",
   "metadata": {},
   "source": [
    "# Test sending data to Firefly through Flask\n",
    "\n",
    "*Working from customReader.ipynb*\n"
   ]
  },
  {
   "cell_type": "code",
   "execution_count": 1,
   "metadata": {},
   "outputs": [],
   "source": [
    "%load_ext autoreload\n",
    "%autoreload 2\n",
    "\n",
    "from firefly_api.reader import SimpleReader\n",
    "import numpy as np\n",
    "import h5py\n",
    "\n",
    "import sys\n",
    "import json\n",
    "import requests\n",
    "from IPython.display import IFrame"
   ]
  },
  {
   "cell_type": "markdown",
   "metadata": {},
   "source": [
    "## Start the server"
   ]
  },
  {
   "cell_type": "code",
   "execution_count": null,
   "metadata": {},
   "outputs": [],
   "source": [
    "%%bash --bg --proc bg_proc\n",
    "python /Users/ageller/Visualizations/Firefly/FireflyFlaskApp.py"
   ]
  },
  {
   "cell_type": "markdown",
   "metadata": {},
   "source": [
    "## Show Firefly in an IFrame"
   ]
  },
  {
   "cell_type": "code",
   "execution_count": null,
   "metadata": {
    "scrolled": true
   },
   "outputs": [],
   "source": [
    "url = \"http://localhost:5000/combined\"\n",
    "IFrame(url, width=1000, height=500)"
   ]
  },
  {
   "cell_type": "markdown",
   "metadata": {},
   "source": [
    "### Create some data, and get the Firefly dict"
   ]
  },
  {
   "cell_type": "code",
   "execution_count": 2,
   "metadata": {},
   "outputs": [
    {
     "name": "stdout",
     "output_type": "stream",
     "text": [
      "output to dummy.hdf5\n",
      "Opening 1 files and 1 particle types...\n",
      "JSONdir is None, defaulting to /Volumes/highnoon2go/highnoon/VISUALIZATIONS/Firefly/static/data/Data\n",
      "outputting: \n",
      "ParticleGroup: group1\n",
      "Contains 8000 particles (8000 after decimation) and 0 tracked fields\n"
     ]
    }
   ],
   "source": [
    "## Here I'll create a grid of points in the shape of a cube\n",
    "my_coords = np.linspace(-10,10,20)\n",
    "xs,ys,zs = np.meshgrid(my_coords,my_coords,my_coords)\n",
    "xs,ys,zs = xs.flatten(),ys.flatten(),zs.flatten()\n",
    "coords = np.array([xs,ys,zs]).T\n",
    "\n",
    "with h5py.File(\"dummy.hdf5\",'w') as handle:\n",
    "    group = handle.create_group('group1')\n",
    "    group['Coordinates'] = coords\n",
    "print(\"output to dummy.hdf5\")\n",
    "\n",
    "simple = SimpleReader(\"dummy.hdf5\",write_jsons_to_disk=False)"
   ]
  },
  {
   "cell_type": "markdown",
   "metadata": {},
   "source": [
    "## Send this data to the Flask app"
   ]
  },
  {
   "cell_type": "markdown",
   "metadata": {},
   "source": [
    "*This sends the data.  (Then look back above to see it.)*"
   ]
  },
  {
   "cell_type": "code",
   "execution_count": 4,
   "metadata": {},
   "outputs": [
    {
     "name": "stdout",
     "output_type": "stream",
     "text": [
      "posting...data posted!\n"
     ]
    }
   ],
   "source": [
    "simple.sendDataViaFlask()"
   ]
  },
  {
   "cell_type": "code",
   "execution_count": 33,
   "metadata": {},
   "outputs": [
    {
     "name": "stdout",
     "output_type": "stream",
     "text": [
      "sending to Firefly 322434\n"
     ]
    },
    {
     "data": {
      "text/plain": [
       "<Response [200]>"
      ]
     },
     "execution_count": 33,
     "metadata": {},
     "output_type": "execute_result"
    }
   ],
   "source": [
    "## alternatively, make the request yourself (literally just copying the code from sendDataViaFlask())\n",
    "port = 5000\n",
    "print('sending to Firefly', sys.getsizeof(simple.JSON))\n",
    "requests.post(f'http://localhost:{port:d}/data_input',json=simple.JSON)"
   ]
  },
  {
   "cell_type": "code",
   "execution_count": null,
   "metadata": {},
   "outputs": [],
   "source": []
  },
  {
   "cell_type": "markdown",
   "metadata": {},
   "source": [
    "*Testing with FIRE data*"
   ]
  },
  {
   "cell_type": "code",
   "execution_count": 43,
   "metadata": {},
   "outputs": [
    {
     "name": "stdout",
     "output_type": "stream",
     "text": [
      "Opening 1 files and 6 particle types...\n",
      "JSONdir is None, defaulting to /Volumes/highnoon2go/highnoon/VISUALIZATIONS/Firefly/static/data/Data\n",
      "outputting: \n",
      "ParticleGroup: PartType0\n",
      "Contains 1066668 particles (10666 after decimation) and 0 tracked fields\n",
      "outputting: \n",
      "ParticleGroup: PartType1\n",
      "Contains 5860827 particles (58608 after decimation) and 0 tracked fields\n",
      "outputting: \n",
      "ParticleGroup: PartType2\n",
      "Contains 6175377 particles (61753 after decimation) and 0 tracked fields\n",
      "outputting: \n",
      "ParticleGroup: PartType3\n",
      "Contains 7732157 particles (77321 after decimation) and 0 tracked fields\n",
      "outputting: \n",
      "ParticleGroup: PartType4\n",
      "Contains 514118 particles (5141 after decimation) and 0 tracked fields\n",
      "outputting: \n",
      "ParticleGroup: PartType5\n",
      "Contains 1 particles (1 after decimation) and 0 tracked fields\n",
      "sending to Firefly 9308911\n"
     ]
    },
    {
     "data": {
      "text/plain": [
       "<Response [200]>"
      ]
     },
     "execution_count": 43,
     "metadata": {},
     "output_type": "execute_result"
    }
   ],
   "source": [
    "port = 5000\n",
    "fdir = '/Volumes/highnoon2go/highnoon/VISUALIZATIONS/Firefly/static/data/snapdir_050/'\n",
    "reader = SimpleReader(fdir, write_jsons_to_disk=False, decimation_factor=100)\n",
    "print('sending to Firefly', sys.getsizeof(reader.JSON))\n",
    "requests.post(f'http://localhost:{port:d}/data_input',json=reader.JSON)"
   ]
  },
  {
   "cell_type": "code",
   "execution_count": 34,
   "metadata": {},
   "outputs": [
    {
     "name": "stdout",
     "output_type": "stream",
     "text": [
      "Opening 1 files and 6 particle types...\n",
      "JSONdir is None, defaulting to /Volumes/highnoon2go/highnoon/VISUALIZATIONS/Firefly/static/data/Data\n",
      "outputting: \n",
      "ParticleGroup: PartType0\n",
      "Contains 1066668 particles (10666 after decimation) and 0 tracked fields\n",
      "outputting: \n",
      "ParticleGroup: PartType1\n",
      "Contains 5860827 particles (58608 after decimation) and 0 tracked fields\n",
      "outputting: \n",
      "ParticleGroup: PartType2\n",
      "Contains 6175377 particles (61753 after decimation) and 0 tracked fields\n",
      "outputting: \n",
      "ParticleGroup: PartType3\n",
      "Contains 7732157 particles (77321 after decimation) and 0 tracked fields\n",
      "outputting: \n",
      "ParticleGroup: PartType4\n",
      "Contains 514118 particles (5141 after decimation) and 0 tracked fields\n",
      "outputting: \n",
      "ParticleGroup: PartType5\n",
      "Contains 1 particles (1 after decimation) and 0 tracked fields\n"
     ]
    }
   ],
   "source": [
    "fdir = '/Volumes/highnoon2go/highnoon/VISUALIZATIONS/Firefly/static/data/snapdir_050/'\n",
    "reader = SimpleReader(fdir, write_jsons_to_disk=False, decimation_factor=100)"
   ]
  },
  {
   "cell_type": "code",
   "execution_count": 7,
   "metadata": {},
   "outputs": [
    {
     "name": "stdout",
     "output_type": "stream",
     "text": [
      "/Volumes/highnoon2go/highnoon/VISUALIZATIONS/Firefly/static/data/Data/DataPartType0000.json 426607\n",
      "/Volumes/highnoon2go/highnoon/VISUALIZATIONS/Firefly/static/data/Data/DataPartType0001.json 28455\n",
      "/Volumes/highnoon2go/highnoon/VISUALIZATIONS/Firefly/static/data/Data/DataPartType1000.json 459732\n",
      "/Volumes/highnoon2go/highnoon/VISUALIZATIONS/Firefly/static/data/Data/DataPartType1001.json 459695\n",
      "/Volumes/highnoon2go/highnoon/VISUALIZATIONS/Firefly/static/data/Data/DataPartType1002.json 459803\n",
      "/Volumes/highnoon2go/highnoon/VISUALIZATIONS/Firefly/static/data/Data/DataPartType1003.json 459626\n",
      "/Volumes/highnoon2go/highnoon/VISUALIZATIONS/Firefly/static/data/Data/DataPartType1004.json 459415\n",
      "/Volumes/highnoon2go/highnoon/VISUALIZATIONS/Firefly/static/data/Data/DataPartType1005.json 395804\n",
      "/Volumes/highnoon2go/highnoon/VISUALIZATIONS/Firefly/static/data/Data/DataPartType2000.json 425658\n",
      "/Volumes/highnoon2go/highnoon/VISUALIZATIONS/Firefly/static/data/Data/DataPartType2001.json 425598\n",
      "/Volumes/highnoon2go/highnoon/VISUALIZATIONS/Firefly/static/data/Data/DataPartType2002.json 425429\n",
      "/Volumes/highnoon2go/highnoon/VISUALIZATIONS/Firefly/static/data/Data/DataPartType2003.json 425568\n",
      "/Volumes/highnoon2go/highnoon/VISUALIZATIONS/Firefly/static/data/Data/DataPartType2004.json 425736\n",
      "/Volumes/highnoon2go/highnoon/VISUALIZATIONS/Firefly/static/data/Data/DataPartType2005.json 425627\n",
      "/Volumes/highnoon2go/highnoon/VISUALIZATIONS/Firefly/static/data/Data/DataPartType2006.json 74588\n",
      "/Volumes/highnoon2go/highnoon/VISUALIZATIONS/Firefly/static/data/Data/DataPartType3000.json 427217\n",
      "/Volumes/highnoon2go/highnoon/VISUALIZATIONS/Firefly/static/data/Data/DataPartType3001.json 427678\n",
      "/Volumes/highnoon2go/highnoon/VISUALIZATIONS/Firefly/static/data/Data/DataPartType3002.json 427160\n",
      "/Volumes/highnoon2go/highnoon/VISUALIZATIONS/Firefly/static/data/Data/DataPartType3003.json 427151\n",
      "/Volumes/highnoon2go/highnoon/VISUALIZATIONS/Firefly/static/data/Data/DataPartType3004.json 427366\n",
      "/Volumes/highnoon2go/highnoon/VISUALIZATIONS/Firefly/static/data/Data/DataPartType3005.json 427384\n",
      "/Volumes/highnoon2go/highnoon/VISUALIZATIONS/Firefly/static/data/Data/DataPartType3006.json 427538\n",
      "/Volumes/highnoon2go/highnoon/VISUALIZATIONS/Firefly/static/data/Data/DataPartType3007.json 313007\n",
      "/Volumes/highnoon2go/highnoon/VISUALIZATIONS/Firefly/static/data/Data/DataPartType4000.json 218757\n",
      "/Volumes/highnoon2go/highnoon/VISUALIZATIONS/Firefly/static/data/Data/DataPartType5000.json 113\n",
      "/Volumes/highnoon2go/highnoon/VISUALIZATIONS/Firefly/static/data/Data/DataOptions.json 2430\n",
      "/Volumes/highnoon2go/highnoon/VISUALIZATIONS/Firefly/static/data/Data/filenames.json 1066\n",
      "{\"PartType0\":[[\"Data\\/DataPartType0000.json\",10000],[\"Data\\/DataPartType0001.json\",666]],\"PartType1\":[[\"Data\\/DataPartType1000.json\",10000],[\"Data\\/DataPartType1001.json\",10000],[\"Data\\/DataPartType1002.json\",10000],[\"Data\\/DataPartType1003.json\",10000],[\"Data\\/DataPartType1004.json\",10000],[\"Data\\/DataPartType1005.json\",8608]],\"PartType2\":[[\"Data\\/DataPartType2000.json\",10000],[\"Data\\/DataPartType2001.json\",10000],[\"Data\\/DataPartType2002.json\",10000],[\"Data\\/DataPartType2003.json\",10000],[\"Data\\/DataPartType2004.json\",10000],[\"Data\\/DataPartType2005.json\",10000],[\"Data\\/DataPartType2006.json\",1753]],\"PartType3\":[[\"Data\\/DataPartType3000.json\",10000],[\"Data\\/DataPartType3001.json\",10000],[\"Data\\/DataPartType3002.json\",10000],[\"Data\\/DataPartType3003.json\",10000],[\"Data\\/DataPartType3004.json\",10000],[\"Data\\/DataPartType3005.json\",10000],[\"Data\\/DataPartType3006.json\",10000],[\"Data\\/DataPartType3007.json\",7321]],\"PartType4\":[[\"Data\\/DataPartType4000.json\",5141]],\"PartType5\":[[\"Data\\/DataPartType5000.json\",1]],\"options\":[[\"Data\\/DataOptions.json\",0]]}\n",
      "/Volumes/highnoon2go/highnoon/VISUALIZATIONS/Firefly/static/data/startup.json 42\n"
     ]
    }
   ],
   "source": [
    "#check\n",
    "foo = json.loads(reader.JSON)\n",
    "for fname in foo:\n",
    "    print(fname, len(foo[fname]))\n",
    "    if ('filenames.json' in fname):\n",
    "        print(foo[fname])"
   ]
  },
  {
   "cell_type": "code",
   "execution_count": 8,
   "metadata": {},
   "outputs": [
    {
     "name": "stdout",
     "output_type": "stream",
     "text": [
      "sending to Firefly 9307723\n"
     ]
    },
    {
     "data": {
      "text/plain": [
       "<Response [200]>"
      ]
     },
     "execution_count": 8,
     "metadata": {},
     "output_type": "execute_result"
    }
   ],
   "source": [
    "#send the data to flask\n",
    "port = 5000\n",
    "print('sending to Firefly', sys.getsizeof(reader.JSON))\n",
    "requests.post(f'http://localhost:{port:d}/data_input',json=reader.JSON)"
   ]
  },
  {
   "cell_type": "markdown",
   "metadata": {},
   "source": [
    "*To kill the Firefly server.*"
   ]
  },
  {
   "cell_type": "code",
   "execution_count": null,
   "metadata": {},
   "outputs": [],
   "source": [
    "# uncomment the next line\n",
    "! ps aux | grep Firefly | awk '{print $2}' | xargs kill"
   ]
  }
 ],
 "metadata": {
  "anaconda-cloud": {},
  "interpreter": {
   "hash": "f534f06944b7101ee418c38585e628955b3f3d62b78942ee260617f70aa005fb"
  },
  "kernelspec": {
   "display_name": "Python 3",
   "language": "python",
   "name": "python3"
  },
  "language_info": {
   "codemirror_mode": {
    "name": "ipython",
    "version": 3
   },
   "file_extension": ".py",
   "mimetype": "text/x-python",
   "name": "python",
   "nbconvert_exporter": "python",
   "pygments_lexer": "ipython3",
   "version": "3.8.3"
  }
 },
 "nbformat": 4,
 "nbformat_minor": 2
}

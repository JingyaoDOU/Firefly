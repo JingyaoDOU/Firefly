{
 "cells": [
  {
   "cell_type": "code",
   "execution_count": null,
   "id": "d3ade982-a3d0-4200-a37c-94eac6cc48c7",
   "metadata": {},
   "outputs": [],
   "source": []
  },
  {
   "cell_type": "code",
   "execution_count": 21,
   "id": "3d867445-12dc-4204-97ce-1fe5e1da2d49",
   "metadata": {},
   "outputs": [
    {
     "data": {
      "text/plain": [
       "['/Users/agurvich/my_Firefly']"
      ]
     },
     "execution_count": 21,
     "metadata": {},
     "output_type": "execute_result"
    }
   ],
   "source": [
    "simple.copyFireflySourceToTarget(init_gh_pages=False)"
   ]
  },
  {
   "cell_type": "code",
   "execution_count": 8,
   "id": "42351458-272e-4d63-845e-9cac269c8c29",
   "metadata": {},
   "outputs": [],
   "source": [
    "import shutil"
   ]
  },
  {
   "cell_type": "code",
   "execution_count": 10,
   "id": "d2bd28e0-2e37-457a-946d-23913de3ed58",
   "metadata": {},
   "outputs": [],
   "source": [
    "shutil.rmtree('/Users/agurvich/miniconda3/envs/firefly/lib/python3.9/site-packages/Firefly-2.0.0-py3.9.egg/Firefly/static/data/foo_csv')"
   ]
  }
 ],
 "metadata": {
  "kernelspec": {
   "display_name": "Python 3",
   "language": "python",
   "name": "python3"
  },
  "language_info": {
   "codemirror_mode": {
    "name": "ipython",
    "version": 3
   },
   "file_extension": ".py",
   "mimetype": "text/x-python",
   "name": "python",
   "nbconvert_exporter": "python",
   "pygments_lexer": "ipython3",
   "version": "3.9.5"
  }
 },
 "nbformat": 4,
 "nbformat_minor": 5
}

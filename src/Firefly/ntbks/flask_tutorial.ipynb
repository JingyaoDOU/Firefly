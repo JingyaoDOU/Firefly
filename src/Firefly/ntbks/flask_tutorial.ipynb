{
 "cells": [
  {
   "cell_type": "markdown",
   "metadata": {},
   "source": [
    "# Test sending data to Firefly through Flask\n",
    "\n",
    "*Working from customReader.ipynb*\n"
   ]
  },
  {
   "cell_type": "code",
   "execution_count": 1,
   "metadata": {},
   "outputs": [],
   "source": [
    "import numpy as np\n",
    "import h5py\n",
    "import os\n",
    "import sys\n",
    "import json\n",
    "import requests\n",
    "from IPython.display import IFrame"
   ]
  },
  {
   "cell_type": "code",
   "execution_count": 2,
   "metadata": {},
   "outputs": [],
   "source": [
    "%load_ext autoreload\n",
    "%autoreload 2\n",
    "\n",
    "\n",
    "\n",
    "sys.path.insert(0, '/Users/ageller/VISUALIZATIONS/Firefly')\n",
    "sys.path.insert(0,'/Users/agurvich/research/repos/Firefly/src')\n",
    "from Firefly.data_reader import SimpleReader\n",
    "from Firefly.server import spawnFireflyServer,killAllFireflyServers"
   ]
  },
  {
   "cell_type": "markdown",
   "metadata": {},
   "source": [
    "## Start the server"
   ]
  },
  {
   "cell_type": "code",
   "execution_count": 3,
   "metadata": {},
   "outputs": [],
   "source": [
    "## spawnFireflyServer takes same *positional* arguments as startFireflyServer\n",
    "process = spawnFireflyServer()"
   ]
  },
  {
   "cell_type": "markdown",
   "metadata": {},
   "source": [
    "## Show Firefly in an IFrame"
   ]
  },
  {
   "cell_type": "code",
   "execution_count": 4,
   "metadata": {},
   "outputs": [
    {
     "data": {
      "text/html": [
       "\n",
       "        <iframe\n",
       "            width=\"1000\"\n",
       "            height=\"500\"\n",
       "            src=\"http://localhost:5000\"\n",
       "            frameborder=\"0\"\n",
       "            allowfullscreen\n",
       "        ></iframe>\n",
       "        "
      ],
      "text/plain": [
       "<IPython.lib.display.IFrame at 0x105e5d340>"
      ]
     },
     "execution_count": 4,
     "metadata": {},
     "output_type": "execute_result"
    }
   ],
   "source": [
    "url = \"http://localhost:5000\"\n",
    "IFrame(url, width=1000, height=500)"
   ]
  },
  {
   "cell_type": "markdown",
   "metadata": {},
   "source": [
    "### Create some data, and get the Firefly dict"
   ]
  },
  {
   "cell_type": "code",
   "execution_count": 5,
   "metadata": {},
   "outputs": [
    {
     "name": "stdout",
     "output_type": "stream",
     "text": [
      "output to foo.hdf5\n",
      "output to foo.csv\n"
     ]
    }
   ],
   "source": [
    "## Here I'll create a grid of points in the shape of a cube\n",
    "my_coords = np.linspace(-10,10,20)\n",
    "xs,ys,zs = np.meshgrid(my_coords,my_coords,my_coords)\n",
    "xs,ys,zs = xs.flatten(),ys.flatten(),zs.flatten()\n",
    "coords = np.array([xs,ys,zs]).T\n",
    "\n",
    "with h5py.File(\"foo.hdf5\",'w') as handle:\n",
    "    group = handle.create_group('group1')\n",
    "    group['Coordinates'] = coords\n",
    "print(\"output to foo.hdf5\")\n",
    "\n",
    "np.savetxt('foo.csv',coords)\n",
    "print(\"output to foo.csv\")\n",
    "\n",
    "if not os.path.isdir('foo_csv'):\n",
    "    os.mkdir('foo_csv')\n",
    "    #os.rename('foo.csv','../static/data/foo_csv/foo.csv')"
   ]
  },
  {
   "cell_type": "markdown",
   "metadata": {},
   "source": [
    "## Send this data to the Flask app"
   ]
  },
  {
   "cell_type": "code",
   "execution_count": 8,
   "metadata": {},
   "outputs": [
    {
     "name": "stdout",
     "output_type": "stream",
     "text": [
      "/Users/agurvich/research/repos/my_Firefly/src/Firefly/ntbks\n"
     ]
    }
   ],
   "source": [
    "!pwd"
   ]
  },
  {
   "cell_type": "code",
   "execution_count": 19,
   "metadata": {},
   "outputs": [
    {
     "name": "stdout",
     "output_type": "stream",
     "text": [
      "Opening 1 files and 1 particle types...\n",
      "JSONdir: /Users/agurvich/foo_csv -- is not a sub-directory of Firefly/static/data. \n",
      "This may produce confusing or inoperable results. As such, we will create a symlink for you when you  dumpToJSON.\n"
     ]
    }
   ],
   "source": [
    "## test out the csv\n",
    "fdir = '/Users/agurvich/research/repos/Firefly/static/data/foo_csv'\n",
    "fdir = '/Users/ageller/VISUALIZATIONS/Firefly/static/data/foo_csv'\n",
    "\n",
    "simple = SimpleReader(\n",
    "    \"foo.csv\",\n",
    "    write_jsons_to_disk=False,\n",
    "    extension='.csv',\n",
    "    JSONdir='foo_csv')\n",
    "#simple = SimpleReader(fdir,write_jsons_to_disk=False,extension='.csv')\n",
    "#simple.sendDataViaFlask()"
   ]
  },
  {
   "cell_type": "code",
   "execution_count": 21,
   "metadata": {},
   "outputs": [
    {
     "data": {
      "text/plain": [
       "['/Users/agurvich/my_Firefly']"
      ]
     },
     "execution_count": 21,
     "metadata": {},
     "output_type": "execute_result"
    }
   ],
   "source": [
    "simple.copyFireflySourceToTarget(init_gh_pages=False)"
   ]
  },
  {
   "cell_type": "code",
   "execution_count": 8,
   "metadata": {},
   "outputs": [],
   "source": [
    "import shutil"
   ]
  },
  {
   "cell_type": "code",
   "execution_count": 10,
   "metadata": {},
   "outputs": [],
   "source": [
    "shutil.rmtree('/Users/agurvich/miniconda3/envs/firefly/lib/python3.9/site-packages/Firefly-2.0.0-py3.9.egg/Firefly/static/data/foo_csv')"
   ]
  },
  {
   "cell_type": "code",
   "execution_count": 11,
   "metadata": {},
   "outputs": [
    {
     "name": "stdout",
     "output_type": "stream",
     "text": [
      "outputting: \n",
      "ParticleGroup: foo\n",
      "Contains 7999 particles (7999 after decimation) and 0 tracked fields\n"
     ]
    }
   ],
   "source": [
    "simple.dumpToJSON()"
   ]
  },
  {
   "cell_type": "code",
   "execution_count": null,
   "metadata": {},
   "outputs": [],
   "source": [
    "## test out the hdf5\n",
    "fdir = '/Users/ageller/VISUALIZATIONS/Firefly/static/data/foo_hdf5'\n",
    "#simple = SimpleReader(\"foo.hdf5\",write_jsons_to_disk=False,extension='.hdf5')\n",
    "simple = SimpleReader(fdir,write_jsons_to_disk=False,extension='.hdf5')\n",
    "simple.sendDataViaFlask()"
   ]
  },
  {
   "cell_type": "code",
   "execution_count": null,
   "metadata": {},
   "outputs": [],
   "source": [
    "## alternatively, make the request yourself (literally just copying the code from sendDataViaFlask())\n",
    "port = 5000\n",
    "print('sending to Firefly', sys.getsizeof(simple.JSON))\n",
    "requests.post(f'http://localhost:{port:d}/data_input',json=simple.JSON)"
   ]
  },
  {
   "cell_type": "code",
   "execution_count": null,
   "metadata": {},
   "outputs": [],
   "source": [
    "#test with FIRE data\n",
    "fdir = '/Users/ageller/VISUALIZATIONS/FIREdata/snapdir_050/'\n",
    "reader = SimpleReader(fdir, write_jsons_to_disk=False, decimation_factor=100)\n",
    "reader.sendDataViaFlask()"
   ]
  },
  {
   "cell_type": "markdown",
   "metadata": {},
   "source": [
    "*To kill the Firefly server.*"
   ]
  },
  {
   "cell_type": "code",
   "execution_count": 13,
   "metadata": {},
   "outputs": [],
   "source": [
    "killAllFireflyServers(pid=process.pid)"
   ]
  },
  {
   "cell_type": "code",
   "execution_count": null,
   "metadata": {},
   "outputs": [],
   "source": []
  }
 ],
 "metadata": {
  "anaconda-cloud": {},
  "interpreter": {
   "hash": "f534f06944b7101ee418c38585e628955b3f3d62b78942ee260617f70aa005fb"
  },
  "kernelspec": {
   "display_name": "Python 3",
   "language": "python",
   "name": "python3"
  },
  "language_info": {
   "codemirror_mode": {
    "name": "ipython",
    "version": 3
   },
   "file_extension": ".py",
   "mimetype": "text/x-python",
   "name": "python",
   "nbconvert_exporter": "python",
   "pygments_lexer": "ipython3",
   "version": "3.9.5"
  }
 },
 "nbformat": 4,
 "nbformat_minor": 4
}

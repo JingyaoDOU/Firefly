{
 "cells": [
  {
   "cell_type": "code",
   "execution_count": 1,
   "id": "fadc2af2-f6a4-4da6-9a61-373756cdf1fd",
   "metadata": {},
   "outputs": [],
   "source": [
    "%load_ext autoreload\n",
    "%autoreload 2"
   ]
  },
  {
   "cell_type": "code",
   "execution_count": 2,
   "id": "a074862a-1efc-4539-a274-06d866fbc030",
   "metadata": {},
   "outputs": [
    {
     "name": "stdout",
     "output_type": "stream",
     "text": [
      "palettable colormaps are not installed\n",
      "don't have phil's colormaps\n"
     ]
    }
   ],
   "source": [
    "from firefly.data_reader.GAIAreader import GaiaReader"
   ]
  },
  {
   "cell_type": "code",
   "execution_count": 3,
   "id": "3e4c6849-652e-49a8-bbff-0571b64ff274",
   "metadata": {},
   "outputs": [],
   "source": [
    "import os\n",
    "import numpy as np"
   ]
  },
  {
   "cell_type": "code",
   "execution_count": 4,
   "id": "2cfcad47-cf1c-445f-8863-b7679e4c9c0f",
   "metadata": {},
   "outputs": [
    {
     "name": "stdout",
     "output_type": "stream",
     "text": [
      "No work to be done! Celebrate!\n",
      "\n",
      "3.2835262934366862 min elapsed\n",
      "Make sure each field_array (3) has a field_filter_flag (0), assuming True.\n",
      "Make sure each field_array (3) has a field_colormap_flag (0), assuming True.\n",
      "Make sure each field_array (3) has a field_radius_flag (0), assuming False.\n",
      "No work to be done! Celebrate!\n",
      "\n",
      "2.3924498597780866 min elapsed\n",
      "Make sure each field_array (3) has a field_filter_flag (0), assuming True.\n",
      "Make sure each field_array (3) has a field_colormap_flag (0), assuming True.\n",
      "Make sure each field_array (3) has a field_radius_flag (0), assuming False.\n",
      "datadir: /home/abg6257/projects/gaia -- is not a sub-directory of firefly/static/data. \n",
      "This may produce confusing or inoperable results. As such, we will create a symlink for you when you writeToDisk.\n"
     ]
    }
   ],
   "source": [
    "\n",
    "gaiadir = os.path.join(os.environ['HOME'],'projects','gaia','GaiaSource')\n",
    "my_reader = GaiaReader(\n",
    "    nthreads=52,\n",
    "    write_startup=True,\n",
    "    clean_datadir=True,\n",
    "    use_mps=True,\n",
    "    min_to_refine=1e5/10,\n",
    "    nrecurse=4)"
   ]
  },
  {
   "cell_type": "code",
   "execution_count": 6,
   "id": "f09bf39b-023e-466b-b4e8-6a0263ee1cc6",
   "metadata": {},
   "outputs": [],
   "source": [
    "from firefly.data_reader.settings import GUIurls"
   ]
  },
  {
   "cell_type": "code",
   "execution_count": 7,
   "id": "44872e64-ea93-4ec8-87c3-c33cea1f6935",
   "metadata": {},
   "outputs": [
    {
     "name": "stdout",
     "output_type": "stream",
     "text": [
      "['main', 'main/general', 'main/general/data', 'main/general/data/decimation', 'main/general/data/savepreset', 'main/general/data/reset', 'main/general/data/loadnewdata', 'main/general/camera', 'main/general/camera/centertextboxes', 'main/general/camera/cameratextboxes', 'main/general/camera/rotationtextboxes', 'main/general/camera/camerabuttons', 'main/general/camera/fullscreen', 'main/general/camera/snapshot', 'main/general/camera/camerafriction', 'main/general/camera/stereosep', 'main/general/projection', 'main/general/projection/columndensitycheckbox', 'main/general/projection/columndensitylogcheckbox', 'main/general/projection/columndensityselectcmap', 'main/general/projection/columndensitysliders', 'colorbarcontainer', 'fpscontainer', 'octreeloadingbarcontainer', 'main/particles']\n"
     ]
    }
   ],
   "source": [
    "print(GUIurls)"
   ]
  },
  {
   "cell_type": "code",
   "execution_count": null,
   "id": "707f60a4-f77a-44c3-b0c0-22085e214b5f",
   "metadata": {},
   "outputs": [
    {
     "data": {
      "text/plain": [
       "('/home/abg6257/projects/gaia/GaiaDataSettings.json',\n",
       " '/home/abg6257/projects/gaia/GaiaDataSettings.json')"
      ]
     },
     "execution_count": 17,
     "metadata": {},
     "output_type": "execute_result"
    }
   ],
   "source": [
    "for pkey in my_reader.settings['sizeMult'].keys():\n",
    "    my_reader.settings['sizeMult'][pkey] = 0.1\n",
    "    \n",
    "my_reader.settings['GUIExcludeList'] = ['colorbarcontainer']\n",
    "my_reader.settings['collapseGUIAtStart'] = False\n",
    "my_reader.settings['depthTest'] = False\n",
    "my_reader.settings['blendingMode'] = 'additive'\n",
    "my_reader.settings['showParts']['DR3-RV'] = False\n",
    "my_reader.settings['camera'] = [0,0,0]\n",
    "my_reader.settings['cameraRotation'] = [-1.5,0,-1.5]\n",
    "my_reader.settings['startFly'] = True\n",
    "my_reader.dumpSettingsToJSON()"
   ]
  },
  {
   "cell_type": "code",
   "execution_count": 16,
   "id": "cda5a6f7-ab0a-4410-8e75-96144211fcee",
   "metadata": {},
   "outputs": [
    {
     "name": "stdout",
     "output_type": "stream",
     "text": [
      "DR3-noRV - 966,113,753 parts (31,451 nodes) - 3 fields\n",
      "DR3-RV - 31,431,382 parts (8,506 nodes) - 3 fields\n"
     ]
    },
    {
     "data": {
      "text/plain": [
       "''"
      ]
     },
     "execution_count": 16,
     "metadata": {},
     "output_type": "execute_result"
    }
   ],
   "source": [
    "my_reader.writeToDisk(nthreads=52)"
   ]
  },
  {
   "cell_type": "code",
   "execution_count": 23,
   "id": "be652e71-1029-4605-a242-2b3ad8e64d47",
   "metadata": {},
   "outputs": [
    {
     "data": {
      "text/plain": [
       "['/projects/b1094/ageller/Firefly_ABG/']"
      ]
     },
     "execution_count": 23,
     "metadata": {},
     "output_type": "execute_result"
    }
   ],
   "source": [
    "my_reader.copyFireflySourceToTarget('/projects/b1094/ageller/Firefly_ABG/',dump_data=False,overwrite=False,nthreads=52)"
   ]
  },
  {
   "cell_type": "code",
   "execution_count": null,
   "id": "75e531d8-39ce-4e19-a832-fa261b220f2a",
   "metadata": {},
   "outputs": [],
   "source": []
  }
 ],
 "metadata": {
  "kernelspec": {
   "display_name": "Python 3",
   "language": "python",
   "name": "python3"
  },
  "language_info": {
   "codemirror_mode": {
    "name": "ipython",
    "version": 3
   },
   "file_extension": ".py",
   "mimetype": "text/x-python",
   "name": "python",
   "nbconvert_exporter": "python",
   "pygments_lexer": "ipython3",
   "version": "3.9.1"
  }
 },
 "nbformat": 4,
 "nbformat_minor": 5
}

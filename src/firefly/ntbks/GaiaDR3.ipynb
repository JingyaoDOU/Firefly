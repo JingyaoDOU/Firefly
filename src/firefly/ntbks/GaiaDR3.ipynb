{
 "cells": [
  {
   "cell_type": "code",
   "execution_count": 1,
   "id": "fadc2af2-f6a4-4da6-9a61-373756cdf1fd",
   "metadata": {},
   "outputs": [],
   "source": [
    "%load_ext autoreload\n",
    "%autoreload 2\n",
    "\n",
    "import pandas as pd\n",
    "\n",
    "from astropy.table import Table, Column\n",
    "import astropy.units as u\n",
    "from astropy.coordinates import SkyCoord, ICRS\n",
    "from astropy.io import ascii"
   ]
  },
  {
   "cell_type": "code",
   "execution_count": 2,
   "id": "a074862a-1efc-4539-a274-06d866fbc030",
   "metadata": {},
   "outputs": [
    {
     "name": "stdout",
     "output_type": "stream",
     "text": [
      "palettable colormaps are not installed\n",
      "don't have phil's colormaps\n"
     ]
    }
   ],
   "source": [
    "from firefly.data_reader.GAIAreader import GaiaReader"
   ]
  },
  {
   "cell_type": "code",
   "execution_count": 3,
   "id": "3e4c6849-652e-49a8-bbff-0571b64ff274",
   "metadata": {},
   "outputs": [],
   "source": [
    "import os"
   ]
  },
  {
   "cell_type": "code",
   "execution_count": 4,
   "id": "2cfcad47-cf1c-445f-8863-b7679e4c9c0f",
   "metadata": {},
   "outputs": [
    {
     "name": "stdout",
     "output_type": "stream",
     "text": [
      "DR3-noRV - 3906 nodes - 3 tracked fields\n",
      "No work to be done! Celebrate!\n",
      "0.2594718019167582 min elapsed\n",
      "Make sure each field_array (3) has a field_filter_flag (0), assuming True.\n",
      "Make sure each field_array (3) has a field_colormap_flag (0), assuming True.\n",
      "Make sure each field_array (3) has a field_radius_flag (0), assuming False.\n",
      "DR3-RV - 1654 nodes - 3 tracked fields\n",
      "No work to be done! Celebrate!\n",
      "0.005832481384277344 min elapsed\n",
      "Make sure each field_array (3) has a field_filter_flag (0), assuming True.\n",
      "Make sure each field_array (3) has a field_colormap_flag (0), assuming True.\n",
      "Make sure each field_array (3) has a field_radius_flag (0), assuming False.\n",
      "datadir: /home/abg6257/projects/gaia -- is not a sub-directory of firefly/static/data. \n",
      "This may produce confusing or inoperable results. As such, we will create a symlink for you when you writeToDisk.\n",
      "Importing existing settings from /projects/b1026/agurvich/Firefly/src/firefly/static/data/gaia/GaiaDataSettings.json\n"
     ]
    }
   ],
   "source": [
    "\n",
    "gaiadir = os.path.join(os.environ['HOME'],'projects','gaia','GaiaSource')\n",
    "my_reader = GaiaReader(nthreads=52)"
   ]
  },
  {
   "cell_type": "code",
   "execution_count": 9,
   "id": "cda5a6f7-ab0a-4410-8e75-96144211fcee",
   "metadata": {},
   "outputs": [
    {
     "name": "stdout",
     "output_type": "stream",
     "text": [
      "DR3-noRV - 3906 nodes - 3 tracked fields\n",
      "DR3-RV - 1654 nodes - 3 tracked fields\n"
     ]
    },
    {
     "data": {
      "text/plain": [
       "''"
      ]
     },
     "execution_count": 9,
     "metadata": {},
     "output_type": "execute_result"
    }
   ],
   "source": [
    "my_reader.writeToDisk()"
   ]
  },
  {
   "cell_type": "markdown",
   "id": "fbc9d19f-4b1c-4d4e-8c44-7c7a1c8dbb0e",
   "metadata": {},
   "source": [
    "-----"
   ]
  },
  {
   "cell_type": "code",
   "execution_count": 3,
   "id": "6cd3be5e-cd6d-4bb3-b262-a09109c20061",
   "metadata": {},
   "outputs": [],
   "source": [
    "import h5py\n",
    "import numpy as np\n",
    "import time\n",
    "import os\n",
    "import multiprocessing"
   ]
  },
  {
   "cell_type": "code",
   "execution_count": 4,
   "id": "7cbc8f7d-417a-4f83-b441-1aec93b3f8b0",
   "metadata": {},
   "outputs": [],
   "source": [
    "from abg_python.plot_utils import plt\n",
    "\n",
    "%matplotlib inline"
   ]
  },
  {
   "cell_type": "code",
   "execution_count": 4,
   "id": "208f6c92-e92f-4f39-a424-3e10ad1229fa",
   "metadata": {},
   "outputs": [],
   "source": [
    "from firefly.data_reader.octree_stream import OctreeStream,OctNodeStream"
   ]
  },
  {
   "cell_type": "code",
   "execution_count": 12,
   "id": "c69a1a01-a25e-457f-b08e-699c8683aa9f",
   "metadata": {},
   "outputs": [],
   "source": [
    "from firefly.data_reader.GAIAreader import GaiaReader"
   ]
  },
  {
   "cell_type": "code",
   "execution_count": 5,
   "id": "a9697ba3-8b4e-4848-be6a-0ea948f473a8",
   "metadata": {},
   "outputs": [],
   "source": [
    "def readGaiaFile(path,limiting_mag,extra_keys=None,loud=False,has_RV=True):\n",
    "    useGaiaData = {}\n",
    "    \n",
    "    if extra_keys is None: extra_keys  = []\n",
    "    \n",
    "    keys = ['dec','ra','parallax','pmdec','pmra','radial_velocity','bp_rp','phot_g_mean_mag'] + extra_keys\n",
    "    \n",
    "    with h5py.File(path,'r') as handle:\n",
    "    \n",
    "        for key in keys: \n",
    "            try:\n",
    "                unit_strs = handle[key].attrs['unit'].decode('utf-8').split('.')\n",
    "                units = 1\n",
    "                for unit_str in unit_strs:\n",
    "                    if '**-1' in unit_str: units/=getattr(u,unit_str[:-4])\n",
    "                    else: units*=getattr(u,unit_str)\n",
    "            except:\n",
    "                print(unit_str)\n",
    "                raise\n",
    "            useGaiaData[key] = handle[key][()]*units\n",
    "            nans = np.isnan(useGaiaData[key])\n",
    "            #if loud: print(key,':',f\"{np.sum(nans)/nans.size*100:.1f} %\")\n",
    "        #if loud: print(nans.size,'stars')\n",
    "\n",
    "    mask = np.isfinite(useGaiaData['radial_velocity'])\n",
    "    \n",
    "    if not has_RV: mask = ~mask\n",
    "    \n",
    "    mask = np.logical_and(mask, useGaiaData['parallax'] > 0)\n",
    "    \n",
    "    outdict = {}\n",
    "    \n",
    "    if has_RV:\n",
    "        astropy_coords = ICRS(\n",
    "            ra = useGaiaData['ra'][mask], \n",
    "            dec = useGaiaData['dec'][mask], \n",
    "            distance = useGaiaData['parallax'][mask].to(u.parsec,equivalencies=u.parallax()),\n",
    "            pm_ra_cosdec = useGaiaData['pmra'][mask],\n",
    "            pm_dec = useGaiaData['pmdec'][mask],\n",
    "            radial_velocity = useGaiaData['radial_velocity'][mask])\n",
    "\n",
    "        ## store velocity data only if we have radial velocity\n",
    "        outdict['vx'] = astropy_coords.velocity.d_x.value\n",
    "        outdict['vy'] = astropy_coords.velocity.d_y.value\n",
    "        outdict['vz'] = astropy_coords.velocity.d_z.value\n",
    "    else:\n",
    "        astropy_coords = ICRS(\n",
    "            ra = useGaiaData['ra'][mask], \n",
    "            dec = useGaiaData['dec'][mask], \n",
    "            distance = useGaiaData['parallax'][mask].to(u.parsec,equivalencies=u.parallax()))\n",
    "        \n",
    "    outdict['x'] = astropy_coords.cartesian.x.value\n",
    "    outdict['y'] = astropy_coords.cartesian.y.value\n",
    "    outdict['z'] = astropy_coords.cartesian.z.value\n",
    " \n",
    "    outdict['bp_rp'] = np.array(useGaiaData['bp_rp'])[mask]\n",
    "    outdict['phot_g_mean_mag'] = np.array(useGaiaData['phot_g_mean_mag'])[mask]\n",
    "    \n",
    "    if limiting_mag is not None:\n",
    "        key = 'phot_g_mean_mag'\n",
    "        mask = outdict[key] <= limiting_mag\n",
    "        for sub_key in keys: outdict[sub_key] = outdict[sub_key][mask]\n",
    "            \n",
    "    return outdict\n",
    "    \n",
    "def getStars(\n",
    "    path,\n",
    "    loud=False,\n",
    "    limiting_mag=None,\n",
    "    has_RV=True):\n",
    "    outdfRV = readGaiaFile(path,limiting_mag,loud=loud,has_RV = has_RV)\n",
    "    keys = list(outdfRV.keys())\n",
    "    \n",
    "    ## apply filter\n",
    "    if loud: print(outdfRV[keys[0]].size,'before')\n",
    "    for key in keys:\n",
    "\n",
    "        mask = np.isfinite(outdfRV[key])\n",
    "        if loud: print(key,np.sum(mask)/mask.size)\n",
    "        for sub_key in keys:\n",
    "            outdfRV[sub_key] = outdfRV[sub_key][mask]\n",
    "    if loud: print(outdfRV[keys[0]].size,'after')\n",
    "    \n",
    "    return_value = np.array([outdfRV[key] for key in keys])\n",
    "    return return_value\n",
    "\n",
    "def getNoRV(path): \n",
    "    return getStars(path,has_RV=False)\n",
    "\n",
    "def getRV(path): return getStars(path)"
   ]
  },
  {
   "cell_type": "code",
   "execution_count": 6,
   "id": "435de3d7-0ce1-4c52-aaaf-9bc580e5f1b9",
   "metadata": {},
   "outputs": [],
   "source": [
    "from scipy.interpolate import interp1d\n",
    "\n",
    "def remap_nonparametrically(values,old_interval,new_interval):\n",
    "    h,_ = np.histogram(values,bins=np.linspace(*old_interval))\n",
    "    new_edges = np.linspace(*new_interval)\n",
    "    probs = np.cumsum(h)/np.sum(h)\n",
    "    probs[0] = 0\n",
    "    inverter = interp1d(probs,new_edges[1:])\n",
    "    new_values = inverter(np.random.uniform(0,1,values.shape[0]))\n",
    "    \n",
    "    sort_indices = np.argsort(values)\n",
    "    new_values = np.sort(new_values)[np.argsort(sort_indices)]\n",
    "    return new_values"
   ]
  },
  {
   "cell_type": "code",
   "execution_count": 7,
   "id": "46bdb6b5-b5cb-4da9-abfa-0fb330ef205b",
   "metadata": {},
   "outputs": [],
   "source": [
    "keys = ['vx','vy','vz','x','y','z','bp_rp','phot_g_mean_mag']\n",
    "gaiadir = os.path.join(os.environ['HOME'],'projects','gaia','GaiaSource')"
   ]
  },
  {
   "cell_type": "code",
   "execution_count": 8,
   "id": "7215c17b-6d19-4f36-a013-23190f2555dd",
   "metadata": {},
   "outputs": [
    {
     "name": "stdout",
     "output_type": "stream",
     "text": [
      "(5, 1000907978)\n",
      "145.08232498168945 s elapsed\n"
     ]
    }
   ],
   "source": [
    "nmax = 1000000\n",
    "init_time = time.time()\n",
    "append_dict = None\n",
    "gaiadir = os.path.join(os.environ['HOME'],'projects','gaia','GaiaSource')\n",
    "fnames = os.listdir(gaiadir)[:nmax]\n",
    "fnames = [f'{gaiadir}/%s'%fname for fname in fnames]\n",
    "\n",
    "use_mps = True\n",
    "fn = getNoRV\n",
    "if not use_mps: output = list(map(fn,fnames))\n",
    "else: \n",
    "    with multiprocessing.Pool(min(len(fnames),multiprocessing.cpu_count())) as my_pool:\n",
    "        output = my_pool.map(fn,fnames)\n",
    "\n",
    "all_arrays = np.concatenate(output,axis=1)\n",
    "print(all_arrays.shape)\n",
    "print(time.time()-init_time,'s elapsed')"
   ]
  },
  {
   "cell_type": "code",
   "execution_count": 9,
   "id": "8785ab55-7c4c-4379-bcc5-3816b1022718",
   "metadata": {},
   "outputs": [],
   "source": [
    "data_dict = dict(zip(keys[-all_arrays.shape[0]:],all_arrays))\n",
    "old_interval = (0,4)\n",
    "new_interval = (np.log10(2e3),5)\n",
    "data_dict['teff_bprp'] = remap_nonparametrically(data_dict['bp_rp'],old_interval,new_interval)"
   ]
  },
  {
   "cell_type": "code",
   "execution_count": 10,
   "id": "ec1d2031-f799-4289-941a-45b68a51064e",
   "metadata": {},
   "outputs": [],
   "source": [
    "root = OctNodeStream(None,None,[])"
   ]
  },
  {
   "cell_type": "code",
   "execution_count": 11,
   "id": "c6b1e922-b67b-4789-b099-c0e8786006f4",
   "metadata": {},
   "outputs": [
    {
     "name": "stdout",
     "output_type": "stream",
     "text": [
      "{''} still need to be refined\n"
     ]
    }
   ],
   "source": [
    "output_dir = os.path.join(os.path.dirname(gaiadir),os.path.dirname(gaiadir),'octree_full')\n",
    "root_dict = root.set_buffers_from_dict(data_dict,output_dir)\n",
    "stream = OctreeStream(output_dir)"
   ]
  },
  {
   "cell_type": "code",
   "execution_count": 8,
   "id": "4697326e-7801-476a-bf9b-b08d9a529dfe",
   "metadata": {},
   "outputs": [
    {
     "name": "stdout",
     "output_type": "stream",
     "text": [
      "set() still need to be refined\n",
      "OctreeStream(1/3906)\n",
      "set() still need to be refined\n",
      "No work to be done! Celebrate!\n",
      "0.008250033855438233 min elapsed\n"
     ]
    }
   ],
   "source": [
    "output_dir = os.path.join(os.path.dirname(gaiadir),os.path.dirname(gaiadir),'octree_full')\n",
    "stream = OctreeStream(output_dir)\n",
    "stream.full_refine(52,4,use_mps=True)"
   ]
  },
  {
   "cell_type": "markdown",
   "id": "4ffaed01-1047-496f-a45c-5ee454998750",
   "metadata": {},
   "source": []
  },
  {
   "cell_type": "markdown",
   "id": "f7af2376-0150-4951-945c-b752284ae1d9",
   "metadata": {},
   "source": []
  },
  {
   "cell_type": "markdown",
   "id": "6fa196a4-cac4-4f9f-baa4-0efe2bdb1024",
   "metadata": {},
   "source": []
  },
  {
   "cell_type": "code",
   "execution_count": 56,
   "id": "f2b26579-9a68-4000-b4a2-b2e6d8b9e2f9",
   "metadata": {},
   "outputs": [],
   "source": [
    "import astropy"
   ]
  },
  {
   "cell_type": "code",
   "execution_count": null,
   "id": "be30138b-c699-4635-b8ff-6c3af81f76de",
   "metadata": {},
   "outputs": [],
   "source": [
    "sets = [set([directory for directory in os.listdir(fname) if os.path.isdir(fname+'/'+directory)]) for fname in fnames]"
   ]
  },
  {
   "cell_type": "code",
   "execution_count": 22,
   "id": "dd8390ba-d27b-44b9-9a24-079c0be3ecb1",
   "metadata": {},
   "outputs": [
    {
     "data": {
      "text/plain": [
       "<matplotlib.colorbar.Colorbar at 0x2b13cfb58490>"
      ]
     },
     "execution_count": 22,
     "metadata": {},
     "output_type": "execute_result"
    },
    {
     "data": {
      "image/png": "[encoded data removed]",
      "text/plain": [
       "<Figure size 432x288 with 2 Axes>"
      ]
     },
     "metadata": {
      "needs_background": "light"
     },
     "output_type": "display_data"
    }
   ],
   "source": [
    "\n",
    "def find_overlaps(sets):\n",
    "    \n",
    "    overlaps = np.zeros((len(sets),len(sets)))\n",
    "    \n",
    "    for i in range(len(sets)):\n",
    "        for j in range(i):\n",
    "            this_set = sets[i]\n",
    "            that_set = sets[j]\n",
    "            overlaps[i,j] = len(this_set.intersection(that_set))/len(this_set)\n",
    "    return overlaps\n",
    "\n",
    "overlaps = find_overlaps(sets)\n",
    "\n",
    "plt.imshow(overlaps)\n",
    "plt.colorbar()"
   ]
  },
  {
   "cell_type": "code",
   "execution_count": 4,
   "id": "3b2dab73-c128-4364-9b94-4185fdfb8664",
   "metadata": {},
   "outputs": [
    {
     "name": "stdout",
     "output_type": "stream",
     "text": [
      "Bulding octree of 565982 pointsBulding octree of 565983 points\n",
      "Bulding octree of 565982 pointsBulding octree of 565982 points\n",
      "Bulding octree of 565982 pointsBulding octree of 565982 pointsBulding octree of 565982 pointsBulding octree of 565982 pointsBulding octree of 565982 pointsBulding octree of 565982 pointsBulding octree of 565982 pointsBulding octree of 565982 pointsBulding octree of 565982 pointsBulding octree of 565982 points0.00%\n",
      "Bulding octree of 565982 points0.00%\n",
      "\n",
      "\n",
      "\n",
      "\n",
      "\n",
      "\n",
      "\n",
      "\n",
      "\n",
      "\t\n",
      "Bulding octree of 565982 points0.00%0.00%Bulding octree of 565982 points0.00%0.00%0.00%0.00%0.00%\t0.00%\t0.00%0.00%0.00%\n",
      "\t\n",
      "\t\t\t\t\t0.00%\t\t0.00%\n",
      "\t\t0.00%1.77%\t1.77%0.00%\t1.77%\t\t1.77%1.77%\t1.77%Bulding octree of 565982 points1.77%1.77%1.77%\t\t1.77%1.77%\t\t1.77%\t\t\t\n",
      "\tBulding octree of 565982 points\t\t1.77%\t1.77%1.77%3.53%3.53%\t3.53%\t1.77%\t3.53%3.53%\n",
      "\t0.00%3.53%\t\t\t1.77%\t\t\tBulding octree of 565982 points\n",
      "3.53%3.53%0.00%3.53%\t3.53%3.53%\t\tBulding octree of 565982 pointsBulding octree of 565983 points\t3.53%Bulding octree of 565982 points\t\t\t0.00%3.53%Bulding octree of 565982 pointsBulding octree of 565982 points5.30%\tBulding octree of 565982 pointsBulding octree of 565983 points\t\n",
      "0.00%\n",
      "3.53%1.77%\t\n",
      "3.53%5.30%\n",
      "\t0.00%5.30%\t\tBulding octree of 565982 points\t5.30%1.77%1.77%\n",
      "\n",
      "5.30%\n",
      "\n",
      "\t\t5.30%\t\t\t0.00%\t0.00%\t\t5.30%3.53%\t5.30%Bulding octree of 565982 points\t\t\t\t3.53%5.30%5.30%Bulding octree of 565982 points3.53%\t5.30%\n",
      "0.00%Bulding octree of 565982 points\t\tBulding octree of 565982 points1.77%\tBulding octree of 565982 points0.00%Bulding octree of 565982 points\t5.30%\n",
      "\t\t\n",
      "0.00%\t3.53%\t0.00%\t\t\n",
      "7.07%0.00%7.07%5.30%7.07%\t\t7.07%1.77%1.77%5.30%\n",
      "Bulding octree of 565981 points\t\n",
      "0.00%7.07%\t\t7.07%\tBulding octree of 565982 points\t5.30%\t0.00%\t\tBulding octree of 565982 points\t\t\t7.07%0.00%Bulding octree of 565983 points0.00%\n",
      "Bulding octree of 565982 points0.00%\t7.07%0.00%\t\t\n",
      "\t\n",
      "\t\t\t7.07%\tBulding octree of 565982 points3.53%\n",
      "7.07%1.77%7.07%1.77%Bulding octree of 565982 points\tBulding octree of 565983 points\t\n",
      "0.00%0.00%5.30%7.07%Bulding octree of 565982 points3.53%1.77%Bulding octree of 565982 points\t0.00%\t1.77%\t\n",
      "0.00%Bulding octree of 565983 points8.83%8.83%\t\t\t\t8.83%\tBulding octree of 565982 points\t\t0.00%\n",
      "5.30%\t\t\t8.83%\n",
      "\t5.30%\n",
      "7.07%1.77%3.53%0.00%0.00%\t\n",
      "8.83%Bulding octree of 565982 points\t1.77%\t\t5.30%\t\t1.77%\n",
      "1.77%\t8.83%Bulding octree of 565983 points7.07%\t\t\t0.00%\t\t\t\n",
      "7.07%3.53%0.00%\t\t0.00%8.83%\n",
      "\tBulding octree of 565982 points\n",
      "\t\t8.83%\t\t1.77%\t8.83%\t\t\t1.77%0.00%3.53%0.00%\t\t7.07%\t1.77%1.77%10.60%\t\t\t3.53%1.77%7.07%\t\n",
      "1.77%0.00%10.60%\t0.00%\t8.83%\t1.77%\t3.53%5.30%7.07%5.30%\t1.77%Bulding octree of 565982 points\t\t\t1.77%Bulding octree of 565982 points8.83%1.77%\t\t\t5.30%\t8.83%\t\t10.60%\t\n",
      "3.53%7.07%\t\t\t3.53%\n",
      "1.77%0.00%\t\t3.53%\t\t8.83%1.77%1.77%\t1.77%\t\t10.60%\t10.60%\t\t\t\t3.53%8.83%0.00%1.77%8.83%\t3.53%\t\t\t\t8.83%5.30%3.53%12.37%5.30%\t\t\t10.60%8.83%10.60%10.60%\tBulding octree of 565982 points10.60%10.60%\t\t1.77%\t\t\t\t\t\t7.07%3.53%1.77%8.83%12.37%\t\t3.53%3.53%\t7.07%\t\t3.53%5.30%\t1.77%\t\t\n",
      "3.53%3.53%3.53%\t\t\t\t\t\t\t3.53%10.60%12.37%\t\t\t3.53%\t14.13%\t5.30%\t5.30%\t7.07%0.00%\t1.77%\t5.30%\t\t10.60%\t5.30%12.37%3.53%5.30%10.60%\t3.53%10.60%1.77%14.13%12.37%\t5.30%3.53%\t\t3.53%\t5.30%8.83%\t12.37%3.53%3.53%\t\t\t12.37%\t3.53%\t3.53%\t\t\t\t\t\t\t\t12.37%\t5.30%\t7.07%8.83%\t\t5.30%10.60%\t\t5.30%\t\t\t5.30%10.60%12.37%5.30%5.30%7.07%\t\t5.30%\t7.07%\t\t\t5.30%\t5.30%\t14.13%12.37%\t\t\t7.07%\t10.60%\t12.37%\t10.60%\t\t7.07%\t8.83%3.53%7.07%\t\t\t\t8.83%15.90%\t14.13%1.77%5.30%\t14.13%8.83%\t5.30%7.07%5.30%15.90%\t12.37%\t\t\t\t14.13%\t7.07%\t\t7.07%\t5.30%14.13%5.30%7.07%3.53%14.13%\t\t7.07%17.67%\t10.60%8.83%12.37%12.37%\t8.83%5.30%5.30%14.13%\t\t14.13%\t\t5.30%\t\t\t\t7.07%14.13%\t7.07%7.07%\t\t\t\t\t8.83%7.07%\t\t\t\t12.37%\t\t7.07%10.60%\t8.83%\t\t\t8.83%12.37%\t\t\t7.07%\t7.07%10.60%10.60%7.07%\t5.30%\t8.83%\t\t\t\t5.30%8.83%\t\t12.37%10.60%15.90%\t\t\t8.83%\t15.90%\t7.07%\t10.60%\t15.90%7.07%\t\t15.90%\t8.83%7.07%12.37%17.67%8.83%7.07%\t7.07%\t\t15.90%\t15.90%10.60%7.07%\t10.60%3.53%\t\t\t\t8.83%\t12.37%\t\t14.13%8.83%15.90%\t\t\t8.83%14.13%\t\t8.83%15.90%\t14.13%14.13%12.37%14.13%7.07%\t\t7.07%\t12.37%\t\t\t\t8.83%\t\t\t14.13%7.07%\t12.37%17.67%17.67%10.60%\t8.83%\t\t10.60%\t17.67%8.83%\t\t15.90%8.83%\t14.13%\t\t\t\t\t\t\t10.60%8.83%\t8.83%10.60%12.37%17.67%7.07%8.83%5.30%\t\t17.67%\t\t15.90%\t\t\t\t\t15.90%12.37%10.60%12.37%\t\t10.60%\t\t\t12.37%\t10.60%\t10.60%\t17.67%15.90%\t10.60%8.83%8.83%\t\t8.83%15.90%\t12.37%10.60%10.60%\t10.60%\t\t12.37%\t\t8.83%8.83%\t10.60%\t14.13%\t\t\t\t10.60%17.67%\t14.13%12.37%10.60%\t14.13%\t\t\t\t\t15.90%15.90%17.67%\t10.60%\t\t12.37%\t15.90%\t\t10.60%14.13%\t\t17.67%\t\t10.60%\t\t14.13%17.67%7.07%\t\t8.83%\t14.13%\t12.37%12.37%15.90%12.37%\t\t\t14.13%\t8.83%14.13%\t10.60%17.67%14.13%\t12.37%\t\t14.13%\t12.37%\t15.90%\t\t12.37%\t17.67%17.67%\t\t\t10.60%10.60%15.90%\t12.37%\t\t10.60%12.37%12.37%17.67%10.60%15.90%\t\t\t12.37%\t\t\t\t14.13%14.13%\t17.67%\t\t15.90%\t15.90%\t\t12.37%\t15.90%\t\t14.13%17.67%12.37%14.13%12.37%\t\t14.13%\t8.83%\t\t12.37%14.13%\t\t\t15.90%17.67%\t10.60%\t12.37%17.67%14.13%14.13%\t\t\t\t12.37%\t15.90%\t\t17.67%15.90%\t\t14.13%\t17.67%14.13%17.67%12.37%15.90%\t\t\t\t\t14.13%12.37%14.13%\t\t15.90%\t14.13%\t\t\t\t\t\t\t15.90%10.60%17.67%\t\t15.90%15.90%15.90%\t17.67%\t\t\t15.90%\t\t\t17.67%15.90%14.13%17.67%17.67%\t\t12.37%\t17.67%10.60%\t15.90%\t\t\t14.13%\t17.67%\t14.13%15.90%15.90%\t\t14.13%14.13%\t14.13%\t14.13%\t17.67%12.37%17.67%17.67%\t\t\t\t\t\t17.67%\t\t\t\t17.67%12.37%14.13%\t15.90%12.37%15.90%15.90%\t\t17.67%\t\t17.67%15.90%\t\t17.67%15.90%15.90%\t15.90%15.90%\t15.90%\t\t\t\t\t\t\t15.90%17.67%\t14.13%\t14.13%\t\t\t17.67%17.67%\t17.67%\t17.67%14.13%17.67%17.67%17.67%\t\t17.67%\t\t\t\t\t17.67%17.67%15.90%\t\t15.90%15.90%\t\t\t\t\t17.67%17.67%\t\t17.67%\t19.44%\t19.44%\t19.44%19.44%\t21.20%\t\t21.20%\t21.20%21.20%\t\t22.97%19.44%\t\t22.97%19.44%\t22.97%19.44%22.97%\t19.44%\t\t\t21.20%\t19.44%\t24.74%\t21.20%\t24.74%19.44%24.74%21.20%\t\t\t\t22.97%19.44%\t\t21.20%\t26.50%19.44%22.97%\t26.50%\t\t22.97%\t21.20%\t21.20%\t\t24.74%\t\t22.97%\t28.27%22.97%24.74%\t\t\t28.27%\t21.20%\t19.44%24.74%22.97%\t\t19.44%26.50%\t\t26.50%\t30.04%\t24.74%\t30.04%\t28.27%\t\t22.97%21.20%31.80%\t\t\t28.27%\t31.80%30.04%33.57%\t\t26.50%\t\t22.97%30.04%\t\t33.57%31.80%\t\t31.80%\t24.74%\t35.34%\t33.57%\t26.50%\t37.10%\t35.34%\t28.27%\t38.87%\t30.04%\t40.64%\t31.80%\t19.44%\t21.20%\t19.44%\t21.20%\t22.97%\t21.20%\t19.44%\t24.74%\t22.97%\t26.50%\t22.97%\t21.20%\t19.44%\t19.44%\t24.74%\t26.50%\t24.74%\t28.27%\t22.97%\t28.27%26.50%\t\t19.44%\t26.50%\t21.20%\t21.20%\t28.27%\t30.04%\t28.27%30.04%\t\t24.74%22.97%\t\t22.97%\t31.80%\t19.44%\t21.20%\t19.44%\t30.04%\t26.50%24.74%31.80%\t\t\t30.04%24.74%\t\t19.44%\t31.80%\t19.44%\t28.27%\t22.97%\t31.80%26.50%\t\t33.57%33.57%\t\t26.50%\t33.57%\t21.20%\t30.04%21.20%\t\t21.20%\t21.20%\t35.34%24.74%\t\t33.57%\t35.34%35.34%28.27%\t\t\t28.27%\t22.97%\t31.80%\t37.10%\t22.97%35.34%\t\t30.04%22.97%37.10%\t28.27%\t\t\t26.50%\t33.57%\t30.04%\t38.87%\t37.10%\t24.74%\t37.10%24.74%\t\t24.74%22.97%\t\t19.44%\t35.34%\t28.27%\t38.87%\t31.80%\t31.80%\t38.87%\t40.64%\t26.50%\t38.87%\t33.57%\t35.34%\t37.10%\t40.64%19.44%19.44%\t38.87%\t\t\t40.64%\t42.40%\t26.50%\t44.17%\t45.94%\t37.10%\t47.70%\t42.40%30.04%\t\t49.47%\t21.20%\t33.57%\t40.64%\t28.27%\t19.44%\t24.74%\t40.64%\t31.80%\t26.50%\t42.40%\t28.27%44.17%\t\t38.87%\t30.04%\t19.44%\t35.34%\t42.40%\t42.40%\t21.20%\t44.17%21.20%\t19.44%\t19.44%22.97%26.50%\t\t\t33.57%\t\t45.94%\t40.64%\t28.27%\t37.10%44.17%\t\t44.17%\t19.44%\t45.94%\t30.04%\t21.20%\t22.97%24.74%\t31.80%\t\t24.74%\t42.40%\t47.70%35.34%\t\t19.44%28.27%\t\t30.04%\t21.20%\t38.87%\t45.94%\t47.70%\t19.44%\t45.94%\t31.80%\t21.20%49.47%\t\t21.20%\t22.97%22.97%33.57%\t\t\t26.50%37.10%\t\t19.44%\t49.47%47.70%\t\t40.64%\t24.74%\t19.44%\t44.17%\t22.97%\t21.20%\t33.57%\t30.04%35.34%21.20%\t\t\t51.24%\t21.20%19.44%\t\t37.10%\t47.70%19.44%\t\t38.87%\t21.20%51.24%\t\t22.97%\t40.64%\t31.80%22.97%\t\t42.40%\t49.47%28.27%\t\t45.94%24.74%\t\t44.17%\t38.87%\t35.34%26.50%\t45.94%\t33.57%\t\t28.27%\t47.70%\t21.20%\t30.04%\t19.44%49.47%\t24.74%\t\t53.01%\t31.80%\t19.44%33.57%\t\t26.50%\t53.01%35.34%\t42.40%\t\t26.50%\t19.44%24.74%\t\t49.47%\t51.24%\t26.50%\t22.97%\t24.74%\t24.74%\t19.44%\t40.64%\t33.57%47.70%\t\t28.27%\t37.10%\t21.20%30.04%\t\t30.04%24.74%31.80%\t24.74%\t\t31.80%\t\t54.77%\t19.44%\t22.97%33.57%\t\t24.74%\t35.34%\t35.34%37.10%\t\t53.01%\t26.50%54.77%\t\t38.87%37.10%\t\t51.24%22.97%\t\t40.64%\t38.87%19.44%\t\t21.20%\t44.17%\t21.20%\t40.64%49.47%\t\t42.40%\t22.97%\t24.74%\t42.40%\t44.17%19.44%\t\t56.54%30.04%\t\t44.17%26.50%45.94%\t\t\t33.57%\t33.57%\t26.50%28.27%42.40%28.27%\t\t\t\t47.70%\t49.47%54.77%\t\t30.04%56.54%\t\t51.24%\t31.80%45.94%21.20%\t\t24.74%\t\t51.24%22.97%\t\t53.01%\t33.57%\t35.34%\t38.87%37.10%\t\t35.34%28.27%19.44%\t21.20%\t\t\t24.74%\t38.87%\t21.20%19.44%\t\t31.80%58.31%\t44.17%\t\t28.27%\t40.64%\t26.50%\t24.74%\t35.34%19.44%\t19.44%26.50%58.31%\t\t56.54%37.10%\t\t\t\t35.34%21.20%\t19.44%\t26.50%\t22.97%\t22.97%\t\t26.50%\t26.50%\t24.74%\t53.01%54.77%\t\t26.50%\t47.70%\t28.27%\t42.40%\t40.64%21.20%30.04%\t\t\t28.27%60.07%\t21.20%\t\t31.80%\t19.44%\t19.44%\t33.57%\t21.20%\t22.97%33.57%\t22.97%\t45.94%\t\t35.34%\t24.74%\t58.31%\t37.10%\t37.10%60.07%\t\t30.04%21.20%\t\t49.47%\t56.54%\t42.40%\t30.04%\t31.80%38.87%\t26.50%\t30.04%\t\t21.20%\t35.34%44.17%\t\t22.97%\t22.97%45.94%54.77%\t\t\t61.84%\t22.97%\t28.27%24.74%\t\t47.70%24.74%\t\t26.50%\t26.50%\t49.47%26.50%37.10%\t30.04%\t\t22.97%\t\t60.07%\t61.84%\t37.10%28.27%51.24%\t\t\t38.87%\t26.50%\t21.20%28.27%\t\t30.04%53.01%\t\t51.24%\t54.77%\t31.80%21.20%\t\t56.54%22.97%35.34%\t\t\t56.54%28.27%33.57%47.70%58.31%\t\t\t\t28.27%\t63.61%\t\t24.74%\t35.34%21.20%\t\t38.87%\t37.10%\t24.74%\t58.31%\t63.61%\t38.87%31.80%61.84%\t\t\t26.50%21.20%\t\t53.01%\t60.07%\t31.80%\t33.57%28.27%24.74%\t22.97%\t\t\t58.31%31.80%61.84%28.27%\t\t\t\t30.04%40.64%28.27%\t\t63.61%24.74%\t\t\t65.37%21.20%22.97%\t\t\t65.37%30.04%\t\t65.37%\t67.14%\t31.80%38.87%\t24.74%\t\t24.74%\t33.57%28.27%\t37.10%\t\t49.47%\t22.97%35.34%\t63.61%26.50%\t\t\t30.04%\t22.97%22.97%37.10%37.10%\t\t\t28.27%\t\t30.04%30.04%\t\t38.87%30.04%\t60.07%\t\t31.80%40.64%\t\t31.80%24.74%28.27%\t26.50%\t42.40%\t\t\t33.57%22.97%\t\t54.77%\t44.17%67.14%\t\t44.17%\t67.14%28.27%\t\t26.50%\t35.34%\t22.97%33.57%\t\t37.10%\t26.50%65.37%22.97%\t42.40%\t\t\t51.24%\t38.87%\t26.50%33.57%\t\t38.87%\t35.34%\t61.84%\t30.04%\t40.64%\t68.91%\t30.04%\t38.87%68.91%31.80%\t33.57%\t\t\t31.80%\t40.64%30.04%26.50%\t\t\t31.80%24.74%\t\t56.54%\t30.04%\t31.80%38.87%\t\t28.27%\t24.74%\t37.10%\t33.57%53.01%\t\t28.27%\t26.50%70.67%\t\t70.67%\t44.17%28.27%24.74%\t63.61%\t\t\t67.14%26.50%\t24.74%\t54.77%\t\t58.31%\t24.74%\t56.54%\t24.74%33.57%\t\t33.57%58.31%\t\t31.80%\t35.34%\t42.40%\t60.07%\t40.64%\t24.74%\t40.64%61.84%65.37%\t\t\t33.57%\t72.44%35.34%63.61%\t51.24%\t42.40%\t\t\t31.80%\t31.80%\t72.44%35.34%\t\t65.37%\t33.57%\t35.34%\t35.34%\t35.34%67.14%\t\t37.10%33.57%\t\t30.04%44.17%\t68.91%\t37.10%68.91%\t\t40.64%\t26.50%30.04%38.87%\t\t\t\t45.94%\t40.64%38.87%\t\t70.67%\t28.27%26.50%\t\t47.70%40.64%\t42.40%\t\t30.04%45.94%\t\t42.40%26.50%\t30.04%\t44.17%60.07%45.94%28.27%\t\t\t\t\t49.47%31.80%\t67.14%\t\t44.17%\t28.27%\t45.94%\t33.57%28.27%\t\t74.21%45.94%51.24%\t\t\t42.40%\t53.01%30.04%47.70%\t35.34%\t\t47.70%\t\t42.40%\t74.21%49.47%54.77%\t\t\t33.57%\t37.10%\t70.67%\t31.80%37.10%\t\t56.54%51.24%\t\t38.87%\t37.10%\t33.57%\t58.31%\t44.17%37.10%\t\t40.64%\t38.87%60.07%26.50%\t\t\t42.40%\t35.34%\t68.91%26.50%\t35.34%\t\t53.01%\t61.84%\t75.97%\t28.27%37.10%47.70%\t\t\t75.97%72.44%\t\t30.04%\t31.80%\t31.80%\t31.80%42.40%\t28.27%44.17%\t\t\t47.70%\t26.50%\t63.61%\t77.74%\t37.10%\t70.67%77.74%\t\t44.17%\t54.77%\t35.34%38.87%\t\t38.87%\t74.21%\t40.64%\t30.04%\t33.57%\t42.40%\t38.87%\t30.04%44.17%79.51%\t\t\t40.64%\t38.87%45.94%\t35.34%\t\t45.94%\t33.57%37.10%\t47.70%45.94%\t\t28.27%\t28.27%79.51%\t\t\t49.47%\t28.27%\t31.80%\t49.47%\t72.44%\t31.80%\t56.54%51.24%\t\t30.04%\t33.57%35.34%\t\t65.37%53.01%\t\t54.77%\t28.27%44.17%\t38.87%\t\t56.54%49.47%75.97%\t\t\t81.27%58.31%\t\t40.64%\t60.07%\t33.57%\t74.21%\t47.70%58.31%\t61.84%\t\t40.64%\t31.80%\t81.27%\t42.40%\t67.14%\t45.94%\t44.17%\t37.10%\t45.94%\t51.24%\t38.87%\t47.70%\t49.47%\t35.34%30.04%\t37.10%47.70%\t\t\t30.04%51.24%\t\t83.04%\t75.97%31.80%35.34%60.07%\t\t\t\t53.01%77.74%\t\t40.64%83.04%\t\t30.04%\t42.40%40.64%\t\t54.77%37.10%33.57%\t\t\t33.57%\t56.54%\t68.91%\t31.80%42.40%\t\t33.57%35.34%\t\t49.47%\t84.81%\t35.34%\t40.64%30.04%\t\t49.47%51.24%79.51%\t\t\t77.74%37.10%\t\t30.04%42.40%\t\t38.87%\t35.34%38.87%\t\t31.80%70.67%\t\t53.01%\t31.80%\t40.64%\t38.87%\t42.40%31.80%\t\t44.17%45.94%\t33.57%\t\t44.17%\t84.81%\t37.10%\t45.94%35.34%81.27%\t\t\t61.84%\t47.70%\t51.24%\t37.10%44.17%49.47%\t\t\t38.87%\t51.24%\t51.24%79.51%33.57%\t\t\t40.64%\t53.01%86.58%\t\t47.70%\t42.40%\t54.77%\t44.17%38.87%72.44%\t\t\t56.54%86.58%\t\t35.34%\t42.40%37.10%\t45.94%\t\t51.24%58.31%\t\t83.04%\t47.70%\t60.07%\t49.47%44.17%\t\t31.80%\t33.57%\t42.40%51.24%\t81.27%\t47.70%\t88.34%\t37.10%\t\t63.61%31.80%54.77%\t\t45.94%\t\t40.64%53.01%\t\t88.34%\t53.01%40.64%\t33.57%\t\t35.34%\t33.57%45.94%\t\t53.01%\t38.87%\t40.64%\t37.10%\t35.34%\t74.21%\t47.70%\t53.01%84.81%\t68.91%\t\t65.37%\t86.58%38.87%\t\t45.94%88.34%\t\t44.17%\t90.11%\t90.11%53.01%\t49.47%\t\t33.57%91.88%56.54%\t\t\t90.11%\t93.64%49.47%\t\t38.87%\t95.41%37.10%\t\t54.77%\t44.17%75.97%\t37.10%\t\t35.34%97.18%\t\t42.40%67.14%35.34%33.57%\t\t\t\t35.34%\t98.94%54.77%\t\t...done!\n",
      "0 1\t38.87%\t35.34%83.04%\t\t42.40%37.10%\t\t91.88%\t38.87%\t35.34%42.40%\t\t47.70%\t37.10%40.64%91.88%\t\t\t77.74%\t38.87%42.40%\t\t68.91%\t47.70%\t40.64%44.17%49.47%40.64%\t\t\t40.64%\t\t51.24%\t45.94%\t42.40%\t54.77%58.31%\t\t56.54%\t44.17%84.81%51.24%\t\t\t47.70%44.17%\t\t45.94%\t54.77%49.47%\t\t45.94%\t37.10%\t51.24%\t45.94%70.67%\t\t47.70%93.64%\t37.10%\t53.01%38.87%\t\t\t56.54%\t93.64%\t40.64%49.47%\t\t37.10%\t70.67%49.47%38.87%\t\t\t51.24%\t79.51%\t45.94%\t37.10%\t51.24%\t60.07%44.17%\t86.58%\t\t95.41%\t40.64%49.47%\t\t60.07%\t56.54%44.17%\t\t95.41%58.31%\t\t47.70%\t53.01%\t38.87%\t42.40%\t45.94%\t42.40%40.64%\t\t72.44%51.24%\t\t58.31%\t42.40%54.77%\t\t88.34%\t53.01%81.27%\t\t44.17%\t40.64%\t72.44%56.54%\t97.18%45.94%\t\t\t40.64%\t47.70%\t97.18%\t49.47%\t47.70%\t38.87%\t51.24%\t74.21%\t53.01%51.24%38.87%\t53.01%42.40%\t\t\t\t54.77%\t38.87%54.77%\t\t45.94%\t74.21%56.54%47.70%\t60.07%\t\t56.54%\t\t49.47%42.40%\t\t58.31%90.11%\t\t83.04%40.64%58.31%\t\t\t60.07%\t98.94%\t61.84%\t42.40%98.94%\t\t61.84%53.01%\t\t61.84%\t45.94%54.77%44.17%44.17%\t\t\t\t44.17%\t63.61%\t47.70%54.77%56.54%45.94%\t\t\t60.07%\t\t58.31%42.40%\t37.10%\t\t65.37%47.70%\t...done!60.07%\t\n",
      "0\t 1\t49.47%\t...done!\n",
      "75.97%\tadding 1 'outliers' to root node's buffer.61.84%\n",
      "\t67.14%0\t 151.24%\t\t75.97%\t68.91%72.44%63.61%\t\t\t91.88%\t49.47%42.40%53.01%\t\t\t49.47%54.77%\t65.37%58.31%\t\t61.84%\t\t54.77%\t67.14%\t40.64%\t56.54%\t68.91%\t44.17%\t61.84%\t53.01%\t40.64%63.61%\t\t63.61%65.37%47.70%\t49.47%\t\t\t60.07%40.64%\t\t67.14%44.17%47.70%\t84.81%\t63.61%\t\t\t77.74%\t68.91%\t49.47%\t70.67%\t72.44%93.64%51.24%\t\t58.31%\t\t77.74%74.21%\t74.21%\t53.01%\t\t51.24%54.77%\t75.97%\t\t45.94%\t45.94%\t77.74%56.54%\t\t63.61%86.58%56.54%\t\t\t44.17%\t58.31%88.34%\t\t90.11%60.07%\t\t65.37%91.88%\t\t61.84%\t44.17%93.64%\t\t56.54%65.37%\t\t95.41%42.40%51.24%\t63.61%\t\t54.77%\t\t95.41%\t79.51%\t45.94%\t97.18%\t65.37%\t98.94%\t79.51%\t...done!56.54%\n",
      "\t65.37%\t058.31% \t151.24%60.07%\t\t\t60.07%\t45.94%\t42.40%\t61.84%\t61.84%51.24%\t\t97.18%63.61%81.27%\t\t\t53.01%49.47%\t\t60.07%\t65.37%\t47.70%\t42.40%\t47.70%\t67.14%\t75.97%\t68.91%67.14%\t\t81.27%\t70.67%\t38.87%45.94%\t\t72.44%67.14%\t\t47.70%42.40%44.17%\t\t\t58.31%\t67.14%40.64%\t\t45.94%\t53.01%\t98.94%\t53.01%\t45.94%\t53.01%\t58.31%\t83.04%\t68.91%49.47%\t\t83.04%63.61%\t\t77.74%\t68.91%\t51.24%61.84%\t\t53.01%...done!49.47%\t\n",
      "61.84%\t\t051.24% \t1\t54.77%\t44.17%68.91%\t\t44.17%47.70%\t\t56.54%\t40.64%\t54.77%\t49.47%\t58.31%\t54.77%84.81%\t\t60.07%\t61.84%\t45.94%\t47.70%53.01%\t\t63.61%\t84.81%\t51.24%44.17%65.37%\t\t63.61%54.77%\t61.84%\t47.70%\t\t\t60.07%60.07%\t70.67%\t\t54.77%\t79.51%\t63.61%\t45.94%\t40.64%\t70.67%\t65.37%56.54%\t\t65.37%86.58%70.67%\t\t\t56.54%\t67.14%58.31%\t\t45.94%\t72.44%\t68.91%60.07%\t\t65.37%\t61.84%\t61.84%\t53.01%56.54%63.61%\t\t\t63.61%70.67%54.77%\t\t42.40%\t\t65.37%\t86.58%65.37%72.44%\t\t\t49.47%67.14%\t\t74.21%\t67.14%53.01%\t\t56.54%\t68.91%\t75.97%68.91%\t\t70.67%51.24%\t\t72.44%\t88.34%\t70.67%77.74%72.44%49.47%\t\t\t\t79.51%72.44%74.21%45.94%\t\t\t\t49.47%81.27%\t\t58.31%\t81.27%47.70%\t\t74.21%75.97%\t\t49.47%\t42.40%88.34%\t\t77.74%\t53.01%47.70%\t72.44%\t\t51.24%67.14%\t\t54.77%\t61.84%\t53.01%56.54%90.11%\t\t\t44.17%\t74.21%58.31%47.70%\t54.77%\t\t\t60.07%56.54%\t67.14%\t\t61.84%\t83.04%\t58.31%47.70%\t\t63.61%47.70%\t\t75.97%60.07%60.07%\t\t65.37%56.54%\t\t\t61.84%67.14%\t51.24%\t\t44.17%\t91.88%68.91%\t\t90.11%\t58.31%\t54.77%\t58.31%51.24%\t\t75.97%58.31%\t\t68.91%\t60.07%\t84.81%\t54.77%\t61.84%\t63.61%\t49.47%\t93.64%49.47%\t65.37%\t\t74.21%\t67.14%\t68.91%\t77.74%\t42.40%44.17%91.88%\t\t\t63.61%\t70.67%53.01%68.91%\t\t\t72.44%51.24%\t\t61.84%\t45.94%\t74.21%\t49.47%\t70.67%\t86.58%\t77.74%\t95.41%\t93.64%\t60.07%\t53.01%75.97%\t\t56.54%\t45.94%\t60.07%\t79.51%\t63.61%\t79.51%\t88.34%\t95.41%\t44.17%\t49.47%\t97.18%\t56.54%51.24%\t\t65.37%54.77%\t\t45.94%72.44%\t\t51.24%\t63.61%\t81.27%\t90.11%51.24%\t\t49.47%\t97.18%81.27%\t\t53.01%47.70%\t\t98.94%\t54.77%65.37%\t\t61.84%\t83.04%\t77.74%\t61.84%\t...done!\n",
      "0 91.88%1\t\t74.21%\t70.67%\t98.94%\t63.61%83.04%\t\t58.31%\t53.01%\t67.14%\t47.70%\t56.54%53.01%\t\t67.14%\t93.64%\t...done!51.24%53.01%\t\n",
      "\t49.47%84.81%0\t\t 1\t79.51%\t47.70%\t58.31%\t51.24%\t75.97%\t45.94%\t95.41%\t54.77%\t60.07%\t54.77%\t63.61%\t72.44%84.81%\t\t81.27%\t54.77%\t86.58%68.91%\t63.61%\t\t49.47%\t65.37%77.74%\t\t58.31%\t58.31%\t53.01%\t97.18%\t53.01%56.54%65.37%\t68.91%\t\t\t86.58%56.54%\t\t51.24%\t88.34%\t60.07%\t60.07%\t61.84%\t79.51%\t63.61%\t83.04%\t79.51%56.54%\t\t65.37%\t65.37%\t47.70%\t98.94%67.14%\t\t70.67%74.21%\t\t68.91%\t61.84%56.54%\t\t88.34%\t51.24%70.67%\t90.11%\t\t54.77%\t58.31%72.44%49.47%\t\t\t54.77%\t74.21%56.54%\t\t...done!\n",
      "58.31%70.67%0\t \t184.81%75.97%\t\t\t60.07%\t65.37%54.77%\t\t58.31%\t61.84%\t63.61%\t90.11%63.61%\t\t91.88%\t65.37%81.27%\t\t67.14%\t75.97%\t67.14%\t77.74%81.27%\t72.44%\t68.91%\t49.47%53.01%\t\t\t79.51%67.14%\t\t70.67%\t70.67%81.27%\t\t72.44%\t67.14%\t83.04%\t58.31%\t53.01%\t84.81%\t58.31%\t61.84%\t86.58%\t65.37%\t56.54%93.64%\t\t51.24%91.88%\t86.58%\t\t88.34%74.21%\t\t83.04%\t90.11%\t68.91%\t61.84%\t60.07%91.88%\t60.07%\t\t67.14%72.44%\t\t56.54%93.64%\t\t83.04%\t95.41%\t67.14%97.18%\t\t68.91%54.77%\t\t68.91%\t74.21%98.94%\t95.41%\t\t...done!\n",
      "0 175.97%\t75.97%51.24%\t\t\t53.01%\t77.74%\t88.34%\t60.07%79.51%\t\t84.81%\t81.27%\t63.61%\t83.04%60.07%\t\t68.91%\t54.77%\t84.81%\t84.81%68.91%\t\t54.77%\t86.58%\t70.67%\t60.07%\t58.31%\t77.74%\t88.34%70.67%\t\t90.11%72.44%\t\t90.11%\t61.84%\t58.31%\t97.18%61.84%61.84%\t\t\t70.67%\t63.61%\t86.58%72.44%\t56.54%\t54.77%\t\t79.51%\t86.58%\t74.21%\t91.88%\t98.94%\t63.61%\t61.84%\t72.44%\t72.44%\t60.07%65.37%53.01%81.27%\t\t88.34%\t\t\t56.54%70.67%\t\t63.61%...done!67.14%\n",
      "\t0\t 1\t88.34%68.91%\t70.67%\t\t70.67%\t72.44%\t60.07%72.44%\t\t93.64%\t74.21%\t63.61%\t75.97%\t53.01%\t56.54%\t65.37%\t90.11%77.74%56.54%\t\t\t70.67%\t79.51%\t61.84%81.27%\t\t74.21%74.21%\t\t90.11%\t83.04%\t74.21%63.61%\t74.21%\t75.97%\t\t95.41%\t65.37%\t74.21%91.88%72.44%\t\t54.77%\t58.31%\t\t61.84%\t75.97%\t67.14%\t91.88%\t84.81%\t53.01%\t58.31%65.37%\t\t61.84%\t97.18%\t65.37%\t75.97%\t77.74%\t56.54%\t75.97%\t67.14%58.31%\t\t77.74%\t63.61%\t86.58%93.64%\t\t68.91%\t65.37%\t75.97%93.64%\t\t98.94%\t75.97%\t60.07%\t79.51%\t56.54%63.61%\t\t54.77%\t74.21%\t68.91%79.51%60.07%\t\t...done!74.21%\n",
      "95.41%\t88.34%\t0 \t1\t70.67%\t95.41%\t77.74%67.14%\t\t97.18%\t60.07%\t67.14%\t98.94%\t...done!\n",
      "81.27%0\t 158.31%\t\t63.61%77.74%\t77.74%\t\t72.44%58.31%\t\t56.54%65.37%\t\t70.67%77.74%\t\t90.11%\t97.18%\t67.14%79.51%72.44%\t\t\t65.37%\t61.84%\t67.14%\t68.91%61.84%\t\t74.21%61.84%\t\t75.97%54.77%\t\t72.44%\t91.88%\t98.94%79.51%\t\t79.51%\t58.31%68.91%\t\t83.04%\t\t81.27%\t68.91%\t67.14%\t58.31%\t58.31%60.07%\t\t...done!81.27%\n",
      "\t0 1\t79.51%65.37%\t\t67.14%\t81.27%\t70.67%\t68.91%\t93.64%84.81%74.21%81.27%\t\t\t\t83.04%\t63.61%75.97%60.07%\t68.91%\t\t\t74.21%56.54%\t\t83.04%\t63.61%\t60.07%63.61%\t\t75.97%\t60.07%70.67%\t77.74%70.67%\t\t\t86.58%\t84.81%\t77.74%\t75.97%70.67%\t\t83.04%\t70.67%\t95.41%\t72.44%\t70.67%\t81.27%83.04%\t\t84.81%\t67.14%68.91%\t\t65.37%61.84%\t\t86.58%\t75.97%\t77.74%\t88.34%\t97.18%79.51%\t72.44%\t67.14%\t77.74%\t65.37%\t\t65.37%\t63.61%\t72.44%61.84%79.51%\t\t\t72.44%\t60.07%\t84.81%\t72.44%\t84.81%\t86.58%\t61.84%\t58.31%98.94%\t\t88.34%\t67.14%77.74%\t\t67.14%\t79.51%\t81.27%\t74.21%\t61.84%\t63.61%90.11%83.04%\t...done!\t\t\n",
      "0 1\t68.91%\t74.21%\t72.44%79.51%\t70.67%81.27%\t\t\t74.21%\t86.58%\t67.14%63.61%\t\t61.84%86.58%\t\t79.51%81.27%\t\t74.21%74.21%63.61%\t\t88.34%90.11%\t\t\t60.07%91.88%\t\t68.91%\t75.97%63.61%\t68.91%\t\t68.91%\t65.37%81.27%\t75.97%\t\t79.51%74.21%\t\t88.34%83.04%\t\t83.04%\t88.34%\t91.88%\t84.81%70.67%\t72.44%\t\t61.84%\t68.91%\t93.64%\t83.04%\t83.04%\t75.97%\t65.37%\t77.74%\t90.11%\t63.61%\t70.67%\t75.97%\t93.64%84.81%83.04%\t\t\t70.67%\t65.37%\t77.74%90.11%\t\t90.11%81.27%\t75.97%\t\t65.37%75.97%\t\t74.21%\t95.41%\t70.67%\t84.81%\t91.88%83.04%\t86.58%77.74%\t\t\t67.14%65.37%\t\t70.67%\t72.44%\t75.97%\t84.81%\t63.61%\t81.27%\t84.81%84.81%\t\t95.41%\t79.51%\t91.88%86.58%\t\t65.37%72.44%\t\t79.51%\t67.14%\t77.74%\t67.14%\t75.97%72.44%\t\t97.18%93.64%\t91.88%\t77.74%\t\t74.21%\t77.74%72.44%\t88.34%\t\t86.58%83.04%\t\t86.58%\t97.18%\t88.34%\t77.74%\t79.51%\t67.14%81.27%\t\t72.44%\t98.94%95.41%\t\t68.91%\t81.27%93.64%\t\t93.64%\t86.58%93.64%\t\t83.04%84.81%\t\t90.11%88.34%88.34%\t83.04%\t\t68.91%79.51%67.14%\t\t\t\t67.14%68.91%\t\t91.88%\t86.58%\t93.64%79.51%\t74.21%\t\t77.74%\t...done!65.37%\n",
      "98.94%0\t95.41%74.21%\t \t\t1\t75.97%\t97.18%\t90.11%\t79.51%\t98.94%\t...done!\n",
      "0 1\t74.21%\t97.18%81.27%\t\t95.41%83.04%\t\t...done!98.94%\n",
      "\t0 1\t...done!\n",
      "74.21%0\t 79.51%84.81%1\t90.11%\t\t70.67%\t84.81%\t88.34%\t\t90.11%\t95.41%81.27%\t\t68.91%\t68.91%\t86.58%77.74%\t\t75.97%\t81.27%97.18%\t\t88.34%\t68.91%\t84.81%83.04%\t\t70.67%86.58%67.14%\t\t\t91.88%\t81.27%91.88%\t91.88%\t\t97.18%88.34%86.58%\t\t75.97%75.97%70.67%\t\t\t\t70.67%\t75.97%81.27%\t\t77.74%\t79.51%\t79.51%\t72.44%\t70.67%\t83.04%\t83.04%70.67%\t\t81.27%\t68.91%\t90.11%95.41%90.11%\t\t93.64%83.04%\t\t\t83.04%\t84.81%84.81%\t\t90.11%\t98.94%98.94%\t\t79.51%86.58%\t\t88.34%\t88.34%72.44%\t\t86.58%90.11%\t\t91.88%\t72.44%74.21%93.64%\t\t\t83.04%72.44%\t93.64%93.64%\t\t...done!\t\n",
      "77.74%\t77.74%95.41%\t77.74%\t\t0 72.44%\t1...done!72.44%\t\n",
      "\t97.18%86.58%81.27%\t\t\t88.34%84.81%\t\t077.74% \t1\t70.67%\t84.81%\t95.41%\t91.88%\t88.34%90.11%\t\t84.81%81.27%\t\t97.18%\t74.21%\t95.41%\t91.88%\t88.34%\t84.81%\t74.21%74.21%\t\t90.11%79.51%83.04%\t\t\t74.21%\t79.51%93.64%\t\t75.97%\t90.11%79.51%\t84.81%86.58%\t\t\t95.41%\t91.88%86.58%74.21%\t\t\t88.34%91.88%\t\t97.18%\t90.11%74.21%79.51%\t\t\t83.04%98.94%91.88%\t\t\t86.58%86.58%\t\t93.64%91.88%\t\t95.41%\t86.58%72.44%\t\t97.18%\t88.34%97.18%75.97%\t\t90.11%\t\t98.94%\t...done!\n",
      "95.41%\t...done!\n",
      "91.88%0\t 97.18%01 \t\t1\t81.27%75.97%\t\t81.27%\t75.97%\t98.94%75.97%81.27%\t\t93.64%\t\t84.81%\t81.27%\t75.97%\t93.64%\t91.88%\t77.74%\t83.04%\t84.81%\t93.64%\t75.97%\t86.58%88.34%\t\t90.11%\t91.88%\t98.94%\t88.34%88.34%\t97.18%\t\t93.64%88.34%\t\t83.04%74.21%\t\t90.11%77.74%\t\t86.58%\t95.41%\t83.04%77.74%\t\t98.94%91.88%\t\t77.74%\t93.64%93.64%\t83.04%\t93.64%\t\t77.74%\t95.41%\t84.81%79.51%\t\t...done!\n",
      "77.74%0...done!\t\n",
      "97.18%95.41%0 \t \t11\t\t98.94%\t93.64%\t90.11%\t98.94%\t95.41%77.74%\t\t91.88%84.81%90.11%\t95.41%\t\t79.51%\t\t90.11%\t88.34%\t97.18%...done!\t\n",
      "0 79.51%\t1\t84.81%79.51%\t\t86.58%97.18%\t\t...done!\n",
      "0 79.51%\t195.41%\t75.97%\t\t84.81%\t79.51%79.51%\t\t97.18%\t91.88%\t93.64%86.58%\t\t95.41%\t91.88%\t90.11%\t95.41%86.58%97.18%\t\t81.27%\t81.27%\t\t81.27%\t95.41%\t98.94%\t97.18%...done!86.58%\t77.74%\n",
      "\t\t091.88% 97.18%\t1\t\t81.27%\t98.94%\t81.27%\t88.34%\t88.34%98.94%\t98.94%\t\t93.64%81.27%\t\t83.04%\t91.88%83.04%\t...done!97.18%\t\n",
      "\t0 97.18%1\t88.34%\t88.34%\t\t83.04%\t79.51%93.64%\t\t83.04%\t...done!\n",
      "...done!0\n",
      " 01 \t83.04%98.94%1\t\t\t98.94%\t90.11%\t90.11%\t95.41%\t98.94%83.04%\t\t93.64%93.64%\t\t81.27%84.81%\t\t...done!\n",
      "84.81%0 90.11%1\t\t\t98.94%\t...done!90.11%\n",
      "\t0 181.27%\t\t95.41%\t84.81%84.81%\t84.81%\t91.88%\t\t91.88%\t97.18%\t...done!\n",
      "0 1\t...done!\n",
      "0 1\t86.58%\t95.41%\t88.34%\t90.11%95.41%\t\t84.81%\t91.88%\t86.58%\t83.04%\t93.64%\t95.41%\t91.88%\t97.18%\t91.88%\t83.04%\t97.18%\t98.94%\t86.58%\t...done!\n",
      "093.64%\t86.58% \t1\t98.94%\t97.18%\t97.18%\t86.58%\t86.58%\t93.64%\t88.34%\t...done!\n",
      "0 1\t95.41%\t84.81%\t93.64%\t97.18%\t93.64%\t98.94%\t...done!\n",
      "0 1\t88.34%\t98.94%\t88.34%\t84.81%\t98.94%\t98.94%\t88.34%\t95.41%\t88.34%\t90.11%\t95.41%\t95.41%\t86.58%\t90.11%\t90.11%\t...done!\n",
      "0 1\t...done!\n",
      "86.58%0\t 1\t...done!\n",
      "0 1\t97.18%\t90.11%\t90.11%\t97.18%\t97.18%\t91.88%\t91.88%\t88.34%\t91.88%\t98.94%\t91.88%\t91.88%\t98.94%\t88.34%\t98.94%\t93.64%\t90.11%\t93.64%\t93.64%\t...done!\n",
      "0 1\t...done!\n",
      "0 1\t...done!\n",
      "0 1\t93.64%\t93.64%\t90.11%\t95.41%\t91.88%\t95.41%\t95.41%\t95.41%\t95.41%\t91.88%\t98.94%\t93.64%\t97.18%\t97.18%\t97.18%\t97.18%\t97.18%\t93.64%\t95.41%\t...done!\n",
      "0 1\t98.94%\t98.94%\t98.94%\t98.94%\t...done!\n",
      "0 1\t98.94%\t95.41%\t...done!\n",
      "97.18%\t0 1\t...done!\n",
      "0 1\t...done!\n",
      "0 1\t...done!\n",
      "0 1\t...done!\n",
      "0 1\t97.18%\t98.94%\t98.94%\t...done!\n",
      "0 1\t...done!\n",
      "0 1\t"
     ]
    }
   ],
   "source": [
    "use_mps = True\n",
    "top_level_dir = '/projects/b1026/agurvich/gaia/octree_small'\n",
    "fnames = os.listdir(top_level_dir)\n",
    "fnames = [os.path.join(top_level_dir,fname) for fname in fnames]\n",
    "\n",
    "fn = refineOctreeFromRaw\n",
    "\n",
    "if not use_mps: output = list(map(fn,fnames))\n",
    "else: \n",
    "    with multiprocessing.Pool(min(len(fnames),multiprocessing.cpu_count())) as my_pool:\n",
    "        output = my_pool.map(fn,fnames)"
   ]
  },
  {
   "cell_type": "code",
   "execution_count": 23,
   "id": "b64c9c08-95da-45e3-aff6-5c90c9542f6b",
   "metadata": {},
   "outputs": [
    {
     "data": {
      "text/plain": [
       "9.588463290900924"
      ]
     },
     "execution_count": 23,
     "metadata": {},
     "output_type": "execute_result"
    }
   ],
   "source": [
    "foo = \"\"\"XpContinuousMeanSpectrum/\t2.644TB\t2022-06-01 11:39 UTC\n",
    "Ravedr6BestNeighbour/\t32.24MB\t2022-06-01 05:15 UTC\n",
    "NssNonLinearSpectro/\t5.263MB\t2022-06-01 05:15 UTC\n",
    "VariEpochRadialVelocity/\t6.706MB\t2022-06-01 05:18 UTC\n",
    "GoldSampleSpss/\t48.14KB\t2022-06-01 05:15 UTC\n",
    "NssAccelerationAstro/\t98.39MB\t2022-06-01 05:15 UTC\n",
    "VariClassifierDefinition/\t6.129KB\t2022-06-01 05:18 UTC\n",
    "XpSampling/\t2.250MB\t2022-06-01 11:56 UTC\n",
    "AstrophysicalParameters/\t1.343TB\t2022-06-01 04:19 UTC\n",
    "AlertsMixedinSourceids/\t4.297KB\t2022-06-05 16:09 UTC\n",
    "VariPlanetaryTransit/\t988.6KB\t2022-06-01 05:19 UTC\n",
    "VariAgn/\t35.98MB\t2022-06-01 05:18 UTC\n",
    "GoldSampleObaStars/\t34.60MB\t2022-06-01 05:15 UTC\n",
    "VariRrlyrae/\t463.7MB\t2022-06-01 05:19 UTC\n",
    "SsoSource/\t12.40MB\t2022-06-01 05:17 UTC\n",
    "BinaryMasses/\t30.23MB\t2022-06-01 03:51 UTC\n",
    "VariRotationModulation/\t1.416GB\t2022-06-01 05:19 UTC\n",
    "RvsMeanSpectrum/\t18.05GB\t2022-06-01 05:17 UTC\n",
    "VariCompactCompanion/\t22.43MB\t2022-06-01 05:18 UTC\n",
    "McmcSamplesMsc/\t1.147TB\t2022-06-06 00:33 UTC\n",
    "XpSampledMeanSpectrum/\t89.14GB\t2022-06-01 11:56 UTC\n",
    "SsoObservation/\t8.216GB\t2022-06-01 05:17 UTC\n",
    "GoldSampleCarbonStars/\t125.1KB\t2022-06-01 05:15 UTC\n",
    "Ravedr6Neighbourhood/\t35.72MB\t2022-06-01 05:15 UTC\n",
    "NssVimFl/\t207.8KB\t2022-06-01 05:15 UTC\n",
    "VariMsOscillator/\t18.82MB\t2022-06-01 05:19 UTC\n",
    "VariShortTimescale/\t40.40MB\t2022-06-01 05:19 UTC\n",
    "VariMicrolensing/\t4.272MB\t2022-06-01 05:19 UTC\n",
    "TotalGalacticExtinctionMapOpt/\t93.00MB\t2022-06-05 17:49 UTC\n",
    "SsoOrbits/\t89.53MB\t2022-06-01 05:17 UTC\n",
    "ScienceAlerts/\t88.27KB\t2022-06-05 16:18 UTC\n",
    "GoldSampleFgkmStars/\t374.2MB\t2022-06-01 05:15 UTC\n",
    "NssTwoBodyOrbit/\t511.5MB\t2022-06-01 05:15 UTC\n",
    "QsoCandidates/\t2.097GB\t2022-06-01 05:15 UTC\n",
    "GoldSampleUcd/\t662.3KB\t2022-06-01 05:15 UTC\n",
    "GoldSampleSolarAnalogues/\t47.90KB\t2022-06-01 05:15 UTC\n",
    "VariSummary/\t3.222GB\t2022-06-01 05:20 UTC\n",
    "VariCepheid/\t91.86MB\t2022-06-01 05:18 UTC\n",
    "VariClassifierClassDefinition/\t9.547KB\t2022-06-01 05:18 UTC\n",
    "TotalGalacticExtinctionMap/\t171.3MB\t2022-06-05 17:47 UTC\n",
    "SsoReflectanceSpectrum/\t81.93MB\t2022-06-01 05:17 UTC\n",
    "QsoCatalogueName/\t49.61MB\t2022-06-01 05:15 UTC\n",
    "Ravedr6Join/\t29.67MB\t2022-06-01 05:15 UTC\n",
    "GalaxyCandidates/\t1.565GB\t2022-06-01 05:14 UTC\n",
    "AstrophysicalParametersSupp/\t311.3GB\t2022-06-01 03:51 UTC\n",
    "McmcSamplesGspPhot/\t2.855TB\t2022-06-06 09:58 UTC\n",
    "XpSummary/\t13.10GB\t2022-06-01 11:58 UTC\n",
    "OaNeuronXpSpectra/\t2.394MB\t2022-06-05 16:16 UTC\n",
    "XpMerge/\t10.79KB\t2022-06-01 11:39 UTC\n",
    "VariClassifierResult/\t223.5MB\t2022-06-01 05:18 UTC\n",
    "GalaxyCatalogueName/\t18.44MB\t2022-06-01 05:15 UTC\n",
    "OaNeuronInformation/\t333.1KB\t2022-06-05 16:13 UTC\n",
    "EpochPhotometry/\t135.5GB\t2022-06-01 03:55 UTC\n",
    "GaiaCrf3Xm/\t580.5MB\t2022-06-01 04:19 UTC\n",
    "VariEclipsingBinary/\t407.4MB\t2022-06-01 05:18 UTC\n",
    "VariLongPeriodVariable/\t79.12MB\t2022-06-01 05:19 UTC\n",
    "SyntheticPhotometryGspc/\t36.91GB\t2022-06-01 05:18 UTC\n",
    "aux/\t862.3KB\t2022-06-05 17:51 UTC\n",
    "VariRadVelStatistics/\t9.526MB\t2022-06-01 05:19 UTC\n",
    "GaiaSource/\t0.990TB\t2022-06-01 05:14 UTC\"\"\"\n",
    "\n",
    "bar = np.array([string.split('\\t') for string in foo.split('\\n')])\n",
    "\n",
    "sizes = []\n",
    "fact = 1024\n",
    "\n",
    "for size in bar[:,1]:\n",
    "    if 'KB' in size: power = 1\n",
    "    elif 'MB' in size: power = 2\n",
    "    elif 'GB' in size: power = 3\n",
    "    elif 'TB' in size: power = 4\n",
    "    else: raise ValueError\n",
    "    sizes+=[eval(size[:-2])*fact**power]\n",
    "np.sum(sizes)/fact**4"
   ]
  },
  {
   "cell_type": "code",
   "execution_count": 62,
   "id": "198d2262-1187-470e-b161-d4685626a272",
   "metadata": {},
   "outputs": [
    {
     "data": {
      "image/png": "[encoded data removed]",
      "text/plain": [
       "<Figure size 720x480 with 2 Axes>"
      ]
     },
     "metadata": {},
     "output_type": "display_data"
    },
    {
     "data": {
      "image/png": "[encoded data removed]",
      "text/plain": [
       "<Figure size 720x480 with 1 Axes>"
      ]
     },
     "metadata": {},
     "output_type": "display_data"
    }
   ],
   "source": [
    "old_interval = (0,4)\n",
    "new_interval = (np.log10(2e3),5)\n",
    "temps = remap_nonparametrically(outdfRV['bp_rp'],old_interval,new_interval)\n",
    "\n",
    "h,edges,p = plt.hist(outdfRV['bp_rp'],bins=np.linspace(*old_interval))\n",
    "ax1 = plt.gca()\n",
    "ax2 = ax1.twiny()\n",
    "\n",
    "ax2.hist(temps,bins=np.linspace(*new_interval),histtype='step',color='C1',lw=3)\n",
    "\n",
    "ax1.set_xlabel('bp_rp')\n",
    "ax2.set_xlabel('log10(T)')\n",
    "plt.gcf().set_facecolor('white')\n",
    "plt.gcf().set_dpi(120)\n",
    "\n",
    "plt.figure()\n",
    "plt.plot(outdfRV['bp_rp'],temps,'.')\n",
    "plt.gca().set_ylabel('log10(T)')\n",
    "plt.gca().set_xlabel('bp_rp')\n",
    "plt.gcf().set_dpi(120)\n",
    "plt.gcf().set_facecolor('white')"
   ]
  },
  {
   "cell_type": "code",
   "execution_count": 63,
   "id": "829dc653-286a-4c44-aa7c-18fbdf3ede8d",
   "metadata": {},
   "outputs": [
    {
     "data": {
      "text/plain": [
       "dict_keys(['x', 'y', 'z', 'vx', 'vy', 'vz', 'bp_rp', 'phot_g_mean_mag'])"
      ]
     },
     "execution_count": 63,
     "metadata": {},
     "output_type": "execute_result"
    }
   ],
   "source": [
    "outdfRV.keys()"
   ]
  },
  {
   "cell_type": "code",
   "execution_count": 64,
   "id": "0991be4b-2097-406c-8cf1-017023486fa1",
   "metadata": {},
   "outputs": [
    {
     "data": {
      "text/plain": [
       "array([[ 1.68367381e+02,  6.53687185e+01, -7.54486191e+02],\n",
       "       [ 1.61237326e+02,  6.25836230e+01, -7.18833031e+02],\n",
       "       [ 1.88487222e+02,  7.45352916e+01, -8.42938793e+02],\n",
       "       ...,\n",
       "       [ 2.91750752e+01,  2.39391026e+02, -1.02051802e+03],\n",
       "       [ 5.62918348e+02,  4.35007267e+03, -1.85454459e+04],\n",
       "       [ 1.49357826e+01,  1.17563941e+02, -4.99866294e+02]])"
      ]
     },
     "execution_count": 64,
     "metadata": {},
     "output_type": "execute_result"
    }
   ],
   "source": [
    "coordinates = np.zeros((outdfRV['x'].shape[0],3))\n",
    "velocities = np.zeros((outdfRV['x'].shape[0],3))\n",
    "\n",
    "for i,axis in enumerate(['x','y','z']):\n",
    "    coordinates[:,i] = outdfRV[axis]\n",
    "    velocities[:,i] = outdfRV[f'v{axis}']\n",
    "coordinates"
   ]
  },
  {
   "cell_type": "code",
   "execution_count": 66,
   "id": "83c495e5-a18b-4ddc-aafe-d53d03394435",
   "metadata": {},
   "outputs": [
    {
     "name": "stdout",
     "output_type": "stream",
     "text": [
      "bp_rp -0.048840523 4.6543627\n",
      "phot_g_mean_mag 4.331589 16.216284\n",
      "minus_mag -16.216284 -4.331589\n",
      "log10Temperature 3.3470547510700426 4.915392704155563\n"
     ]
    }
   ],
   "source": [
    "fields = {key:outdfRV[key] for key in ['bp_rp','phot_g_mean_mag']}\n",
    "fields['minus_mag'] = -fields['phot_g_mean_mag']\n",
    "fields['log10Temperature'] = temps\n",
    "for key,value in fields.items():\n",
    "    print(key,np.min(value),np.max(value))"
   ]
  },
  {
   "cell_type": "code",
   "execution_count": 71,
   "id": "c2a07d6a-f727-4266-ac76-9ebcc16ad067",
   "metadata": {},
   "outputs": [],
   "source": [
    "from firefly.data_reader import ArrayReader"
   ]
  },
  {
   "cell_type": "code",
   "execution_count": 73,
   "id": "2fdde841-9f10-468b-945a-73816980c3f9",
   "metadata": {},
   "outputs": [
    {
     "name": "stdout",
     "output_type": "stream",
     "text": [
      "JSONdir: /home/abg6257/GaiaeDR3 -- is not a sub-directory of firefly/static/data. \n",
      "This may produce confusing or inoperable results. As such, we will create a symlink for you when you writeToDisk.\n",
      "filter/colormap/radius flags correspond to: ['bp_rp', 'phot_g_mean_mag', 'minus_mag', 'log10Temperature']\n",
      "Outputting: DR3-RV - 19264/19264 particles - 5 tracked fields\n"
     ]
    },
    {
     "data": {
      "text/plain": [
       "''"
      ]
     },
     "execution_count": 73,
     "metadata": {},
     "output_type": "execute_result"
    }
   ],
   "source": [
    "reader = ArrayReader(\n",
    "    ## don't have to pass as a list with 1 element \n",
    "    ##  if only 1 particle group\n",
    "    coordinates,\n",
    "    velocities,\n",
    "    'DR3-RV',\n",
    "    fields,\n",
    "    JSONdir='GaiaeDR3', ## if not an absolute path assumes from ~\n",
    "    clean_JSONdir=True, ## delete old files in the directory\n",
    "    write_startup=True, ## overwrite the startup file (and turn off PG append)\n",
    "    write_to_disk=False, ## whether to write to disk at the end of __init__\n",
    "    field_filter_flags=[True,True,False,True], ## flags corresponding to fields\n",
    "    field_colormap_flags=[True,True,False,True],\n",
    "    field_radius_flags=[False,False,True,False],\n",
    ")\n",
    "\n",
    "reader.settings['sizeMult']['DR3-RV'] = 1\n",
    "#reader.settings['radiusVariable']['eDR3-RV'] = 1\n",
    "\n",
    "## pick the last colormap, blackbody\n",
    "index = (256/8-1)\n",
    "reader.settings['colormap']['DR3-RV'] = (index + 0.5) * (8/256)\n",
    "reader.settings['colormapVariable']['DR3-RV'] = 2\n",
    "reader.settings['showColormap']['DR3-RV'] = True\n",
    "reader.settings['GUIExcludeList'] = [\n",
    "    'DR3-RV/dropdown/colormap',\n",
    "    'DR3-RV/colorPicker',\n",
    "    'DR3-RV/dropdown/general/radiusVariableSelector']\n",
    "\n",
    "\n",
    "reader.writeToDisk()"
   ]
  },
  {
   "cell_type": "code",
   "execution_count": null,
   "id": "0667200b-40fb-4165-a0e5-1df53ef6ecde",
   "metadata": {},
   "outputs": [],
   "source": []
  }
 ],
 "metadata": {
  "kernelspec": {
   "display_name": "Python 3",
   "language": "python",
   "name": "python3"
  },
  "language_info": {
   "codemirror_mode": {
    "name": "ipython",
    "version": 3
   },
   "file_extension": ".py",
   "mimetype": "text/x-python",
   "name": "python",
   "nbconvert_exporter": "python",
   "pygments_lexer": "ipython3",
   "version": "3.9.1"
  }
 },
 "nbformat": 4,
 "nbformat_minor": 5
}

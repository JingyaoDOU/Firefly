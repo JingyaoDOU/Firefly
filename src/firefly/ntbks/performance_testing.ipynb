{
 "cells": [
  {
   "cell_type": "code",
   "execution_count": 1,
   "id": "ce535188-5db9-4bba-a96b-5c744113477a",
   "metadata": {},
   "outputs": [],
   "source": [
    "%load_ext autoreload\n",
    "%autoreload 2"
   ]
  },
  {
   "cell_type": "code",
   "execution_count": 2,
   "id": "09b85184-713f-4e64-a046-eeb288a6aca0",
   "metadata": {},
   "outputs": [],
   "source": [
    "import numpy as np\n",
    "import os"
   ]
  },
  {
   "cell_type": "code",
   "execution_count": 3,
   "id": "b086f069-ea89-4aee-b9e3-ef06b3fe62fd",
   "metadata": {},
   "outputs": [
    {
     "name": "stdout",
     "output_type": "stream",
     "text": [
      "don't have phil's colormaps\n"
     ]
    }
   ],
   "source": [
    "from firefly.data_reader import ArrayReader"
   ]
  },
  {
   "cell_type": "code",
   "execution_count": 4,
   "id": "98288d6a-a44c-44fa-bc22-571654fca55c",
   "metadata": {},
   "outputs": [],
   "source": [
    "from firefly.data_reader import FIREreader,SimpleFIREreader,TweenParams\n",
    "from abg_python.galaxy.gal_utils import Galaxy"
   ]
  },
  {
   "cell_type": "code",
   "execution_count": 5,
   "id": "6033196e-28ca-4760-9a77-29b74b83bd07",
   "metadata": {},
   "outputs": [],
   "source": [
    "from abg_python.fitting_utils import fitAXb"
   ]
  },
  {
   "cell_type": "code",
   "execution_count": 6,
   "id": "6d4cb873-25e9-4827-8770-f2c680726ff5",
   "metadata": {},
   "outputs": [],
   "source": [
    "from abg_python.plot_utils import plt,nameAxes,bufferAxesLabels,latex_columnwidth,clean_savefig,latex_pagewidth\n",
    "%matplotlib inline"
   ]
  },
  {
   "cell_type": "code",
   "execution_count": 7,
   "id": "4cf0cb66-56d1-4f46-b9d7-69d8d746d8a4",
   "metadata": {},
   "outputs": [],
   "source": [
    "import os"
   ]
  },
  {
   "cell_type": "code",
   "execution_count": 8,
   "id": "fe83bca2-a3e0-4483-afb7-1302993554d0",
   "metadata": {},
   "outputs": [],
   "source": [
    "from abg_python.color_utils import get_distinct"
   ]
  },
  {
   "cell_type": "code",
   "execution_count": 9,
   "id": "2bd1d1d8-6b7f-4a8a-b68a-24d7396d82ca",
   "metadata": {},
   "outputs": [],
   "source": [
    "import sys"
   ]
  },
  {
   "cell_type": "code",
   "execution_count": 10,
   "id": "6fc440af-d1f7-496d-9ad8-949c0e1a322e",
   "metadata": {},
   "outputs": [],
   "source": [
    "sys.path.insert(0, '/Users/ageller/VISUALIZATIONS/Firefly')\n",
    "sys.path.insert(0,'/Users/agurvich/research/repos/firefly/src')"
   ]
  },
  {
   "cell_type": "code",
   "execution_count": 11,
   "id": "ac9a27ec-3b65-477e-b1c4-044a25d173cf",
   "metadata": {},
   "outputs": [
    {
     "name": "stdout",
     "output_type": "stream",
     "text": [
      "Couldn't find a metadata file... for\n",
      " Metadata object at /Users/agurvich/scratch/data/metal_diffusion/m12b_res57000/metadata/meta_Galaxy_600.hdf5\n",
      "No rstar 1/2 in halo or metadata files, we will need to calculate it ourselves.\n",
      "Loading star particles of m12b_res57000 at 600 at /Users/agurvich/snaps/metal_diffusion/m12b_res57000/output\n",
      "Failed to open saved sub-snapshots AssertionError('Told not to use saved sub-snapshots')\n",
      "Loading gas particles of m12b_res57000 at 600 at /Users/agurvich/snaps/metal_diffusion/m12b_res57000/output\n",
      "Loading dark matter particles of m12b_res57000 at 600 at /Users/agurvich/snaps/metal_diffusion/m12b_res57000/output\n",
      "Reorienting...\n",
      "Done.\n",
      "extract_halo_inner(m12b_res57000 at 600,){'orient_stars': True, 'use_saved_subsnapshots': False} 11.86 s elapsed\n",
      "Snapshot memory free\n"
     ]
    },
    {
     "data": {
      "text/plain": [
       "(12.27201256901771,\n",
       " True,\n",
       " 13.610546783496492,\n",
       " -23.753615253930974,\n",
       " 331.60968,\n",
       " 2.454402513803542,\n",
       " 140.56429531755958)"
      ]
     },
     "execution_count": 11,
     "metadata": {},
     "output_type": "execute_result"
    }
   ],
   "source": [
    "galaxy = Galaxy('m12b_res57000',600)\n",
    "galaxy.extractMainHalo(use_saved_subsnapshots=False)"
   ]
  },
  {
   "cell_type": "code",
   "execution_count": 12,
   "id": "aa289e66-cd29-4f15-aee4-f75778c88e76",
   "metadata": {},
   "outputs": [],
   "source": [
    "thetas = np.arange(0,360,1)\n",
    "xs = np.sin(thetas/180*np.pi)*(-1e4)\n",
    "zs = np.cos(thetas/180*np.pi)*(-1e4)\n",
    "coords = np.zeros((thetas.size,3))\n",
    "coords[:,0] = xs\n",
    "coords[:,-1] = zs\n",
    "\n",
    "my_tween = TweenParams(coords,duration=10)"
   ]
  },
  {
   "cell_type": "code",
   "execution_count": 13,
   "id": "975c41ce-8ef3-42ac-8796-dab537405dfc",
   "metadata": {},
   "outputs": [
    {
     "name": "stdout",
     "output_type": "stream",
     "text": [
      "datadir is None, defaulting to /Users/agurvich/research/repos/Firefly/src/firefly/static/data/Data\n",
      "Importing existing settings from /Users/agurvich/research/repos/Firefly/src/firefly/static/data/Data/DataSettings.json\n",
      "Loading ptype 2\n",
      "Loading ptype 1\n",
      "Loading ptype 4\n",
      "Loading ptype 0\n"
     ]
    },
    {
     "data": {
      "text/plain": [
       "array([Gas - 622573/6225729 particles - 4 tracked fields,\n",
       "       Stars - 3265/3264723 particles - 3 tracked fields,\n",
       "       HRDM - 9324/9323040 particles - 2 tracked fields,\n",
       "       LRDM - 3043/3042265 particles - 2 tracked fields], dtype=object)"
      ]
     },
     "execution_count": 13,
     "metadata": {},
     "output_type": "execute_result"
    }
   ],
   "source": [
    "## create a FIRE reader object\n",
    "reader = FIREreader(\n",
    "    ## path to directory containing (optionally multiple) .hdf5 files\n",
    "    snapdir = \"/Users/agurvich/research/snaps/metal_diffusion/m12b_res57000/output/\",\n",
    "    ## the snapshot number, best to provide separately in order to disambiguate\n",
    "    snapnum = 600,\n",
    "    ## particle types one would like to extract from .hdf5 files\n",
    "    ptypes=[0,4,1,2],\n",
    "    ## what to call them in the UI\n",
    "    UInames=['Gas','Stars','HRDM','LRDM'],\n",
    "    ## by what factor would we like to reduce the data for performance stability and disk space concerns\n",
    "    decimation_factors=[10,1000,1000,1000],\n",
    "    ## what fields would we like to extract\n",
    "    fields=['Density','Temperature','AgeGyr','GCRadius'],\n",
    "    ## do we want to take the magnitude of any of these fields?\n",
    "    ## do we want to take the log? \n",
    "    logFlags=[True,True,False,False],\n",
    "    ## which fields do we want to be able to filter on?\n",
    "    filterFlags=[True,True,True,True],\n",
    "    ## which fields do we want to be able to colormap by?\n",
    "    colormapFlags=[True,True,True,True],\n",
    "    radiusFlags=[False,True,True,False],\n",
    "    ## where should the output .json files be saved to? \n",
    "    ##  if a relative path is given, like here, saves to $HOME/<JSONdir>\n",
    "    ##  and creates a soft-link to firefly/static/data\n",
    "    JSONdir=os.path.abspath(os.path.join(os.getcwd(),'..','static','data','FIRESampleData')),\n",
    "    ## overwrite the existing startup.json file\n",
    "    write_startup=True,\n",
    "    clean_JSONdir=True,\n",
    "    tweenParams=my_tween)\n",
    "\n",
    "## fetch data from .hdf5 files\n",
    "reader.loadData(\n",
    "    com=galaxy.scom,\n",
    "    vcom=galaxy.sub_snap['vscom'])"
   ]
  },
  {
   "cell_type": "markdown",
   "id": "24473d42-9b35-4789-a1a7-a3b7ebd57607",
   "metadata": {},
   "source": [
    "# Octree testing!"
   ]
  },
  {
   "cell_type": "code",
   "execution_count": 14,
   "id": "1b59b203-a45c-4276-a1fc-66f0aed7b6d5",
   "metadata": {},
   "outputs": [],
   "source": [
    "this_pg = reader.particleGroups[0]"
   ]
  },
  {
   "cell_type": "code",
   "execution_count": 40,
   "id": "cf99615b-99ef-4d08-b813-a554398e0c9c",
   "metadata": {},
   "outputs": [
    {
     "name": "stdout",
     "output_type": "stream",
     "text": [
      "ejecting 10256 particles that are outside this node (1.65%)\n",
      "Gas - 612,316 parts (1 nodes) - 4 fields (0.0%) ['']\n",
      "deleting 10 unreferenced files.\n",
      "No work to be done! Celebrate!\n",
      "\n",
      "0.23731983502705892 min elapsed\n",
      "Make sure each field_array (4) has a field_filter_flag (0), assuming True.\n",
      "Make sure each field_array (4) has a field_colormap_flag (0), assuming True.\n",
      "Make sure each field_array (4) has a field_radius_flag (0), assuming False.\n"
     ]
    }
   ],
   "source": [
    "reader.createOctrees([True,False,False,False])"
   ]
  },
  {
   "cell_type": "code",
   "execution_count": 41,
   "id": "bd45c510-d0c7-462a-bf89-78f57a1119a5",
   "metadata": {},
   "outputs": [
    {
     "data": {
      "text/plain": [
       "array([Gas - 612,316 parts (99 nodes) - 4 fields,\n",
       "       Stars - 3265/3264723 particles - 3 tracked fields,\n",
       "       HRDM - 9324/9323040 particles - 2 tracked fields,\n",
       "       LRDM - 3043/3042265 particles - 2 tracked fields], dtype=object)"
      ]
     },
     "execution_count": 41,
     "metadata": {},
     "output_type": "execute_result"
    }
   ],
   "source": [
    "reader.particleGroups"
   ]
  },
  {
   "cell_type": "code",
   "execution_count": 36,
   "id": "7c5a0f28-8373-412a-bcf1-4cba91e631d3",
   "metadata": {},
   "outputs": [
    {
     "name": "stdout",
     "output_type": "stream",
     "text": [
      "ejecting 103136 particles that are outside this node (1.66%)\n"
     ]
    }
   ],
   "source": [
    "oct_pg = this_pg.spawn_octree_pg(reader.datadir,1e4)"
   ]
  },
  {
   "cell_type": "code",
   "execution_count": 37,
   "id": "a969f8b9-19d1-4f7d-ba47-02a19d5b78c9",
   "metadata": {},
   "outputs": [
    {
     "name": "stdout",
     "output_type": "stream",
     "text": [
      "Gas - 6,122,593 parts (1 nodes) - 4 fields (0.0%) ['']\n",
      "deleting 10 unreferenced files.\n",
      "Gas - 6,122,593 parts (9 nodes) - 4 fields (0.0%) ['6', '2', '4', '0', '7', '1', '5', '3']\n",
      "Gas - 6,122,593 parts (36 nodes) - 4 fields (1.3%) ['03', '56', '61', '07', '41', '52', '30', '70', '43', '32', '12', '25', '16', '65', '47', '27', '01', '72', '53', '05', '34', '63', '36']\n",
      "Gas - 6,122,593 parts (137 nodes) - 4 fields (6.5%) ['277', '434', '300', '307', '523', '013', '345', '611', '167', '431', '255', '164', '437', '327', '563', '700', '635', '306', '615', '702', '014', '435', '324', '477', '035', '346', '654', '344', '633', '527', '056', '473', '077', '360', '251', '655', '342', '651', '053', '071', '305', '017', '166', '522', '122', '037', '257', '120', '124', '340', '433', '075', '613', '430', '631', '617', '720', '301', '412', '632', '126', '052', '303', '162', '476', '016', '526', '070', '057', '275', '704', '520', '341', '364', '343', '073', '325', '304', '321']\n",
      "Gas - 6,122,593 parts (396 nodes) - 4 fields (30.2%) ['3041', '6155', '3460', '6111', '5261', '4371', '3405', '3466', '7040', '6336', '0771', '3464', '5227', '7000', '3446', '6515', '3443', '3442', '3425', '5263', '3402', '7004', '6135', '5222', '6511', '3407', '5274', '0773', '4733', '3061', '3070', '4316', '3462', '3421', '3056', '7024', '6514', '3047', '7006', '6151', '1662', '3074', '0714', '4352', '6137', '4331', '4736', '0753', '6117', '4377', '4337', '0717', '2555', '0735', '6545', '4773', '0710', '3036', '6113', '2551', '4732', '0777', '4333', '6115', '4776', '0351', '6311', '0165', '6315', '6313', '3045', '0713', '4373', '3065', '4737', '1221', '6334', '3424', '6316', '7020', '3043', '1660', '3440', '6510', '7001', '3412', '3404', '0715', '4335', '5631', '3444', '5223', '6317', '6133', '5262', '6332', '5226', '1666', '7002', '0532', '3406', '4772', '3052', '1626', '3401', '3445', '1667', '6131', '7022', '1664', '7026', '3403', '3441', '3423', '6327', '0775']\n",
      "Gas - 6,122,593 parts (731 nodes) - 4 fields (66.0%) ['34445', '07776', '34440', '43373', '43352', '34444', '34406', '47332', '52222', '61371', '63366', '30740', '34421', '61511', '34402', '30562', '43332', '61515', '63362', '43331', '30704', '16666', '25551', '43776', '07777', '43335', '43737', '30473', '43733', '70002', '43772', '16662', '16664', '61115', '30651', '43337', '30526', '47336', '30655', '52220', '70004', '61113', '43316', '07775', '16667', '25557', '43317', '61155', '52223', '61111', '61151', '52226', '34420', '70000', '34446', '25555', '34074', '30477', '61110', '70260', '52262', '52621', '70001', '07773', '43333', '25554', '34403', '30744', '30475']\n",
      "Gas - 6,122,593 parts (902 nodes) - 4 fields (84.7%) ['344445', '344440', '344027', '077773', '255551', '306551', '700001', '611111', '304737', '473362', '344444', '611113', '166666', '077777', '306515', '522220', '522222', '166667', '700000', '433331', '166662', '433333', '166664', '255557', '611110', '611115', '077775', '522223', '255554', '255555', '077776', '433332']\n",
      "Gas - 6,122,593 parts (972 nodes) - 4 fields (92.4%) ['5222222', '2555555', '7000000', '3440274', '6111111', '4733622', '3065150', '0777777', '3065151', '1666666', '3440276', '4333333', '3444444']\n",
      "Gas - 6,122,593 parts (989 nodes) - 4 fields (94.6%) ['30651510', '16666666', '34402742', '30651514', '61111111', '52222222', '34444444', '25555555', '34402765', '43333333']\n",
      "Gas - 6,122,593 parts (1,003 nodes) - 4 fields (96.1%) ['344444444', '611111111', '306515140', '255555555', '306515142', '433333331', '433333333', '166666666', '522222222']\n",
      "deleting 90 unreferenced files.\n",
      "Gas - 6,122,593 parts (1,021 nodes) - 4 fields (98.2%) ['3444444445', '2555555557', '1666666667', '4333333333', '3444444444', '3444444446', '6111111111', '1666666666', '3065151421']\n",
      "deleting 90 unreferenced files.\n",
      "No work to be done! Celebrate!\n",
      "\n",
      "5.693420648574829 min elapsed\n",
      "Make sure each field_array (4) has a field_filter_flag (0), assuming True.\n",
      "Make sure each field_array (4) has a field_colormap_flag (0), assuming True.\n",
      "Make sure each field_array (4) has a field_radius_flag (0), assuming False.\n"
     ]
    }
   ],
   "source": [
    "oct_pg.build(nrecurse=0)"
   ]
  },
  {
   "cell_type": "code",
   "execution_count": 17,
   "id": "f41d4207-aaa4-4a0c-885f-2e102c7afda4",
   "metadata": {},
   "outputs": [],
   "source": [
    "import time"
   ]
  },
  {
   "cell_type": "code",
   "execution_count": 56,
   "id": "bcc8b72d-8a2e-4537-b93f-fbce62a0c9f7",
   "metadata": {},
   "outputs": [],
   "source": [
    "import time"
   ]
  },
  {
   "cell_type": "code",
   "execution_count": 59,
   "id": "f800bd2c-d3d0-48c3-836c-4e8b0e2fd39c",
   "metadata": {},
   "outputs": [],
   "source": [
    "import shutil"
   ]
  },
  {
   "cell_type": "code",
   "execution_count": 60,
   "id": "0ab87528-b2a3-4a4f-8e42-860d3343fba2",
   "metadata": {},
   "outputs": [],
   "source": []
  },
  {
   "cell_type": "code",
   "execution_count": 181,
   "id": "1254b664-d43b-421c-b74a-6fbd7b91850a",
   "metadata": {},
   "outputs": [
    {
     "data": {
      "text/plain": [
       "[612.0, 6122.0, 61225.0, 612259, 2040864, 3061296, 6122593]"
      ]
     },
     "execution_count": 181,
     "metadata": {},
     "output_type": "execute_result"
    }
   ],
   "source": []
  },
  {
   "cell_type": "code",
   "execution_count": 74,
   "id": "def17323-ac7f-4566-b4a8-0dfbdfe01128",
   "metadata": {},
   "outputs": [
    {
     "name": "stdout",
     "output_type": "stream",
     "text": [
      "ejecting 11 particles that are outside this node (1.77%)\n",
      "\n",
      "2.3047129313151042e-07 min elapsed\n",
      "Make sure each field_array (4) has a field_filter_flag (0), assuming True.\n",
      "Make sure each field_array (4) has a field_colormap_flag (0), assuming True.\n",
      "Make sure each field_array (4) has a field_radius_flag (0), assuming False.\n",
      "ejecting 10 particles that are outside this node (1.61%)\n",
      "\n",
      "1.8278757731119793e-07 min elapsed\n",
      "Make sure each field_array (4) has a field_filter_flag (0), assuming True.\n",
      "Make sure each field_array (4) has a field_colormap_flag (0), assuming True.\n",
      "Make sure each field_array (4) has a field_radius_flag (0), assuming False.\n",
      "ejecting 8 particles that are outside this node (1.29%)\n",
      "\n",
      "3.616015116373698e-07 min elapsed\n",
      "Make sure each field_array (4) has a field_filter_flag (0), assuming True.\n",
      "Make sure each field_array (4) has a field_colormap_flag (0), assuming True.\n",
      "Make sure each field_array (4) has a field_radius_flag (0), assuming False.\n",
      "[[0.15980124 0.14239311 0.13646412]\n",
      " [0.         0.         0.        ]\n",
      " [0.         0.         0.        ]\n",
      " [0.         0.         0.        ]\n",
      " [0.         0.         0.        ]\n",
      " [0.         0.         0.        ]\n",
      " [0.         0.         0.        ]]\n",
      "ejecting 102 particles that are outside this node (1.64%)\n",
      "\n",
      "3.337860107421875e-07 min elapsed\n",
      "Make sure each field_array (4) has a field_filter_flag (0), assuming True.\n",
      "Make sure each field_array (4) has a field_colormap_flag (0), assuming True.\n",
      "Make sure each field_array (4) has a field_radius_flag (0), assuming False.\n",
      "ejecting 106 particles that are outside this node (1.70%)\n",
      "\n",
      "2.6226043701171877e-07 min elapsed\n",
      "Make sure each field_array (4) has a field_filter_flag (0), assuming True.\n",
      "Make sure each field_array (4) has a field_colormap_flag (0), assuming True.\n",
      "Make sure each field_array (4) has a field_radius_flag (0), assuming False.\n",
      "ejecting 95 particles that are outside this node (1.53%)\n",
      "Gas - 6,130 parts (1 nodes) - 4 fields (0.0%) ['']\n",
      "No work to be done! Celebrate!\n",
      "\n",
      "0.0018792867660522461 min elapsed\n",
      "Make sure each field_array (4) has a field_filter_flag (0), assuming True.\n",
      "Make sure each field_array (4) has a field_colormap_flag (0), assuming True.\n",
      "Make sure each field_array (4) has a field_radius_flag (0), assuming False.\n",
      "[[0.15980124 0.14239311 0.13646412]\n",
      " [0.17011094 0.1316812  0.2378931 ]\n",
      " [0.         0.         0.        ]\n",
      " [0.         0.         0.        ]\n",
      " [0.         0.         0.        ]\n",
      " [0.         0.         0.        ]\n",
      " [0.         0.         0.        ]]\n",
      "ejecting 1089 particles that are outside this node (1.75%)\n",
      "\n",
      "9.298324584960937e-07 min elapsed\n",
      "Make sure each field_array (4) has a field_filter_flag (0), assuming True.\n",
      "Make sure each field_array (4) has a field_colormap_flag (0), assuming True.\n",
      "Make sure each field_array (4) has a field_radius_flag (0), assuming False.\n",
      "ejecting 1004 particles that are outside this node (1.61%)\n",
      "Gas - 61,253 parts (1 nodes) - 4 fields (0.0%) ['']\n",
      "No work to be done! Celebrate!\n",
      "\n",
      "0.011341714859008789 min elapsed\n",
      "Make sure each field_array (4) has a field_filter_flag (0), assuming True.\n",
      "Make sure each field_array (4) has a field_colormap_flag (0), assuming True.\n",
      "Make sure each field_array (4) has a field_radius_flag (0), assuming False.\n",
      "ejecting 1028 particles that are outside this node (1.65%)\n",
      "Gas - 61,229 parts (1 nodes) - 4 fields (0.0%) ['']\n",
      "deleting 10 unreferenced files.\n",
      "No work to be done! Celebrate!\n",
      "\n",
      "0.023133711020151774 min elapsed\n",
      "Make sure each field_array (4) has a field_filter_flag (0), assuming True.\n",
      "Make sure each field_array (4) has a field_colormap_flag (0), assuming True.\n",
      "Make sure each field_array (4) has a field_radius_flag (0), assuming False.\n",
      "[[0.15980124 0.14239311 0.13646412]\n",
      " [0.17011094 0.1316812  0.2378931 ]\n",
      " [0.16485381 0.84279919 1.52978992]\n",
      " [0.         0.         0.        ]\n",
      " [0.         0.         0.        ]\n",
      " [0.         0.         0.        ]\n",
      " [0.         0.         0.        ]]\n",
      "ejecting 10391 particles that are outside this node (1.67%)\n",
      "Gas - 612,181 parts (1 nodes) - 4 fields (0.0%) ['']\n",
      "No work to be done! Celebrate!\n",
      "\n",
      "0.1479321002960205 min elapsed\n",
      "Make sure each field_array (4) has a field_filter_flag (0), assuming True.\n",
      "Make sure each field_array (4) has a field_colormap_flag (0), assuming True.\n",
      "Make sure each field_array (4) has a field_radius_flag (0), assuming False.\n",
      "ejecting 10308 particles that are outside this node (1.66%)\n",
      "Gas - 612,264 parts (1 nodes) - 4 fields (0.0%) ['']\n",
      "deleting 10 unreferenced files.\n",
      "No work to be done! Celebrate!\n",
      "\n",
      "0.26524311701456704 min elapsed\n",
      "Make sure each field_array (4) has a field_filter_flag (0), assuming True.\n",
      "Make sure each field_array (4) has a field_colormap_flag (0), assuming True.\n",
      "Make sure each field_array (4) has a field_radius_flag (0), assuming False.\n",
      "ejecting 10469 particles that are outside this node (1.68%)\n",
      "Gas - 612,103 parts (1 nodes) - 4 fields (0.0%) ['']\n",
      "deleting 10 unreferenced files.\n",
      "No work to be done! Celebrate!\n",
      "\n",
      "0.36859539747238157 min elapsed\n",
      "Make sure each field_array (4) has a field_filter_flag (0), assuming True.\n",
      "Make sure each field_array (4) has a field_colormap_flag (0), assuming True.\n",
      "Make sure each field_array (4) has a field_radius_flag (0), assuming False.\n",
      "[[ 0.15980124  0.14239311  0.13646412]\n",
      " [ 0.17011094  0.1316812   0.2378931 ]\n",
      " [ 0.16485381  0.84279919  1.52978992]\n",
      " [ 9.2632432  16.44736505 22.72431302]\n",
      " [ 0.          0.          0.        ]\n",
      " [ 0.          0.          0.        ]\n",
      " [ 0.          0.          0.        ]]\n",
      "ejecting 34544 particles that are outside this node (1.66%)\n",
      "Gas - 2,040,699 parts (1 nodes) - 4 fields (0.0%) ['']\n",
      "deleting 10 unreferenced files.\n",
      "No work to be done! Celebrate!\n",
      "\n",
      "1.6977811376253764 min elapsed\n",
      "Make sure each field_array (4) has a field_filter_flag (0), assuming True.\n",
      "Make sure each field_array (4) has a field_colormap_flag (0), assuming True.\n",
      "Make sure each field_array (4) has a field_radius_flag (0), assuming False.\n",
      "ejecting 34374 particles that are outside this node (1.66%)\n",
      "Gas - 2,040,869 parts (1 nodes) - 4 fields (0.0%) ['']\n",
      "deleting 10 unreferenced files.\n",
      "No work to be done! Celebrate!\n",
      "\n",
      "2.742401432991028 min elapsed\n",
      "Make sure each field_array (4) has a field_filter_flag (0), assuming True.\n",
      "Make sure each field_array (4) has a field_colormap_flag (0), assuming True.\n",
      "Make sure each field_array (4) has a field_radius_flag (0), assuming False.\n",
      "ejecting 34911 particles that are outside this node (1.68%)\n",
      "Gas - 2,040,332 parts (1 nodes) - 4 fields (0.0%) ['']\n",
      "deleting 10 unreferenced files.\n",
      "Gas - 2,040,332 parts (3,545 nodes) - 4 fields (98.9%) ['61111111110', '43333333333', '43333333331', '61111111111', '34444444444', '52222222220', '43333333332', '25555555557', '30651514216', '16666666665', '34444444452', '25555555575', '34444444446', '34444444445', '16666666667', '61111111112', '34444444464', '30651514212']\n",
      "deleting 180 unreferenced files.\n",
      "No work to be done! Celebrate!\n",
      "\n",
      "3.936839214960734 min elapsed\n",
      "Make sure each field_array (4) has a field_filter_flag (0), assuming True.\n",
      "Make sure each field_array (4) has a field_colormap_flag (0), assuming True.\n",
      "Make sure each field_array (4) has a field_radius_flag (0), assuming False.\n",
      "[[1.59801245e-01 1.42393112e-01 1.36464119e-01]\n",
      " [1.70110941e-01 1.31681204e-01 2.37893105e-01]\n",
      " [1.64853811e-01 8.42799187e-01 1.52978992e+00]\n",
      " [9.26324320e+00 1.64473650e+01 2.27243130e+01]\n",
      " [1.03435859e+02 1.65861193e+02 2.37921318e+02]\n",
      " [0.00000000e+00 0.00000000e+00 0.00000000e+00]\n",
      " [0.00000000e+00 0.00000000e+00 0.00000000e+00]]\n",
      "ejecting 51957 particles that are outside this node (1.67%)\n",
      "Gas - 3,060,907 parts (1 nodes) - 4 fields (0.0%) ['']\n",
      "deleting 10 unreferenced files.\n",
      "No work to be done! Celebrate!\n",
      "\n",
      "5.5205923318862915 min elapsed\n",
      "Make sure each field_array (4) has a field_filter_flag (0), assuming True.\n",
      "Make sure each field_array (4) has a field_colormap_flag (0), assuming True.\n",
      "Make sure each field_array (4) has a field_radius_flag (0), assuming False.\n",
      "ejecting 51451 particles that are outside this node (1.65%)\n",
      "Gas - 3,061,413 parts (1 nodes) - 4 fields (0.0%) ['']\n",
      "deleting 10 unreferenced files.\n",
      "No work to be done! Celebrate!\n",
      "\n",
      "8.665705982844035 min elapsed\n",
      "Make sure each field_array (4) has a field_filter_flag (0), assuming True.\n",
      "Make sure each field_array (4) has a field_colormap_flag (0), assuming True.\n",
      "Make sure each field_array (4) has a field_radius_flag (0), assuming False.\n",
      "ejecting 51653 particles that are outside this node (1.66%)\n",
      "Gas - 3,061,211 parts (1 nodes) - 4 fields (0.0%) ['']\n",
      "deleting 10 unreferenced files.\n",
      "Gas - 3,061,211 parts (5,343 nodes) - 4 fields (98.2%) ['34444444444', '34444444452', '34444444445', '34444444464', '30651514210', '30651514207', '30651514243', '30651514032', '34444444446', '61111111112', '43333333333', '16666666657', '34444444451', '16666666673', '43333333325', '43333333327', '34444444454', '34444444447', '25555555574', '30651514214', '16666666667', '43333333313', '61111111103', '16666666676', '52222222202', '61111111110', '43333333331', '61111111111', '34444444450', '52222222220', '43333333332', '25555555557', '30651514216', '16666666665', '16666666666', '25555555575', '43333333314']\n",
      "deleting 370 unreferenced files.\n",
      "No work to be done! Celebrate!\n",
      "\n",
      "8.835800115267435 min elapsed\n",
      "Make sure each field_array (4) has a field_filter_flag (0), assuming True.\n",
      "Make sure each field_array (4) has a field_colormap_flag (0), assuming True.\n",
      "Make sure each field_array (4) has a field_radius_flag (0), assuming False.\n",
      "[[1.59801245e-01 1.42393112e-01 1.36464119e-01]\n",
      " [1.70110941e-01 1.31681204e-01 2.37893105e-01]\n",
      " [1.64853811e-01 8.42799187e-01 1.52978992e+00]\n",
      " [9.26324320e+00 1.64473650e+01 2.27243130e+01]\n",
      " [1.03435859e+02 1.65861193e+02 2.37921318e+02]\n",
      " [3.38624938e+02 5.22189200e+02 5.33120012e+02]\n",
      " [0.00000000e+00 0.00000000e+00 0.00000000e+00]]\n",
      "ejecting 103136 particles that are outside this node (1.66%)\n",
      "Gas - 6,122,593 parts (1 nodes) - 4 fields (0.0%) ['']\n",
      "deleting 10 unreferenced files.\n",
      "No work to be done! Celebrate!\n",
      "\n",
      "5.567227288087209 min elapsed\n",
      "Make sure each field_array (4) has a field_filter_flag (0), assuming True.\n",
      "Make sure each field_array (4) has a field_colormap_flag (0), assuming True.\n",
      "Make sure each field_array (4) has a field_radius_flag (0), assuming False.\n",
      "ejecting 103136 particles that are outside this node (1.66%)\n",
      "Gas - 6,122,593 parts (1 nodes) - 4 fields (0.0%) ['']\n",
      "deleting 10 unreferenced files.\n",
      "No work to be done! Celebrate!\n",
      "\n",
      "5.387325735886892 min elapsed\n",
      "Make sure each field_array (4) has a field_filter_flag (0), assuming True.\n",
      "Make sure each field_array (4) has a field_colormap_flag (0), assuming True.\n",
      "Make sure each field_array (4) has a field_radius_flag (0), assuming False.\n",
      "ejecting 103136 particles that are outside this node (1.66%)\n",
      "Gas - 6,122,593 parts (1 nodes) - 4 fields (0.0%) ['']\n",
      "deleting 10 unreferenced files.\n",
      "Gas - 6,122,593 parts (10,857 nodes) - 4 fields (96.9%) ['30651514252', '34444444445', '34444444464', '16666666654', '61111111121', '34402765020', '16666666674', '43333333137', '30651514032', '43333333324', '43333333330', '34444444446', '16666666677', '16666666657', '43333333325', '43333333327', '43333333313', '52222222021', '16666666656', '61111111110', '43333333307', '43333333235', '43333333332', '34402765042', '25555555575', '34444444452', '52222222201', '61111111015', '25555555577', '30651514243', '34444444461', '34444444443', '61111111105', '43333333333', '43333333305', '43333333316', '30651510476', '43333333331', '52222222200', '30651514216', '16666666665', '61111111130', '34402764111', '34402761462', '43333333317', '61111111102', '30651514210', '43333333326', '61111111112', '34444444451', '30651514214', '16666666667', '61111111103', '34444444466', '61111111111', '34444444450', '25555555557', '16666666666', '25555555576', '61111111120', '16666666672', '30651514264', '43333333314', '34444444444', '30651514241', '34402765006', '52222222222', '30651514207', '61111111101', '16666666655', '52222222203', '43333333237', '16666666673', '43333333304', '43333333334', '34402760513', '34444444454', '34444444447', '30651514205', '25555555574', '16666666676', '16666666675', '30651514247', '52222222202', '52222222220', '43333333306', '30651514265']\n",
      "deleting 870 unreferenced files.\n",
      "No work to be done! Celebrate!\n",
      "\n",
      "6.495667417844136 min elapsed\n",
      "Make sure each field_array (4) has a field_filter_flag (0), assuming True.\n",
      "Make sure each field_array (4) has a field_colormap_flag (0), assuming True.\n",
      "Make sure each field_array (4) has a field_radius_flag (0), assuming False.\n",
      "[[1.59801245e-01 1.42393112e-01 1.36464119e-01]\n",
      " [1.70110941e-01 1.31681204e-01 2.37893105e-01]\n",
      " [1.64853811e-01 8.42799187e-01 1.52978992e+00]\n",
      " [9.26324320e+00 1.64473650e+01 2.27243130e+01]\n",
      " [1.03435859e+02 1.65861193e+02 2.37921318e+02]\n",
      " [3.38624938e+02 5.22189200e+02 5.33120012e+02]\n",
      " [3.48977516e+02 3.27786752e+02 3.99321664e+02]]\n"
     ]
    }
   ],
   "source": [
    "dec_factors = [1e4,1e3,1e2,10,3,2,1]\n",
    "maxes = [1e5,1e4,1e3]\n",
    "\n",
    "durations = np.zeros((len(dec_factors),len(maxes)))\n",
    "nnodess = np.zeros((len(dec_factors),len(maxes)))\n",
    "npointss = np.zeros(len(dec_factors))\n",
    "\n",
    "for i,dec_factor in enumerate(dec_factors[:]):\n",
    "    this_pg.decimation_factor = int(dec_factor)\n",
    "    this_pg.getDecimationIndexArray()\n",
    "    for j,this_max in enumerate(maxes[:]):\n",
    "        init_time = time.time()\n",
    "        octdir = os.path.join(reader.datadir,this_pg.UIname)\n",
    "        if os.path.isdir(octdir): shutil.rmtree(octdir)\n",
    "        oct_pg = this_pg.spawn_octree_pg(reader.datadir,max_npart_per_node=this_max,build=True,nrecurse=10)\n",
    "        duration = time.time()-init_time\n",
    "        nnodess[i,j] = len(oct_pg.root['nodes'])\n",
    "        durations[i,j] = duration\n",
    "\n",
    "    npointss[i] = oct_pg.nparts_tot//dec_factor\n",
    "    print(durations)"
   ]
  },
  {
   "cell_type": "code",
   "execution_count": 184,
   "id": "ec59fcc7-7929-47ba-bf27-6ced4bc5dea7",
   "metadata": {},
   "outputs": [
    {
     "data": {
      "text/plain": [
       "array([6.120000e+02, 6.122000e+03, 6.122500e+04, 6.122590e+05,\n",
       "       2.040864e+06, 3.061296e+06, 6.122593e+06])"
      ]
     },
     "execution_count": 184,
     "metadata": {},
     "output_type": "execute_result"
    }
   ],
   "source": [
    "npointss = np.array([oct_pg.nparts_tot//dec_factor for dec_factor in  dec_factors])\n",
    "npointss"
   ]
  },
  {
   "cell_type": "code",
   "execution_count": 185,
   "id": "b16c5531-d8de-4423-8fae-24871b35d022",
   "metadata": {},
   "outputs": [],
   "source": [
    "from abg_python.plot_utils import plt"
   ]
  },
  {
   "cell_type": "code",
   "execution_count": 186,
   "id": "e4471601-c16a-4891-bb21-faa0ba3abb32",
   "metadata": {},
   "outputs": [],
   "source": [
    "from abg_python.plot_utils import add_curve_label"
   ]
  },
  {
   "cell_type": "code",
   "execution_count": 452,
   "id": "e046d897-23bc-41e0-ad2b-f4453f0c0c23",
   "metadata": {},
   "outputs": [
    {
     "name": "stdout",
     "output_type": "stream",
     "text": [
      "max: 100000 3 612259.0\n",
      "max: 10000 2 61225.0\n",
      "max: 1000 1 6122.0\n",
      "1.5\n",
      "2 0.11039556784064089\n",
      "1.5\n",
      "1.5 0.027180840002213234\n",
      "1.5\n",
      "1.25 0.007772983200264955\n",
      "saving: /Users/agurvich Desktop/octree.pdf\n"
     ]
    },
    {
     "data": {
      "image/png": "[encoded data removed]",
      "text/plain": [
       "<Figure size 404.167x421.113 with 2 Axes>"
      ]
     },
     "metadata": {},
     "output_type": "display_data"
    }
   ],
   "source": [
    "fig,axs = plt.subplots(nrows=2,ncols=1,sharex=True)\n",
    "axs = np.array(axs).flatten()\n",
    "fig.set_size_inches(latex_columnwidth,latex_columnwidth)\n",
    "fig.set_dpi(120)\n",
    "fig.subplots_adjust(hspace=0,wspace=0)\n",
    "colors = get_distinct(len(maxes))\n",
    "#axs[0].axhline(60,ls='--',c='gray',alpha=0.5)\n",
    "#axs[0].text(1e3,50,'60 s',va='top',fontsize=10)\n",
    "axs = axs[::-1]\n",
    "xs = npointss[:-1]\n",
    "text_xs = np.array([10,50,250][::-1])*100\n",
    "\n",
    "for j,this_max in enumerate(maxes[:]):\n",
    "#    if j < 2: continue\n",
    "    ys = nnodess[:-1,j]\n",
    "    start_index = np.argmax(ys>1)\n",
    "    print('max:',int(this_max),start_index,xs[start_index])\n",
    "    \n",
    "    axs[1].plot(\n",
    "        xs,ys,\n",
    "        lw=3,\n",
    "        c=colors[j],\n",
    "        marker='.',\n",
    "        markeredgewidth=3)\n",
    "    \n",
    "    a,b = fitAXb(\n",
    "        np.log10(xs[start_index:]/this_max),\n",
    "        np.log10(ys[start_index:]),\n",
    "        None,fixed_b=np.log10(1.5))\n",
    "\n",
    "    a = np.round(a,1)\n",
    "#    b = np.round(10**b,-1)\n",
    "    fn_ys = 10**(np.log10(xs[:]/this_max)*a+b)\n",
    "    fn_ys[fn_ys<1] = 1\n",
    "    axs[1].plot(xs[:],fn_ys,ls='--',c='k')\n",
    "#    axs[1].text(xs[j+1],2,r'$\\beta'+f'={a:.1f}$',rotation=25)\n",
    "\n",
    "\n",
    "#axs[1].text(xs[2-j],nnodess[:,j][2-j]/1.25,'$10^{%d}$'%(5-j),c=colors[j],\n",
    "for j in [0,1,2]:\n",
    "    axs[1].text(xs[3-j]*1.25,nnodess[-1,0]*0.7,'$10^{%d}$'%(5-j),c=colors[j],\n",
    "    va='top',ha='left')\n",
    "\n",
    "\n",
    "for j,this_max in enumerate(maxes[:]):\n",
    "    ys = durations[:,j]\n",
    "    axs[0].plot(xs,ys[:-1],lw=3,c=colors[j],marker='.',markeredgewidth=3)\n",
    "\n",
    "\"\"\"alphas = np.array([0.1,0.1,0.1])\n",
    "for j in [0,1,2]:\n",
    "    ys = durations[:,j]\n",
    "    start_index = max(np.argmax(nnodess[:,j]>1)-1,0)\n",
    "    fit_xs = nnodess[:,j]*1.0\n",
    "    #fit_xs[start_index] = 0\n",
    "    \n",
    "\n",
    "    alpha,b = fitAXb(\n",
    "        fit_xs[start_index:],\n",
    "        ys[start_index:],\n",
    "        None,\n",
    "        fixed_b=0.136)#ys[0])\n",
    "\n",
    "    \n",
    "    b = ys[0]\n",
    "    alpha = ys[-1]/fit_xs[-1]#(ys[start_index+1]-ys[-1])/(fit_xs[start_index+1]-fit_xs[-1])\n",
    "    print(alpha/maxes[j])\n",
    "    alpha = 3.606915941256493e-05*maxes[j]\n",
    "    fit_ys = alpha*fit_xs+b\n",
    "    \n",
    "    axs[0].plot(\n",
    "        xs,\n",
    "        fit_ys,\n",
    "        ls='--',\n",
    "        c='k')#colors[j])\n",
    "    axs[0].text(\n",
    "        text_xs[j]*3,100,\"%.0f\"%(alpha*1e3),\n",
    "        c='k',#colors[j],\n",
    "    va='center',ha='left')\n",
    "\"\"\"\n",
    "\n",
    "betas = [2,1.5,1.25]\n",
    "for j in range(3):\n",
    "    start_index = 0#max(np.argmax(nnodess[:,j]>1)-2,0)\n",
    "    ys = durations[:-1,j]\n",
    "    fit_xs = 3/2*nnodess[:-1,j]*1.0\n",
    "    print(fit_xs[start_index])\n",
    "    a,b = fitAXb(\n",
    "        np.log10(fit_xs[start_index:]),\n",
    "        np.log10(ys[start_index:]),\n",
    "        None,\n",
    "        fixed_a=betas[j])\n",
    "\n",
    "    if j == 0: b+=0.5/2\n",
    "    print(a,10**b)\n",
    "    axs[0].plot(\n",
    "        xs,\n",
    "        10**(a*np.log10(3/2*xs/maxes[j])+b)+0.136,\n",
    "        c='k',\n",
    "        ls='--')\n",
    "    axs[0].text(xs[0],100/3**(3-j),f'({a},{\" \"*(1-j):s} {10**b*1e3:0.0f})',ha='left',va='top',c=colors[j])\n",
    "\n",
    "axs[0].text(xs[0],100,r'$~~~\\alpha~~,~\\beta$',ha='left',va='top',c='k')    \n",
    "axs[0].text(0.05,0.9,\n",
    "#    xs[2]*1.5,((xs/3e5)**1.5+ys[0])[2],\n",
    "r'$\\left['+\n",
    "f'{ys[0]*1e3:.0f} +'\n",
    "#r'\\alpha^{-1}\\left(\\frac{N_\\mathrm{particles}}{N_\\mathrm{max~node}}\\right)^\\beta\\right]$ s',\n",
    "r'\\alpha\\left(N_\\mathrm{nodes}\\right)^\\beta \\right]$ ms',\n",
    "va='top',ha='left',fontsize=10,transform=axs[0].transAxes)\n",
    "\n",
    "nameAxes(axs[0],None,'$N_\\mathrm{particles}$','duration [s]',logflag=(1,1)) \n",
    "axs[0].set_yticks([0.1,1,10,100,1e3])\n",
    "\n",
    "\n",
    "\n",
    "    \n",
    "#j = 1\n",
    "#axs[1].text(xs[2-j],nnodess[:,j][2-j]*1.5,'$10^{%d}$'%(5-j),c=colors[j],\n",
    "#j = 2\n",
    "#axs[1].text(xs[2-j],nnodess[:,j][2-j]*1.5,'$10^{%d}$'%(5-j),c=colors[j],\n",
    "    \n",
    "nameAxes(\n",
    "    axs[1],None,'$N_\\mathrm{particles}$','$N_\\mathrm{nodes}$',\n",
    "         logflag=(1,1),\n",
    "supertitle=r'$\\frac{3}{2}\\frac{N_\\mathrm{particles}}{N_\\mathrm{max~node}}$')\n",
    "axs[1].set_yticks([1,10,100,1e3,1e4])\n",
    "\n",
    "for ax in axs:\n",
    "    ax.set_xticks(10**np.array([3,4,5,6]))\n",
    "    ax.set_xticklabels([\"$10^{%d}$\"%power for power in [3,4,5,6]])\n",
    "    ax.tick_params(top=True,labeltop=False)\n",
    "    ax.tick_params(right=True,labelright=False,direction='in')\n",
    "bufferAxesLabels(axs[::-1],2,1)\n",
    "clean_savefig(fig,'Desktop/octree.pdf',latex_columnwidth,latex_columnwidth,plotdir=os.environ['HOME'])"
   ]
  },
  {
   "cell_type": "code",
   "execution_count": 240,
   "id": "4ecac46a-5846-4ce2-b7f0-ea5726f090b3",
   "metadata": {},
   "outputs": [
    {
     "data": {
      "text/plain": [
       "['0.92', '9.18', '91.84', '918.39', '3061.30', '4591.94', '9183.89']"
      ]
     },
     "execution_count": 240,
     "metadata": {},
     "output_type": "execute_result"
    }
   ],
   "source": [
    "[\"%.2f\"%n for n in numnodes]"
   ]
  },
  {
   "cell_type": "code",
   "execution_count": null,
   "id": "f4b96600-806a-4c69-9af3-68e2fcea84a0",
   "metadata": {},
   "outputs": [],
   "source": [
    "1e-2/3 @ dist 1.5 -> ~6 x ~6 px\n",
    "1e-2 @ dist 1.5 -> ~15 x ~15 px\n",
    "1e-2*2 @ dist 1.5 -> ~30 x ~30 px\n",
    "1e-2*10 @ dist 1.5 -> ~160 x ~160 px"
   ]
  },
  {
   "cell_type": "code",
   "execution_count": null,
   "id": "518aa701-d913-4013-bf7e-c3985bf28946",
   "metadata": {},
   "outputs": [],
   "source": [
    "cube \n",
    "size = 1 @ dist 2 -> ~750 x 750 px"
   ]
  },
  {
   "cell_type": "code",
   "execution_count": 150,
   "id": "b1efa001-0508-4721-9ff6-3b72dcc3db3f",
   "metadata": {},
   "outputs": [],
   "source": [
    "cube_data = np.array([\n",
    "[1000000,0.0025,58.823668008358695],\n",
    "[1000000,0.005,45.18330290225457],\n",
    "[1000000,0.01,23.275776385101487],\n",
    "[1000000,0.015,16.303875816796523]])\n",
    "\n",
    "small_cube_data = np.array([[100000,0.01,59.2321352674729],\n",
    "[100000,0.02,58.823668008358695],\n",
    "[100000,0.03,40.65763461631885],\n",
    "[100000,0.04,29.501901181730204],\n",
    "[100000,0.05,20.716417328085697],\n",
    "[100000,0.06,18.25377295482392]])"
   ]
  },
  {
   "cell_type": "code",
   "execution_count": 21,
   "id": "dcfd3e7d-ab1e-4290-87b7-431e22a5d66f",
   "metadata": {},
   "outputs": [
    {
     "name": "stdout",
     "output_type": "stream",
     "text": [
      "JSONdir is None, defaulting to /Users/agurvich/research/repos/Firefly/src/firefly/static/data/Data\n",
      "Make sure each field_array (1) has a field_filter_flag (0), assuming True.\n",
      "Make sure each field_array (1) has a field_colormap_flag (0), assuming True.\n",
      "Make sure each field_array (1) has a field_radius_flag (0), assuming False.\n",
      "Outputting: PGroup_0 - 10000/10000 particles - 1 tracked fields\n",
      "['maxVrange', 'startFly', 'friction', 'stereo', 'stereoSep', 'decimate', 'start_tween', 'CDmin', 'CDmax', 'CDlognorm', 'columnDensity', 'UI', 'UIfullscreen', 'UIsnapshot', 'UIreset', 'UIsavePreset', 'UIloadNewData', 'UIcameraControls', 'UIdecimation', 'title', 'loaded', 'annotation', 'showFPS', 'showMemoryUsage', 'memoryLimit', 'center', 'camera', 'cameraRotation', 'cameraUp', 'quaternion', 'plotNmax', 'color', 'sizeMult', 'showParts', 'radiusVariable', 'UIparticle', 'UIdropdown', 'UIcolorPicker', 'showVel', 'velType', 'velVectorWidth', 'velGradient', 'animateVel', 'animateVelDt', 'animateVelTmax', 'filterLims', 'filterVals', 'invertFilter', 'colormapLims', 'colormapVals', 'colormap', 'colormapVariable', 'showColormap']\n",
      "\n"
     ]
    },
    {
     "data": {
      "text/plain": [
       "''"
      ]
     },
     "execution_count": 21,
     "metadata": {},
     "output_type": "execute_result"
    }
   ],
   "source": [
    "dist = 2\n",
    "ncoords = 10**4\n",
    "size = 1\n",
    "\n",
    "thetas = np.arange(0,360,1)\n",
    "xs = np.sin(thetas/180*np.pi)*dist\n",
    "zs = np.cos(thetas/180*np.pi)*dist\n",
    "coords = np.zeros((thetas.size,3))\n",
    "coords[:,1] = xs\n",
    "coords[:,-1] = zs\n",
    "\n",
    "my_tween = TweenParams(coords,duration=10)\n",
    "\n",
    "coords = np.random.random( (ncoords, 3 ))-[0.5,0.5,0.5]\n",
    "\n",
    "fields = np.ones(coords.shape[0])\n",
    "my_arrayReader = ArrayReader(\n",
    "    coords,\n",
    "    fields=fields,\n",
    "    write_to_disk=False,\n",
    "    write_startup=True,\n",
    "    tweenParams=my_tween,\n",
    "    clean_JSONdir=True)\n",
    "\n",
    "\n",
    "\n",
    "\n",
    "my_arrayReader.particleGroups[0].field_radius_flags[0] = True\n",
    "my_arrayReader.settings['radiusVariable']['PGroup_0']=0\n",
    "my_arrayReader.settings['sizeMult']['PGroup_0'] = 1e-2*size\n",
    "my_arrayReader.settings['camera'] = [0,0,-dist]\n",
    "my_arrayReader.settings['start_tween'] = True\n",
    "\n",
    "my_arrayReader.settings['UIfullscreen'] = True\n",
    "my_arrayReader.settings['UIsnapshot'] = True\n",
    "my_arrayReader.settings['UIreset'] = True\n",
    "my_arrayReader.settings['UIsavePreset'] = True\n",
    "my_arrayReader.settings['UIloadNewData'] = True\n",
    "my_arrayReader.settings['UIcameraControls'] = True\n",
    "my_arrayReader.settings['UIdecimation'] = True\n",
    "\n",
    "#my_arrayReader.settings['UIparticle'] = True\n",
    "#my_arrayReader.settings['UIdropdown'] = True\n",
    "#my_arrayReader.settings['UIcolorPicker'] = True\n",
    "\n",
    "\n",
    "print(my_arrayReader.settings.keys())\n",
    "print()\n",
    "my_arrayReader.writeToDisk()"
   ]
  },
  {
   "cell_type": "code",
   "execution_count": 261,
   "id": "cde1888b-5b62-4d1b-993b-e0b90a3ebea3",
   "metadata": {},
   "outputs": [],
   "source": []
  },
  {
   "cell_type": "code",
   "execution_count": 112,
   "id": "c17bcfd2-8e0a-4d6c-9ee9-b4ca229a1b68",
   "metadata": {},
   "outputs": [],
   "source": [
    "npoints_data = np.array([[20000,0.01,51.63693683197952],\n",
    "[30000,0.01,46.85996317062151],\n",
    "[40000,0.01,41.25813430128025],\n",
    "[50000,0.01,43.84534486191432],\n",
    "[60000,0.01,33.55229565102766],\n",
    "[70000,0.01,31.545016183780675],\n",
    "[80000,0.01,28.542198693015266],\n",
    "[90000,0.01,19.967852363246912],\n",
    "[100000,0.01,19.382039114735694],\n",
    "[110000,0.01,17.776018509635627],\n",
    "[120000,0.01,9.923094917848347],\n",
    "[130000,0.01,11.082622521517155]])"
   ]
  },
  {
   "cell_type": "code",
   "execution_count": 291,
   "id": "0a766684-b46b-4317-81a4-c9dbe0e9c79a",
   "metadata": {},
   "outputs": [],
   "source": [
    "size_data = np.array([\n",
    "#[10000,0.35,17.674732466002176],\n",
    "#[10000,0.3,15.833684908048063],\n",
    "#[10000,0.28,15.442628084893244],\n",
    "[10000,0.26,11.780185533585332],\n",
    "[10000,0.24,12.4879345673694],\n",
    "[10000,0.22,20.968625868665157],\n",
    "[10000,0.2,17.01570732377877],\n",
    "[10000,0.19,19.15429909866694],\n",
    "[10000,0.18,17.043439356790536],\n",
    "[10000,0.17,20.156482190250937],\n",
    "[10000,0.16,23.2634287143003],\n",
    "[10000,0.15,22.627741086978375],\n",
    "[10000,0.14,30.7268199880975],\n",
    "[10000,0.13,29.514705573071538],\n",
    "[10000,0.12,29.55733402820868],\n",
    "[10000,0.11,37.41874658663799],\n",
    "[10000,0.1,35.96349773304855],\n",
    "[10000,0.09,38.24611123374909],\n",
    "[10000,0.08,40.416397412107244],\n",
    "[10000,0.07,41.681249778670704],\n",
    "[10000,0.06,50.971914554975925],\n",
    "[10000,0.05,58.823668008358695],\n",
    "[10000,0.04,58.823668008358695],\n",
    "[10000,0.03,58.823668008358695],\n",
    "[10000,0.02,58.823668008358695],\n",
    "[10000,0.01,59.23204360412846]])"
   ]
  },
  {
   "cell_type": "code",
   "execution_count": 303,
   "id": "c7738bad-c3c3-435c-96f4-a474ee6c884e",
   "metadata": {},
   "outputs": [
    {
     "name": "stdout",
     "output_type": "stream",
     "text": [
      "saving: /Users/agurvich Desktop/fps_plots.pdf\n"
     ]
    },
    {
     "data": {
      "image/png": "[encoded data removed]",
      "text/plain": [
       "<Figure size 967.058x159.349 with 3 Axes>"
      ]
     },
     "metadata": {},
     "output_type": "display_data"
    }
   ],
   "source": [
    "fig,axs = plt.subplots(nrows=1,ncols=3,sharey=True)\n",
    "colors = get_distinct(2)\n",
    "fig.subplots_adjust(wspace=0)\n",
    "ax = axs[0]\n",
    "ax.plot(size_data[:,1]*48/.04*1.5/2,size_data[:,2])\n",
    "ax.axhline(15,ls='--',c='gray',alpha=0.5,lw=1)\n",
    "ax.text(5,16,'interactive',c='gray',alpha=0.75)\n",
    "ax.set_yticks(np.arange(0,70,10))\n",
    "ax.set_xticks(np.arange(0,250,50))\n",
    "nameAxes(ax,None,'diameter [px]','FPS',logflag=(0,0),supertitle='$10^4$ particles',swap_annotate_side=True)\n",
    "\n",
    "ax = axs[1]\n",
    "ax.plot(npoints_data[:,0]/1e4,npoints_data[:,2])\n",
    "ax.axhline(15,ls='--',c='gray',alpha=0.5,lw=1)\n",
    "ax.set_xticks([1,5,10])\n",
    "ax.set_xticklabels([\"$10^{4}$\",r\"    $5\\cdot10^{4}$\",\"$10^5$\"])\n",
    "ax.get_xticklabels()[0].set_horizontalalignment('left')\n",
    "\n",
    "ax.set_xlim(0.5,13.5)\n",
    "nameAxes(ax,None,r'$N_\\mathrm{particles}$',None,logflag=(0,0),supertitle='12 px',swap_annotate_side=True)\n",
    "\n",
    "ax = axs[2]\n",
    "ax.plot(cube_data[:,1]*48/.04,cube_data[:,2],c=colors[0])\n",
    "ax.plot(small_cube_data[:,1]*48/.04,small_cube_data[:,2],c=colors[1])\n",
    "ax.text(12,25,'$N_\\mathrm{p} = 10^6$',c=colors[0])\n",
    "ax.text(38,40,'$N_\\mathrm{p} = 10^5$',c=colors[1])\n",
    "ax.axhline(15,ls='--',c='gray',alpha=0.5,lw=1)\n",
    "ax.set_xticks(np.arange(10,80,20))\n",
    "nameAxes(ax,None,'diameter [px]',None,logflag=(0,0),supertitle='cube',swap_annotate_side=True)\n",
    "#bufferAxesLabels(axs,1,3)\n",
    "\n",
    "fig.set_dpi(120)\n",
    "clean_savefig(fig,'Desktop/fps_plots.pdf',latex_pagewidth,latex_pagewidth/4,plotdir=os.environ['HOME'])"
   ]
  },
  {
   "cell_type": "markdown",
   "id": "5bcd6feb-7434-4c92-9bda-b9665d6e8446",
   "metadata": {},
   "source": [
    "# Pre-puppeteer testing"
   ]
  },
  {
   "cell_type": "code",
   "execution_count": null,
   "id": "255c481f-089d-48cf-bba8-08812fbababe",
   "metadata": {},
   "outputs": [],
   "source": []
  },
  {
   "cell_type": "code",
   "execution_count": 417,
   "id": "57db77ea-a2f4-4a1a-9f84-7496de42ae46",
   "metadata": {},
   "outputs": [
    {
     "data": {
      "text/plain": [
       "21855757"
      ]
     },
     "execution_count": 417,
     "metadata": {},
     "output_type": "execute_result"
    }
   ],
   "source": [
    "denom"
   ]
  },
  {
   "cell_type": "code",
   "execution_count": 416,
   "id": "8a5159fc-1784-4550-8f13-311791b1cc22",
   "metadata": {},
   "outputs": [
    {
     "name": "stdout",
     "output_type": "stream",
     "text": [
      "2.719086554631807\n"
     ]
    }
   ],
   "source": [
    "num = 0\n",
    "denom = 0\n",
    "for pg in reader.particleGroups:\n",
    "    nf = len(pg.field_names)\n",
    "    npart = pg.field_arrays.shape[1]\n",
    "    num+=nf*npart\n",
    "    denom +=npart\n",
    "print(num/denom)"
   ]
  },
  {
   "cell_type": "code",
   "execution_count": 314,
   "id": "8b1344a1-db6b-4f1d-bd33-0b012e213c7f",
   "metadata": {},
   "outputs": [],
   "source": [
    "del galaxy.sub_snap\n",
    "del galaxy.sub_star_snap\n",
    "del galaxy.sub_dark_snap"
   ]
  },
  {
   "cell_type": "code",
   "execution_count": 16,
   "id": "80f2a6f4-306e-4ccc-ad86-8ae8bbbc207c",
   "metadata": {},
   "outputs": [],
   "source": [
    "reader.settings['start_tween'] = True"
   ]
  },
  {
   "cell_type": "code",
   "execution_count": 182,
   "id": "d84a24a3-49ce-4f1f-9a00-57b4f1112ad3",
   "metadata": {},
   "outputs": [],
   "source": [
    "reader.settings['camera'] = [0,0,-1e4]\n",
    "i=4"
   ]
  },
  {
   "cell_type": "code",
   "execution_count": 183,
   "id": "ac7e65e9-8643-4e6a-8ea2-ac23e0d689df",
   "metadata": {},
   "outputs": [
    {
     "name": "stdout",
     "output_type": "stream",
     "text": [
      "622587\t105M\t../static/data/FIRESampleData\n"
     ]
    }
   ],
   "source": [
    "dec_factorss = []\n",
    "dec_factorss += [[1e5,1e6,1e6,1e6]]\n",
    "dec_factorss += [[1e4,1e6,1e6,1e6]]\n",
    "dec_factorss += [[1e3,1e6,1e6,1e6]]\n",
    "dec_factorss += [[1e2,1e6,1e6,1e6]]\n",
    "dec_factorss += [[1e1,1e6,1e6,1e6]]\n",
    "dec_factorss += [[1e0,1e6,1e6,1e6]]\n",
    "dec_factorss += [[1e0,1e0,1e6,1e6]]\n",
    "dec_factorss += [[1e0,1e0,2e0,1e6]]\n",
    "dec_factorss += [[1e0,1e0,1e0,1e6]]\n",
    "dec_factorss += [[1e0,1e0,1e0,1e0]]\n",
    "\n",
    "reader.max_npart_per_file = int(1e5)\n",
    "for dec_factors in dec_factorss[i:i+1]:\n",
    "    ntot = 0\n",
    "    for dec_factor,pg in zip(dec_factors,reader.particleGroups):\n",
    "        pg.decimation_factor = int(dec_factor)\n",
    "        pg.getDecimationIndexArray()\n",
    "        ntot+=pg.dec_inds.size\n",
    "    print(ntot,end='\\t')\n",
    "    reader.writeToDisk(extension='.json',loud=False)\n",
    "    ! du -sh ../static/data/FIRESampleData\n",
    "    i+=1"
   ]
  },
  {
   "cell_type": "markdown",
   "id": "718aa541-35a3-4de9-8d9d-18792d4b4e62",
   "metadata": {},
   "source": [
    "## 1e4"
   ]
  },
  {
   "cell_type": "markdown",
   "id": "bda40ea6-e28a-48e5-97f9-1c421d89adde",
   "metadata": {},
   "source": [
    ".ffly"
   ]
  },
  {
   "cell_type": "code",
   "execution_count": null,
   "id": "141a5d86-da22-47e1-9cf9-c6e5ee512f31",
   "metadata": {},
   "outputs": [],
   "source": [
    "77,0.05299997329711914,0.014016678\n",
    "637,0.05800008773803711,0.01919867\n",
    "6240,0.09299993515014648,0.026290222\n",
    "62272,0.20199990272521973,0.055233111\n",
    "622587,1.3269999027252197,0.206017463\n",
    "6225744,32.65700006484985,1.148272378\n",
    "9490464,65.6399998664856,1.740631162\n",
    "-----\n",
    "14151975,91.73600006103516,2.506630892"
   ]
  },
  {
   "cell_type": "markdown",
   "id": "bb7adfbc-dbef-4abb-8f1e-001dcf015baa",
   "metadata": {},
   "source": [
    ".json"
   ]
  },
  {
   "cell_type": "code",
   "execution_count": null,
   "id": "64101c90-823e-407a-be52-c71e871c784e",
   "metadata": {},
   "outputs": [],
   "source": [
    "77,0.06599998474121094,0.016284321\n",
    "637,0.053999900817871094,0.017685976\n",
    "6240,0.0989999771118164,0.027150332\n",
    "62272,0.23599982261657715,0.054232584\n",
    "622587,1.7220001220703125,0.195355635\n",
    "6225744,49.615999937057495,1.277025522\n",
    "9490464,67.38100004196167,1.743014507\n",
    "-----"
   ]
  },
  {
   "cell_type": "markdown",
   "id": "083b3eba-7e9c-403e-9016-ccb67b55a230",
   "metadata": {},
   "source": [
    "## 1e6"
   ]
  },
  {
   "cell_type": "markdown",
   "id": "b18cb1e0-7d29-47ee-b0ff-2b6829f7add2",
   "metadata": {},
   "source": [
    ".json"
   ]
  },
  {
   "cell_type": "code",
   "execution_count": null,
   "id": "ad3be7d5-1edc-4552-aee3-fa0fa291b155",
   "metadata": {},
   "outputs": [],
   "source": [
    "77,0.059999942779541016,0.016284254\n",
    "637,0.05200004577636719,0.017440312\n",
    "6240,0.09399986267089844,0.026887898\n",
    "62272,0.2330000400543213,0.061356648\n",
    "622587,1.5950000286102295,0.511305219\n",
    "6225744,15.92199993133545,1.29839879\n",
    "9490464,20.624000072479248,2.04925402\n",
    "14151975,30.027999877929688,2.751117971\n",
    "-------\n",
    "18813495,41.27199983596802,3.256287061\n",
    "21855757,53.05400013923645,3.922269715"
   ]
  },
  {
   "cell_type": "markdown",
   "id": "579f9fe5-7cf0-479b-b5f3-9e0857b1be4f",
   "metadata": {},
   "source": [
    ".ffly"
   ]
  },
  {
   "cell_type": "code",
   "execution_count": 180,
   "id": "77a1ab4c-e975-4150-8ec6-9c88d57f39de",
   "metadata": {},
   "outputs": [
    {
     "data": {
      "text/plain": [
       "(14151975, 19.59500002861023, 2.662463146)"
      ]
     },
     "execution_count": 180,
     "metadata": {},
     "output_type": "execute_result"
    }
   ],
   "source": [
    "77,0.07500004768371582,0.017326194\n",
    "637,0.06000018119812012,0.018936524\n",
    "6240,0.09299993515014648,0.026552302\n",
    "62272,0.19500017166137695,0.055363863\n",
    "622587,1.246999979019165,0.473493371\n",
    "6225744,11.869999885559082,1.443125399\n",
    "9490464,14.700999975204468,1.975328908\n",
    "14151975,19.59500002861023,2.662463146\n",
    "18813495,31.33899998664856,3.411601695\n",
    "21855757,52.90499997138977,3.931520994"
   ]
  },
  {
   "cell_type": "markdown",
   "id": "4079c410-8b70-4150-940d-80503b8798db",
   "metadata": {},
   "source": [
    "## 1e5"
   ]
  },
  {
   "cell_type": "code",
   "execution_count": 249,
   "id": "32657e71-1aa2-4195-abe7-957600c686bb",
   "metadata": {},
   "outputs": [],
   "source": [
    "ffly_vals = np.array([line.split(',') for line in \"\"\"77,0.05900001525878906,0.017064056\n",
    "637,0.08000016212463379,0.018136829\n",
    "6240,0.10400009155273438,0.023128302\n",
    "62272,0.21600008010864258,0.062277596\n",
    "622587,1.2309999465942383,0.220690863\n",
    "6225744,14.410000085830688,1.212123229\n",
    "9490464,17.954999923706055,1.701010122\n",
    "14151975,22.130000114440918,2.442347864\n",
    "18813495,40.09999990463257,3.232732077\"\"\".split('\\n')],dtype=float)\n",
    "\n",
    "\n",
    "\n",
    "ffly_disk_sizes = np.array([line.split(',') for line in \"\"\"77,24000\n",
    "637,48000\n",
    "6240,264000\n",
    "62272,2400000\n",
    "622587,24000000\n",
    "6225744,238000000\n",
    "9490464,350000000\n",
    "14151975,492000000\n",
    "18813495,635000000\"\"\".split('\\n')],dtype=int)\n",
    "\n",
    "\n",
    "json_vals = np.array([line.split(',') for line in \"\"\"77,0.0559999942779541,0.021532112\n",
    "637,0.046000003814697266,0.023241817\n",
    "6240,0.08500003814697266,0.032178145\n",
    "62272,0.23200011253356934,0.064776421\n",
    "622587,1.6700000762939453,0.409123759\n",
    "6225744,18.068000078201294,1.2720236\n",
    "9490464,21.130000114440918,1.761668701\n",
    "14151975,28.098999977111816,2.44843447\n",
    "18813495,56.579999923706055,3.249422113\"\"\".split('\\n')],dtype=float)\n",
    "\n",
    "\n",
    "\n",
    "json_disk_sizes = np.array([line.split(',') for line in \"\"\"77,32000\n",
    "637,104000\n",
    "6240,848000\n",
    "62272,8100000\n",
    "622587,81000000\n",
    "6225744,807000000\n",
    "9490464,1100000000\n",
    "14151975,1600000000\n",
    "18813495,2100000000\"\"\".split('\\n')],dtype=int)"
   ]
  },
  {
   "cell_type": "code",
   "execution_count": 250,
   "id": "ff59cbdf-2251-411a-a087-3a59bcf7feca",
   "metadata": {},
   "outputs": [],
   "source": [
    "colors = get_distinct(2)"
   ]
  },
  {
   "cell_type": "code",
   "execution_count": 251,
   "id": "d3debc12-c9d6-4d1d-96e9-1a4c5da17430",
   "metadata": {},
   "outputs": [],
   "source": [
    "plt.rcParams['font.size']=12"
   ]
  },
  {
   "cell_type": "code",
   "execution_count": 252,
   "id": "721b3aef-d5cb-48f6-8e1f-65922285b3ad",
   "metadata": {},
   "outputs": [],
   "source": [
    "slope = None"
   ]
  },
  {
   "cell_type": "code",
   "execution_count": 406,
   "id": "26ef3ef3-709c-4039-95db-6103761e584c",
   "metadata": {},
   "outputs": [
    {
     "name": "stdout",
     "output_type": "stream",
     "text": [
      "0.0001750270753878325 17.46011625919514\n",
      "saving: /Users/agurvich Desktop/performance.pdf\n"
     ]
    },
    {
     "data": {
      "image/png": "[encoded data removed]",
      "text/plain": [
       "<Figure size 385.45x817.233 with 4 Axes>"
      ]
     },
     "metadata": {},
     "output_type": "display_data"
    }
   ],
   "source": [
    "fig,axs = plt.subplots(nrows=3,ncols=1,sharex=True)\n",
    "fig.subplots_adjust(wspace=0,hspace=0)\n",
    "fig.set_size_inches(latex_columnwidth,2*latex_columnwidth)\n",
    "fig.set_dpi(120)\n",
    "fig.set_facecolor('white')\n",
    "\n",
    "\n",
    "\n",
    "\n",
    "ax = axs[0]\n",
    "\n",
    "ax.plot(ffly_disk_sizes[:,0],ffly_disk_sizes[:,1]/1024**2*3.125,label='$3\\times$.ffly',lw=4,c='pink',alpha=1,ls='--')\n",
    "ax.plot(json_disk_sizes[:,0],json_disk_sizes[:,1]/1024**2,label='.json',lw=3,c=colors[1],marker='.',markeredgewidth=3)\n",
    "ax.plot(ffly_disk_sizes[:,0],ffly_disk_sizes[:,1]/1024**2,label='.ffly',lw=3,c=colors[0],marker='.',markeredgewidth=3)\n",
    "\n",
    "xs,ys = ffly_disk_sizes[:,0],ffly_disk_sizes[:,1]/1024**2\n",
    "#a,b = fitAXb(xs,ys,None,fixed_b=0)\n",
    "\n",
    "ax.plot(xs,40e-6*xs,ls='--',c='k')\n",
    "#ax.text(xs[2]*0.98*0.9,ys[2]*0.999*0.6,r'10 floats/particle',va='top',ha='left',c='k')\n",
    "ax.text(xs[2]*0.9,ys[2]*0.6,r'10 floats/particle',va='top',ha='left')\n",
    "#ax.text(xs[2]*1.5,ys[2]*0.2,'$=3$ coords +\\n    3 vels +\\n    4 scalars',va='top',ha='left',fontsize=10)\n",
    "\n",
    "    \n",
    "ax.text(ffly_disk_sizes[-3,0],ffly_disk_sizes[-3,1]/1024**2/6,'.ffly',va='top',ha='center',c=colors[0])\n",
    "ax.text(json_disk_sizes[-5,0],json_disk_sizes[-5,1]/1024**2*3,'.json',va='bottom',ha='right',c=colors[1])\n",
    "\n",
    "\n",
    "ax.text(ffly_disk_sizes[2,0]*3*0.99,ffly_disk_sizes[2,1]/1024**2*3.125*3*0.99,r'$3\\times\\mathrm{.ffly}$',va='bottom',ha='right',c='k')\n",
    "ax.text(ffly_disk_sizes[2,0]*3,ffly_disk_sizes[2,1]/1024**2*3.125*3,r'$3\\times\\mathrm{.ffly}$',va='bottom',ha='right',c='pink')\n",
    "nameAxes(\n",
    "    ax,\n",
    "    None,\n",
    "    '$N_\\mathrm{particles}$',\n",
    "    'filesize on disk [MB]',\n",
    "    logflag=(1,1),\n",
    "    ylow=0.01)\n",
    "fig.set_facecolor('white')\n",
    "fig.set_size_inches(latex_columnwidth,latex_columnwidth*3)\n",
    "ax.set_xticks(10**np.array([2,3,4,5,6,7]))\n",
    "ax.set_xticklabels([\"$10^{%d}$\"%power for power in [2,3,4,5,6,7]])\n",
    "ax.set_yticks([0.01,0.1,1,10,100,1000])\n",
    "ax.tick_params(top=True,labeltop=False)\n",
    "ax.tick_params(right=True,labelright=False,direction='in')\n",
    "\n",
    "\n",
    "\n",
    "\n",
    "\n",
    "\n",
    "\n",
    "\n",
    "\n",
    "ax = axs[1]\n",
    "ax.plot(ffly_vals[:,0],ffly_vals[:,2]*1024,lw=3,c=colors[0],marker='.',markeredgewidth=3)\n",
    "ax.plot(json_vals[:,0],json_vals[:,2]*1024,lw=3,c=colors[1],marker='.',markeredgewidth=3)\n",
    "#ax.text(ffly_vals[0,0],ffly_vals[0,2]*1024,'.ffly',va='top')\n",
    "#ax.text(json_vals[0,0],json_vals[0,2]*1024+3,'.json',va='bottom',ha='left')\n",
    "\n",
    "xs = ffly_vals[:,0]\n",
    "ys = ffly_vals[:,2]*1024\n",
    "if slope is None: slope = 1\n",
    "offset = ys[0]-slope*xs[0]\n",
    "slope = (ys[-1]-offset)/(xs[-1]-xs[0])\n",
    "offset = ys[0]-slope*xs[0]\n",
    "print(slope,offset)\n",
    "ax.plot(xs,slope*xs+offset,ls='--',c='k')\n",
    "ax.text(xs[2],slope*xs[2]+offset/1.6,\n",
    "f'              {offset:.0f} MB +\\n {slope*1e6/4:.0f} floats/particle',va='bottom',ha='left')\n",
    "\n",
    "nameAxes(ax,None,'$N_\\mathrm{particles}$','browser RAM [MB]',\n",
    "         logflag=(1,1))\n",
    "ax.set_yticks([10,100,1000])\n",
    "ax.set_xticks(10**np.array([2,3,4,5,6,7]))\n",
    "ax.set_xticklabels([\"$10^{%d}$\"%power for power in [2,3,4,5,6,7]])\n",
    "ax.tick_params(top=True,labeltop=False)\n",
    "ax.tick_params(right=True,labelright=False,direction='in')\n",
    "\n",
    "\n",
    "\n",
    "\n",
    "\n",
    "\n",
    "\n",
    "ax = axs[2]\n",
    "\n",
    "\n",
    "from mpl_toolkits.axes_grid1.inset_locator import zoomed_inset_axes,mark_inset\n",
    "\n",
    "axins = zoomed_inset_axes(ax, zoom=2,bbox_to_anchor=(0.15,0.5,0.5,.5),bbox_transform=ax.transAxes)\n",
    "axins.plot(ffly_vals[:,0],ffly_vals[:,1],lw=3,c=colors[0],marker='.',markeredgewidth=3)\n",
    "axins.plot(json_vals[:,0],json_vals[:,1],lw=3,c=colors[1],marker='.',markeredgewidth=3)\n",
    "\n",
    "axins.set_xlim(2e6,3e7)\n",
    "axins.set_ylim(10,65)\n",
    "axins.tick_params(labelleft=False,labelbottom=True)\n",
    "nameAxes(axins,None,None,None,logflag=(1,1))\n",
    "mark_inset(ax, axins, loc1=2, loc2=4, fc=\"none\", ec=\"0.5\")\n",
    "\n",
    "xs,ys = ffly_vals[:,0],ffly_vals[:,1]\n",
    "\n",
    "\n",
    "ax.plot(ffly_vals[:,0],ffly_vals[:,1],lw=3,c=colors[0],marker='.',markeredgewidth=3)\n",
    "ax.plot(json_vals[:,0],json_vals[:,1],lw=3,c=colors[1],marker='.',markeredgewidth=3)\n",
    "a,b = fitAXb(xs,ys,None)\n",
    "\n",
    "a = 1/np.round(1/a,-5)\n",
    "axins.plot(xs,a*xs+b,ls='--',c='k')\n",
    "ax.plot(xs,a*xs+b,ls='--',c='k')\n",
    "ax.text(xs[3]*0.65,(a*xs[3]+b)*0.8,\n",
    "r'$\\left('+\n",
    "f'{b:.2f} +'+\n",
    "r'\\frac{N_\\mathrm{particles}}{'+\n",
    "f'{np.round(1/a,-1):0.0f}'+\n",
    "r'}'+\n",
    "r'\\right)$ s',\n",
    "va='top',ha='left',fontsize=10)\n",
    "\n",
    "\n",
    "ax.set_yticks([0,20,40,60])\n",
    "nameAxes(ax,None,'$N_\\mathrm{particles}$','time to load [s]',logflag=(1,1))\n",
    "ax.tick_params(top=True,labeltop=False)\n",
    "ax.tick_params(right=True,labelright=False,direction='in')\n",
    "axins.axhline(60,ls='--',alpha=0.5,c='gray')\n",
    "axins.text(2.5e6,57,'60 s',va='top',fontsize=10)\n",
    "axins.axhline(40,ls='--',alpha=0.5,c='gray')\n",
    "axins.text(2.5e6,38,'40 s',va='top',fontsize=10)\n",
    "ax.set_xticks(10**np.array([2,3,4,5,6,7]))\n",
    "ax.set_xticklabels([\"$10^{%d}$\"%power for power in [2,3,4,5,6,7]])\n",
    "fig\n",
    "\n",
    "\n",
    "\n",
    "\n",
    "\n",
    "bufferAxesLabels(axs,3,1)\n",
    "clean_savefig(fig,'Desktop/performance.pdf',latex_columnwidth,latex_columnwidth*1.75,plotdir=os.environ['HOME'])"
   ]
  }
 ],
 "metadata": {
  "kernelspec": {
   "display_name": "Python 3 (ipykernel)",
   "language": "python",
   "name": "python3"
  },
  "language_info": {
   "codemirror_mode": {
    "name": "ipython",
    "version": 3
   },
   "file_extension": ".py",
   "mimetype": "text/x-python",
   "name": "python",
   "nbconvert_exporter": "python",
   "pygments_lexer": "ipython3",
   "version": "3.9.7"
  }
 },
 "nbformat": 4,
 "nbformat_minor": 5
}

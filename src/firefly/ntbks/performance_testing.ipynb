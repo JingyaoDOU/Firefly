{
 "cells": [
  {
   "cell_type": "code",
   "execution_count": 1,
   "id": "09b85184-713f-4e64-a046-eeb288a6aca0",
   "metadata": {},
   "outputs": [],
   "source": [
    "import numpy as np\n",
    "import os"
   ]
  },
  {
   "cell_type": "code",
   "execution_count": 2,
   "id": "b086f069-ea89-4aee-b9e3-ef06b3fe62fd",
   "metadata": {},
   "outputs": [
    {
     "name": "stdout",
     "output_type": "stream",
     "text": [
      "don't have phil's colormaps\n"
     ]
    }
   ],
   "source": [
    "from firefly.data_reader import ArrayReader"
   ]
  },
  {
   "cell_type": "code",
   "execution_count": 3,
   "id": "98288d6a-a44c-44fa-bc22-571654fca55c",
   "metadata": {},
   "outputs": [],
   "source": [
    "from firefly.data_reader import FIREreader,SimpleFIREreader,TweenParams\n",
    "from abg_python.galaxy.gal_utils import Galaxy"
   ]
  },
  {
   "cell_type": "code",
   "execution_count": 4,
   "id": "2bd1d1d8-6b7f-4a8a-b68a-24d7396d82ca",
   "metadata": {},
   "outputs": [],
   "source": [
    "import sys"
   ]
  },
  {
   "cell_type": "code",
   "execution_count": 5,
   "id": "6fc440af-d1f7-496d-9ad8-949c0e1a322e",
   "metadata": {},
   "outputs": [],
   "source": [
    "sys.path.insert(0, '/Users/ageller/VISUALIZATIONS/Firefly')\n",
    "sys.path.insert(0,'/Users/agurvich/research/repos/firefly/src')"
   ]
  },
  {
   "cell_type": "code",
   "execution_count": 7,
   "id": "ac9a27ec-3b65-477e-b1c4-044a25d173cf",
   "metadata": {},
   "outputs": [
    {
     "name": "stdout",
     "output_type": "stream",
     "text": [
      "Couldn't find a metadata file... for\n",
      " Metadata object at /Users/agurvich/scratch/data/metal_diffusion/m12b_res57000/metadata/meta_Galaxy_600.hdf5\n",
      "Tracing the rockstar halo files with fancy:True and None Gyr smoothing.\n",
      "No rstar 1/2 in halo or metadata files, we will need to calculate it ourselves.\n",
      "Loading star particles of m12b_res57000 at 600 at /Users/agurvich/snaps/metal_diffusion/m12b_res57000/output\n",
      "Failed to open saved sub-snapshots AssertionError('Told not to use saved sub-snapshots')\n",
      "Loading gas particles of m12b_res57000 at 600 at /Users/agurvich/snaps/metal_diffusion/m12b_res57000/output\n",
      "Loading dark matter particles of m12b_res57000 at 600 at /Users/agurvich/snaps/metal_diffusion/m12b_res57000/output\n",
      "Reorienting...\n",
      "Done.\n",
      "extract_halo_inner(m12b_res57000 at 600,){'orient_stars': True, 'use_saved_subsnapshots': False} 10.31 s elapsed\n",
      "Snapshot memory free\n"
     ]
    },
    {
     "data": {
      "text/plain": [
       "(12.27201256901771,\n",
       " True,\n",
       " 13.610546783496492,\n",
       " -23.753615253930974,\n",
       " 331.60968,\n",
       " 2.454402513803542,\n",
       " 140.56429531755958)"
      ]
     },
     "execution_count": 7,
     "metadata": {},
     "output_type": "execute_result"
    }
   ],
   "source": [
    "galaxy = Galaxy('m12b_res57000',600)\n",
    "galaxy.extractMainHalo(use_saved_subsnapshots=False)"
   ]
  },
  {
   "cell_type": "code",
   "execution_count": 8,
   "id": "975c41ce-8ef3-42ac-8796-dab537405dfc",
   "metadata": {},
   "outputs": [
    {
     "name": "stdout",
     "output_type": "stream",
     "text": [
      "Loading ptype 2\n",
      "Loading ptype 1\n",
      "Loading ptype 4\n",
      "Loading ptype 0\n"
     ]
    },
    {
     "data": {
      "text/plain": [
       "array([Gas - 622573/6225729 particles - 4 tracked fields,\n",
       "       Stars - 3265/3264723 particles - 3 tracked fields,\n",
       "       HRDM - 9324/9323040 particles - 2 tracked fields,\n",
       "       LRDM - 3043/3042265 particles - 2 tracked fields], dtype=object)"
      ]
     },
     "execution_count": 8,
     "metadata": {},
     "output_type": "execute_result"
    }
   ],
   "source": [
    "## create a FIRE reader object\n",
    "reader = FIREreader(\n",
    "    ## path to directory containing (optionally multiple) .hdf5 files\n",
    "    snapdir = \"/Users/agurvich/research/snaps/metal_diffusion/m12b_res57000/output/\",\n",
    "    ## the snapshot number, best to provide separately in order to disambiguate\n",
    "    snapnum = 600,\n",
    "    ## particle types one would like to extract from .hdf5 files\n",
    "    ptypes=[0,4,1,2],\n",
    "    ## what to call them in the UI\n",
    "    UInames=['Gas','Stars','HRDM','LRDM'],\n",
    "    ## by what factor would we like to reduce the data for performance stability and disk space concerns\n",
    "    decimation_factors=[10,1000,1000,1000],\n",
    "    ## what fields would we like to extract\n",
    "    fields=['Density','Temperature','AgeGyr','GCRadius'],\n",
    "    ## do we want to take the magnitude of any of these fields?\n",
    "    ## do we want to take the log? \n",
    "    logFlags=[True,True,False,False],\n",
    "    ## which fields do we want to be able to filter on?\n",
    "    filterFlags=[True,True,True,True],\n",
    "    ## which fields do we want to be able to colormap by?\n",
    "    colormapFlags=[True,True,True,True],\n",
    "    radiusFlags=[False,True,True,False],\n",
    "    ## where should the output .json files be saved to? \n",
    "    ##  if a relative path is given, like here, saves to $HOME/<JSONdir>\n",
    "    ##  and creates a soft-link to firefly/static/data\n",
    "    JSONdir=os.path.abspath(os.path.join(os.getcwd(),'..','static','data','FIRESampleData')),\n",
    "    ## overwrite the existing startup.json file\n",
    "    write_startup=True,\n",
    "    clean_JSONdir=True)\n",
    "\n",
    "## fetch data from .hdf5 files\n",
    "reader.loadData(\n",
    "    com=galaxy.scom,\n",
    "    vcom=galaxy.sub_snap['vscom'])"
   ]
  },
  {
   "cell_type": "code",
   "execution_count": 20,
   "id": "d84a24a3-49ce-4f1f-9a00-57b4f1112ad3",
   "metadata": {},
   "outputs": [],
   "source": [
    "reader.settings['camera'] = [0,0,-1e4]\n",
    "i=0"
   ]
  },
  {
   "cell_type": "code",
   "execution_count": 30,
   "id": "ac7e65e9-8643-4e6a-8ea2-ac23e0d689df",
   "metadata": {},
   "outputs": [
    {
     "name": "stdout",
     "output_type": "stream",
     "text": [
      "21855757\t727M\t../static/data/FIRESampleData\n"
     ]
    }
   ],
   "source": [
    "dec_factorss = []\n",
    "dec_factorss += [[1e5,1e6,1e6,1e6]]\n",
    "dec_factorss += [[1e4,1e6,1e6,1e6]]\n",
    "dec_factorss += [[1e3,1e6,1e6,1e6]]\n",
    "dec_factorss += [[1e2,1e6,1e6,1e6]]\n",
    "dec_factorss += [[1e1,1e6,1e6,1e6]]\n",
    "dec_factorss += [[1e0,1e6,1e6,1e6]]\n",
    "dec_factorss += [[1e0,1e0,1e6,1e6]]\n",
    "dec_factorss += [[1e0,1e0,2e0,1e6]]\n",
    "dec_factorss += [[1e0,1e0,1e0,1e6]]\n",
    "dec_factorss += [[1e0,1e0,1e0,1e0]]\n",
    "\n",
    "for dec_factors in dec_factorss[i:i+1]:\n",
    "    ntot = 0\n",
    "    for dec_factor,pg in zip(dec_factors,reader.particleGroups):\n",
    "        pg.decimation_factor = int(dec_factor)\n",
    "        pg.getDecimationIndexArray()\n",
    "        ntot+=pg.dec_inds.size\n",
    "    print(ntot,end='\\t')\n",
    "    reader.writeToDisk(extension='.ffly',loud=False)\n",
    "    ! du -sh ../static/data/FIRESampleData\n",
    "    i+=1"
   ]
  },
  {
   "cell_type": "code",
   "execution_count": null,
   "id": "6b773212-08ba-4d20-aeb9-46ba5dd47dce",
   "metadata": {},
   "outputs": [],
   "source": [
    "77,0.05900001525878906,0.017064056\n",
    "637,0.08000016212463379,0.018136829\n",
    "6240,0.10400009155273438,0.023128302\n",
    "62272,0.21600008010864258,0.062277596\n",
    "622587,1.2309999465942383,0.220690863\n",
    "6225744,14.410000085830688,1.212123229\n",
    "9490464,17.954999923706055,1.701010122\n",
    "14151975,22.130000114440918,2.442347864\n",
    "18813495,40.09999990463257,3.232732077"
   ]
  },
  {
   "cell_type": "code",
   "execution_count": 74,
   "id": "32657e71-1aa2-4195-abe7-957600c686bb",
   "metadata": {},
   "outputs": [
    {
     "data": {
      "text/plain": [
       "array([[       77,     24000],\n",
       "       [      637,     48000],\n",
       "       [     6240,    264000],\n",
       "       [    62272,   2400000],\n",
       "       [   622587,  24000000],\n",
       "       [  6225744, 238000000],\n",
       "       [  9490464, 350000000],\n",
       "       [ 14151975, 492000000],\n",
       "       [ 18813495, 635000000]])"
      ]
     },
     "execution_count": 74,
     "metadata": {},
     "output_type": "execute_result"
    }
   ],
   "source": [
    "ffly_vals = np.array([line.split(',') for line in \"\"\"77,0.06599998474121094,0.045062166\n",
    "637,0.0559999942779541,0.05616036\n",
    "6240,0.09599995613098145,0.069353025\n",
    "62272,0.20099997520446777,0.102923956\n",
    "622587,1.1700000762939453,0.394356318\n",
    "6225744,14.686000108718872,1.325057611\n",
    "9490464,16.289999961853027,1.954397825\n",
    "14151975,18.880000114440918,2.608548307\n",
    "18813495,31.983999967575073,3.232781232\"\"\".split('\\n')],dtype=float)\n",
    "\n",
    "\n",
    "\n",
    "ffly_disk_sizes = np.array([line.split(',') for line in \"\"\"77,24000\n",
    "637,48000\n",
    "6240,264000\n",
    "62272,2400000\n",
    "622587,24000000\n",
    "6225744,238000000\n",
    "9490464,350000000\n",
    "14151975,492000000\n",
    "18813495,635000000\"\"\".split('\\n')],dtype=int)\n",
    "\n",
    "\n",
    "json_vals = np.array([line.split(',') for line in \"\"\"77,0.0559999942779541,0.021532112\n",
    "637,0.046000003814697266,0.023241817\n",
    "6240,0.08500003814697266,0.032178145\n",
    "62272,0.23200011253356934,0.064776421\n",
    "622587,1.6700000762939453,0.409123759\n",
    "6225744,18.068000078201294,1.2720236\n",
    "9490464,21.130000114440918,1.761668701\n",
    "14151975,28.098999977111816,2.44843447\n",
    "18813495,56.579999923706055,3.249422113\"\"\".split('\\n')],dtype=float)\n",
    "\n",
    "\n",
    "\n",
    "json_disk_sizes = np.array([line.split(',') for line in \"\"\"77,32000\n",
    "637,104000\n",
    "6240,848000\n",
    "62272,8100000\n",
    "622587,81000000\n",
    "6225744,807000000\n",
    "9490464,1100000000\n",
    "14151975,1600000000\n",
    "18813495,2100000000\"\"\".split('\\n')],dtype=int)\n",
    "\n",
    "json_disk_sizes\n",
    "json_vals\n",
    "ffly_vals\n",
    "ffly_disk_sizes"
   ]
  },
  {
   "cell_type": "code",
   "execution_count": 264,
   "id": "6d4cb873-25e9-4827-8770-f2c680726ff5",
   "metadata": {},
   "outputs": [],
   "source": [
    "from abg_python.plot_utils import plt,nameAxes,bufferAxesLabels,latex_columnwidth,clean_savefig\n",
    "%matplotlib inline"
   ]
  },
  {
   "cell_type": "code",
   "execution_count": 270,
   "id": "4cf0cb66-56d1-4f46-b9d7-69d8d746d8a4",
   "metadata": {},
   "outputs": [],
   "source": [
    "import os"
   ]
  },
  {
   "cell_type": "code",
   "execution_count": 124,
   "id": "fe83bca2-a3e0-4483-afb7-1302993554d0",
   "metadata": {},
   "outputs": [],
   "source": [
    "from abg_python.color_utils import get_distinct"
   ]
  },
  {
   "cell_type": "code",
   "execution_count": 126,
   "id": "ff59cbdf-2251-411a-a087-3a59bcf7feca",
   "metadata": {},
   "outputs": [],
   "source": [
    "colors = get_distinct(2)"
   ]
  },
  {
   "cell_type": "code",
   "execution_count": 128,
   "id": "d3debc12-c9d6-4d1d-96e9-1a4c5da17430",
   "metadata": {},
   "outputs": [],
   "source": [
    "plt.rcParams['font.size']=16"
   ]
  },
  {
   "cell_type": "code",
   "execution_count": 289,
   "id": "d498f8e9-ca6f-4266-ac5d-a5c25f3f1cb5",
   "metadata": {},
   "outputs": [
    {
     "data": {
      "image/png": "[encoded data removed]",
      "text/plain": [
       "<Figure size 398.4x796.8 with 3 Axes>"
      ]
     },
     "metadata": {
      "needs_background": "light"
     },
     "output_type": "display_data"
    }
   ],
   "source": [
    "fig,axs = plt.subplots(nrows=3,ncols=1,sharex=True)\n",
    "fig.subplots_adjust(wspace=0,hspace=0)\n",
    "fig.set_size_inches(latex_columnwidth,2*latex_columnwidth)\n",
    "fig.set_dpi(120)"
   ]
  },
  {
   "cell_type": "code",
   "execution_count": 290,
   "id": "a3a2bf1e-4be7-4696-a748-0d12abf7a924",
   "metadata": {},
   "outputs": [],
   "source": [
    "ax = axs[2]\n",
    "ax.plot(ffly_vals[:,0],ffly_vals[:,1],lw=3,c=colors[0])\n",
    "ax.plot(json_vals[:,0],json_vals[:,1],lw=3,c=colors[1])\n",
    "nameAxes(ax,None,'$N_\\mathrm{particles}$','time to load [s]',logflag=(1,0))"
   ]
  },
  {
   "cell_type": "code",
   "execution_count": 291,
   "id": "c2caeb94-a213-462c-84dd-54c8c9c6367c",
   "metadata": {},
   "outputs": [],
   "source": [
    "ax = axs[1]\n",
    "ax.plot(ffly_vals[:,0],ffly_vals[:,2]*1024,lw=3,c=colors[0])\n",
    "ax.plot(json_vals[:,0],json_vals[:,2]*1024,lw=3,c=colors[1])\n",
    "#ax.text(ffly_vals[0,0],ffly_vals[0,2]*1024,'.ffly',va='top')\n",
    "#ax.text(json_vals[0,0],json_vals[0,2]*1024+3,'.json',va='bottom',ha='left')\n",
    "nameAxes(ax,None,'$N_\\mathrm{particles}$','memory [MB]',\n",
    "         logflag=(1,1))"
   ]
  },
  {
   "cell_type": "code",
   "execution_count": 292,
   "id": "e30afbfb-5965-4c8f-8964-cdb1ac61270a",
   "metadata": {},
   "outputs": [
    {
     "name": "stdout",
     "output_type": "stream",
     "text": [
      "saving: /Users/agurvich Desktop/performance.pdf\n"
     ]
    },
    {
     "data": {
      "image/png": "[encoded data removed]",
      "text/plain": [
       "<Figure size 391.691x950.264 with 3 Axes>"
      ]
     },
     "execution_count": 292,
     "metadata": {},
     "output_type": "execute_result"
    }
   ],
   "source": [
    "ax = axs[0]\n",
    "\n",
    "ax.plot(json_disk_sizes[:,0],json_disk_sizes[:,1]/1024**2,label='.json',lw=3,c=colors[1])\n",
    "ax.plot(json_disk_sizes[:,0],json_disk_sizes[:,1]/1024**2/3,label='.json/3',lw=5,c='gray',alpha=0.5,ls='--')\n",
    "ax.plot(ffly_disk_sizes[:,0],ffly_disk_sizes[:,1]/1024**2,label='.ffly',lw=3,c=colors[0])\n",
    "\n",
    "    \n",
    "ax.text(ffly_disk_sizes[-3,0],ffly_disk_sizes[-3,1]/1024**2/2,'.ffly',va='top',ha='center')\n",
    "ax.text(json_disk_sizes[-5,0],json_disk_sizes[-5,1]/1024**2,'.json',va='bottom',ha='right')\n",
    "ax.text(json_disk_sizes[1,0]*1.2,json_disk_sizes[1,1]/1024**2/3*1.2,r'$\\frac{\\mathrm{.json}}{3}$',va='top',ha='left')\n",
    "nameAxes(\n",
    "    ax,\n",
    "    None,\n",
    "    '$N_\\mathrm{particles}$',\n",
    "    'filesize on disk [MB]',\n",
    "    logflag=(1,1))\n",
    "fig.set_facecolor('white')\n",
    "\n",
    "ax.set_xticks(10**np.array([2,3,4,5,6,7]))\n",
    "ax.set_xticklabels([\"$10^{%d}$\"%power for power in [2,3,4,5,6,7]])\n",
    "clean_savefig(fig,'Desktop/performance.pdf',latex_columnwidth,latex_columnwidth*2,plotdir=os.environ['HOME'])\n",
    "fig"
   ]
  }
 ],
 "metadata": {
  "kernelspec": {
   "display_name": "Python 3 (ipykernel)",
   "language": "python",
   "name": "python3"
  },
  "language_info": {
   "codemirror_mode": {
    "name": "ipython",
    "version": 3
   },
   "file_extension": ".py",
   "mimetype": "text/x-python",
   "name": "python",
   "nbconvert_exporter": "python",
   "pygments_lexer": "ipython3",
   "version": "3.9.7"
  }
 },
 "nbformat": 4,
 "nbformat_minor": 5
}
